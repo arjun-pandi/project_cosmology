{
 "cells": [
  {
   "cell_type": "code",
   "execution_count": 1,
   "id": "ace78866-e028-4b15-b036-efeee85f587d",
   "metadata": {},
   "outputs": [
    {
     "name": "stdout",
     "output_type": "stream",
     "text": [
      "WARNING:tensorflow:Please fix your imports. Module tensorflow.python.training.tracking.data_structures has been moved to tensorflow.python.trackable.data_structures. The old module will be deleted in version 2.11.\n"
     ]
    }
   ],
   "source": [
    "#files to be imported\n",
    "import numpy as np\n",
    "from matplotlib import pyplot as plt\n",
    "\n",
    "import os ,sys, platform\n",
    "import time\n",
    "import cosmopower as cp\n",
    "\n",
    "import mpi4py\n",
    "import cobaya\n",
    "from cobaya import run\n",
    "\n",
    "#Planks Values\n",
    "el = np.loadtxt('planks/COM_PowerSpect_CMB-TT-full_R3.01.txt',usecols = 0, skiprows=1,dtype =float)\n",
    "el_te = np.loadtxt('planks/COM_PowerSpect_CMB-TE-full_R3.01.txt',usecols = 0, skiprows=1,dtype =float)\n",
    "Dl_TT = np.loadtxt('planks/COM_PowerSpect_CMB-TT-full_R3.01.txt',usecols = 1, skiprows=1,dtype =float)\n",
    "Dl_TT_err_up = np.loadtxt('planks/COM_PowerSpect_CMB-TT-full_R3.01.txt',usecols = 3, skiprows=1,dtype =float)\n",
    "Dl_TT_err_bot = np.loadtxt('planks/COM_PowerSpect_CMB-TT-full_R3.01.txt',usecols = 2, skiprows=1,dtype =float)\n",
    "Dl_EE = np.loadtxt('planks/COM_PowerSpect_CMB-EE-full_R3.01.txt',usecols = 1, skiprows=1,dtype =float)\n",
    "Dl_EE_err_up = np.loadtxt('planks/COM_PowerSpect_CMB-EE-full_R3.01.txt',usecols = 3, skiprows=1,dtype =float)\n",
    "Dl_EE_err_bot = np.loadtxt('planks/COM_PowerSpect_CMB-EE-full_R3.01.txt',usecols = 2, skiprows=1,dtype =float)\n",
    "Dl_TE = np.loadtxt('planks/COM_PowerSpect_CMB-TE-full_R3.01.txt',usecols = 1, skiprows=1,dtype =float)\n",
    "Dl_TE_err_up = np.loadtxt('planks/COM_PowerSpect_CMB-TE-full_R3.01.txt',usecols = 3, skiprows=1,dtype =float)\n",
    "Dl_TE_err_bot = np.loadtxt('planks/COM_PowerSpect_CMB-TE-full_R3.01.txt',usecols = 2, skiprows=1,dtype =float)\n",
    "#ells\n",
    "dl_fac = el*(el+1)/(2*np.pi)\n",
    "dl_fac_te = el_te*(el_te+1)/(2*np.pi)\n",
    "#COSMOPOWER\n",
    "tt_emu = cp.cosmopower_NN(restore=True,restore_filename='COSMO/cmb_TT_NN')\n",
    "ee_emu = cp.cosmopower_NN(restore=True,restore_filename='COSMO/cmb_EE_NN')\n",
    "te_emu = cp.cosmopower_PCAplusNN(restore=True,restore_filename='COSMO/cmb_TE_PCAplusNN')\n",
    "\n",
    "def chi2(tre,teu,trb,pred): #chi^2 model\n",
    "    #c = ((tre - pred)**2)/((pred)**2)\n",
    "    c = ((tre - pred)**2)/((teu + trb)**2) # (Real - Model)^2/(Error Up + Error Bottom)^2\n",
    "    chi = np.sum(c)\n",
    "    return chi\n",
    "\n",
    "#time ms to order of time\n",
    "def time_hr(ms):\n",
    "    ssm = ms*100\n",
    "    seconds = int(ssm/100)\n",
    "    minutes = int(seconds/60)\n",
    "    hours = int(minutes/60)\n",
    "    days = int(hours/24)\n",
    "    sm = int(ssm - seconds*100)\n",
    "    s = seconds - minutes*60 \n",
    "    m = minutes - hours*60\n",
    "    h = hours - days*24\n",
    "    t = [sm,s,m,h,days]\n",
    "    xi = ''\n",
    "    if days == h == m == s == 0 :\n",
    "        xi = str(sm) +'ms '\n",
    "    elif days == h == m == 0:\n",
    "        xi = str(s) +'s ' + str(sm) +' ms'\n",
    "    elif days == h == 0:\n",
    "        xi = str(m) + ' min ' + str(s) +'s ' + str(sm) +' ms'\n",
    "    elif days == 0:\n",
    "        xi = str(h) + 'hrs '+str(m) + 'min '+str(s) +'s ' + str(sm) +' ms'\n",
    "    else :\n",
    "        xi = str(days) +'days ' + str(h) + 'hrs '+str(m) + 'min '+str(s) +'s ' + str(sm) +' ms' \n",
    "    return xi #time \n",
    "\n",
    "def Find_val(inputrange,array):\n",
    "    #finding the input value for the  minimum chi2 value\n",
    "    min_chi2 = np.argmin(array) #position of minimum chi2\n",
    "    vals = inputrange[min_chi2] #finding Input value of minimum chi2\n",
    "    return vals\n",
    "\n",
    "def Cosmo(xe,ze): # function for Cosmopower\n",
    "    if xe == 'TT':\n",
    "        tt_spectra = tt_emu.ten_to_predictions_np(ze)\n",
    "        CO = tt_spectra[0]*1e12 * 2.73**2. #K^2 to uK^2\n",
    "    elif xe == 'EE':\n",
    "        ee_spectra = ee_emu.ten_to_predictions_np(ze)\n",
    "        CA = ee_spectra[0]*1e12 * 2.73**2. #K^2 to uK^2\n",
    "        CO = CA[:1995] #since planks data as only 1995 values \n",
    "    elif xe == 'TE':\n",
    "        te_spectra = te_emu.predictions_np(ze)\n",
    "        CA = te_spectra[0]*1e12 * 2.73**2. #K^2 to uK^2\n",
    "        CO = CA[:1995] #since planks data as only 1995 values \n",
    "    else:\n",
    "        Print('Check Input Range or Data')\n",
    "    return CO\n",
    "\n",
    "def Cosmo_Power(omb,omc,h,tau,ns,As): #function for single value cosmopower\n",
    "    DET = 'TT'\n",
    "    params = {'omega_b': [omb],'omega_cdm': [omc],'h': [h/100],'tau_reio': [tau],'n_s': [ns],'ln10^{10}A_s': [np.log( 10**10 *(As*1e-9) )],}\n",
    "    Para = [omb,omc,h,tau,ns,As]\n",
    "    if DET=='TT':\n",
    "        pred = Cosmo('TT',params)*dl_fac\n",
    "        chi = chi2(Dl_TT*dl_fac,Dl_TT_err_up*dl_fac,Dl_TT_err_bot*dl_fac,pred*dl_fac)\n",
    "    elif DET=='TE':\n",
    "        pred = Cosmo('TE',params)*dl_fac_te\n",
    "        chi = chi2(Dl_TE,Dl_TE_err_up,Dl_TE_err_bot,pred)\n",
    "    elif DET=='EE':\n",
    "        pred = Cosmo('EE',params)*dl_fac_te\n",
    "        chi = chi2(Dl_EE,Dl_EE_err_up,Dl_EE_err_bot,pred)\n",
    "    reference = [omb,omc,h,tau,ns,As,chi]\n",
    "    return chi #parameter, prediction , chi value"
   ]
  },
  {
   "cell_type": "code",
   "execution_count": 6,
   "id": "221da8da-605b-4ed2-b4b2-0f168256c39f",
   "metadata": {},
   "outputs": [],
   "source": [
    "\n",
    "para = [0.0228,0.1208,67.29,0.0542,0.945,2.0969]"
   ]
  },
  {
   "cell_type": "code",
   "execution_count": 217,
   "id": "67a077d8-53a9-4e5d-9fa3-721bbbc180cb",
   "metadata": {},
   "outputs": [],
   "source": [
    "#1 Dimension Brute Force\n",
    "rangee = np.arange(0,0.6,0.0001)\n",
    "chi_set =[]\n",
    "for i in rangee:\n",
    "    chi1 = 10-np.log(Cosmo_Power(para[0],i,para[2],para[3],para[4],para[5]))\n",
    "    chi_set.append([i,chi1])"
   ]
  },
  {
   "cell_type": "code",
   "execution_count": 89,
   "id": "45c3d799-b5ee-4385-b934-b91599dea416",
   "metadata": {},
   "outputs": [],
   "source": [
    "x = []\n",
    "y = []\n",
    "a = []\n",
    "b = []\n",
    "c= 1\n",
    "r = []\n",
    "rm = [0]\n",
    "for i in chi_set:\n",
    "    e = i[0]\n",
    "    f = i[1])\n",
    "    a.append(e)\n",
    "    x.append(e)\n",
    "    y.append(f)\n",
    "    if f < c:\n",
    "        b.append(0)\n",
    "    else:\n",
    "        b.append(f)\n",
    "        r.append([e,f])\n",
    "        if rm[0]<f:\n",
    "            rm[0]=f\n",
    "        else:\n",
    "            None\n",
    "P_Max = a[np.where(b == rm[0])[0][0]]\n",
    "P_UP_Err = r[-1][0] - P_Max \n",
    "P_BT_Err = P_Max - r[0][0]"
   ]
  },
  {
   "cell_type": "code",
   "execution_count": 143,
   "id": "adbe435f-349d-41d2-b8fd-7183cb7cdd65",
   "metadata": {},
   "outputs": [
    {
     "data": {
      "text/plain": [
       "<matplotlib.legend.Legend at 0x28d601220a0>"
      ]
     },
     "execution_count": 143,
     "metadata": {},
     "output_type": "execute_result"
    },
    {
     "data": {
      "image/png": "[encoded data removed]",
      "text/plain": [
       "<Figure size 640x480 with 1 Axes>"
      ]
     },
     "metadata": {},
     "output_type": "display_data"
    }
   ],
   "source": [
    "plt.plot(x,y)\n",
    "plt.axhline(y=1, color='r', linestyle='-')\n",
    "plt.axvline(x=P_Max, color='green',linestyle='-.', label=\"Predicted\")\n",
    "plt.axvline(x=P_Max - P_BT_Err, color='green',linestyle='dotted', label=\"Bottom Error\")\n",
    "plt.axvline(x=P_Max + P_UP_Err, color='green',linestyle='dotted', label=\"Top Error\")\n",
    "plt.annotate(np.round(P_Max,4), xy=(P_Max, rm[0]), xytext=(P_Max,rm[0]))\n",
    "plt.annotate(np.round(P_BT_Err,4), xy=(P_Max - P_BT_Err, 1), xytext=(P_Max - P_BT_Err +0.005, 1.05),)\n",
    "plt.annotate(np.round(P_UP_Err,4), xy=(P_Max + P_UP_Err, 1), xytext=(P_Max + P_UP_Err +0.005, 1.05),)\n",
    "plt.legend()\n"
   ]
  },
  {
   "cell_type": "code",
   "execution_count": 277,
   "id": "3ce6c87c-ac2a-4bb8-8917-967285c1c0dc",
   "metadata": {},
   "outputs": [],
   "source": [
    "#EMCEE\n",
    "def emcee1(a,o):\n",
    "    s = 10 - np.log(Cosmo_Power(o[0],a[0],o[1],o[2],o[3],o[4]))\n",
    "    \n",
    "    return (s)"
   ]
  },
  {
   "cell_type": "code",
   "execution_count": 414,
   "id": "78682559-29c1-481c-a7c7-e80b6b54ce72",
   "metadata": {},
   "outputs": [],
   "source": [
    "ndim = 1 #Number Of Dimension\n",
    "nwalkers = 50 #Number of Walkers\n",
    "\n",
    "import emcee #import Emcee\n",
    "erty = [0.0228,67.85,0.0546,0.968,2.0196]\n",
    "sampler = emcee.EnsembleSampler(nwalkers, ndim, emcee1, args=[erty])\n",
    "\n",
    "p_initial = []\n",
    "for l in np.arange(nwalkers):\n",
    "    s = np.random.uniform(0,0.9)\n",
    "    p_initial.append([s])\n"
   ]
  },
  {
   "cell_type": "code",
   "execution_count": 415,
   "id": "fbeefca8-ea01-4d9c-94a9-8603f5d2331e",
   "metadata": {},
   "outputs": [
    {
     "name": "stderr",
     "output_type": "stream",
     "text": [
      "  0%|                                                                                          | 0/100 [00:00<?, ?it/s]D:\\Python\\project_cosmology\\cospo\\lib\\site-packages\\cosmopower\\cosmopower_NN.py:336: RuntimeWarning: overflow encountered in exp\n",
      "  layers.append((self.betas_[i] + (1.-self.betas_[i])*1./(1.+np.exp(-self.alphas_[i]*act[-1])))*act[-1])\n",
      "D:\\Python\\project_cosmology\\cospo\\lib\\site-packages\\cosmopower\\cosmopower_NN.py:383: RuntimeWarning: overflow encountered in power\n",
      "  return 10.**self.predictions_np(parameters_dict)\n",
      "C:\\Users\\ELAKIA\\AppData\\Local\\Temp\\ipykernel_1640\\1817034102.py:73: RuntimeWarning: overflow encountered in multiply\n",
      "  CO = tt_spectra[0]*1e12 * 2.73**2. #K^2 to uK^2\n",
      "C:\\Users\\ELAKIA\\AppData\\Local\\Temp\\ipykernel_1640\\1817034102.py:91: RuntimeWarning: overflow encountered in multiply\n",
      "  pred = Cosmo('TT',params)*dl_fac\n",
      "C:\\Users\\ELAKIA\\AppData\\Local\\Temp\\ipykernel_1640\\1817034102.py:92: RuntimeWarning: overflow encountered in multiply\n",
      "  chi = chi2(Dl_TT*dl_fac,Dl_TT_err_up*dl_fac,Dl_TT_err_bot*dl_fac,pred*dl_fac)\n",
      "C:\\Users\\ELAKIA\\AppData\\Local\\Temp\\ipykernel_1640\\1817034102.py:35: RuntimeWarning: overflow encountered in square\n",
      "  c = ((tre - pred)**2)/((teu + trb)**2) # (Real - Model)^2/(Error Up + Error Bottom)^2\n",
      "100%|████████████████████████████████████████████████████████████████████████████████| 100/100 [00:41<00:00,  2.40it/s]\n"
     ]
    }
   ],
   "source": [
    "state = sampler.run_mcmc(p_initial,100,progress = True)\n",
    "sampler.reset()"
   ]
  },
  {
   "cell_type": "code",
   "execution_count": 418,
   "id": "84bc7e78-2ef3-4137-aab2-ecc831617ecd",
   "metadata": {},
   "outputs": [
    {
     "name": "stderr",
     "output_type": "stream",
     "text": [
      "  0%|                                                                                         | 0/1000 [00:00<?, ?it/s]C:\\Users\\ELAKIA\\AppData\\Local\\Temp\\ipykernel_1640\\1817034102.py:35: RuntimeWarning: overflow encountered in square\n",
      "  c = ((tre - pred)**2)/((teu + trb)**2) # (Real - Model)^2/(Error Up + Error Bottom)^2\n",
      "C:\\Users\\ELAKIA\\AppData\\Local\\Temp\\ipykernel_1640\\1817034102.py:73: RuntimeWarning: overflow encountered in multiply\n",
      "  CO = tt_spectra[0]*1e12 * 2.73**2. #K^2 to uK^2\n",
      "C:\\Users\\ELAKIA\\AppData\\Local\\Temp\\ipykernel_1640\\1817034102.py:91: RuntimeWarning: overflow encountered in multiply\n",
      "  pred = Cosmo('TT',params)*dl_fac\n",
      "C:\\Users\\ELAKIA\\AppData\\Local\\Temp\\ipykernel_1640\\1817034102.py:92: RuntimeWarning: overflow encountered in multiply\n",
      "  chi = chi2(Dl_TT*dl_fac,Dl_TT_err_up*dl_fac,Dl_TT_err_bot*dl_fac,pred*dl_fac)\n",
      "100%|██████████████████████████████████████████████████████████████████████████████| 1000/1000 [05:48<00:00,  2.87it/s]\n"
     ]
    }
   ],
   "source": [
    "sampler.run_mcmc(state, 1000,progress = True);"
   ]
  },
  {
   "cell_type": "code",
   "execution_count": 434,
   "id": "ba0bc69c-227f-4d89-85e1-ea91a1e36bfd",
   "metadata": {},
   "outputs": [],
   "source": [
    "flat_samples = sampler.get_chain(discard=100, flat=True)"
   ]
  },
  {
   "cell_type": "code",
   "execution_count": 435,
   "id": "63dcc7f9-67d8-4c17-a95c-78f15d6e7227",
   "metadata": {
    "scrolled": true
   },
   "outputs": [
    {
     "data": {
      "image/png": "[encoded data removed]",
      "text/plain": [
       "<Figure size 340x340 with 1 Axes>"
      ]
     },
     "metadata": {},
     "output_type": "display_data"
    }
   ],
   "source": [
    "import corner\n",
    "\n",
    "fig = corner.corner(\n",
    "    flat_samples,\n",
    "    labels=[\n",
    "        r\"$omb$\",\n",
    "    ],\n",
    "    quantiles=[0.16,0.5,0.84],\n",
    "    show_titles=True,\n",
    "    title_kwargs={\"fontsize\": 12},\n",
    ");"
   ]
  },
  {
   "cell_type": "code",
   "execution_count": 436,
   "id": "24168ebc-840a-4809-96ed-5f0e1754766c",
   "metadata": {},
   "outputs": [
    {
     "data": {
      "text/latex": [
       "$\\displaystyle \\mathrm{omb} = 0.137_{-0.030}^{0.413}$"
      ],
      "text/plain": [
       "<IPython.core.display.Math object>"
      ]
     },
     "metadata": {},
     "output_type": "display_data"
    }
   ],
   "source": [
    "from IPython.display import display, Math\n",
    "labels = [\"omb\"]\n",
    "for i in np.arange(ndim):\n",
    "    mcmc = np.percentile(flat_samples[:, i], [16,50,84])\n",
    "    #print(np.quantile(flat_samples[:, i],[0.16,0.5,0.84]))\n",
    "    q = np.diff(mcmc)\n",
    "    txt = \"\\mathrm{{{3}}} = {0:.3f}_{{-{1:.3f}}}^{{{2:.3f}}}\"\n",
    "    txt = txt.format(mcmc[1], q[0], q[1], labels[i])\n",
    "    display(Math(txt))"
   ]
  },
  {
   "cell_type": "code",
   "execution_count": 441,
   "id": "d149e490-fed3-4d60-834a-06c2068ed4b5",
   "metadata": {},
   "outputs": [
    {
     "name": "stdout",
     "output_type": "stream",
     "text": [
      "(45000,)\n"
     ]
    }
   ],
   "source": [
    "print(np.shape(np.mean(flat_samples,axis=1)))"
   ]
  },
  {
   "cell_type": "code",
   "execution_count": 304,
   "id": "5265d10e-fb6e-4d8a-b79c-3fda7bd4e564",
   "metadata": {},
   "outputs": [],
   "source": [
    "def cobaya_com(omb):\n",
    "    return (10 - np.log(Cosmo_Power(0.0222,omb,68,0.0546,0.964,2.01)))"
   ]
  },
  {
   "cell_type": "code",
   "execution_count": 305,
   "id": "90a53258-51fe-4b3f-a728-bf320d2f9a72",
   "metadata": {
    "scrolled": true
   },
   "outputs": [
    {
     "name": "stdout",
     "output_type": "stream",
     "text": [
      "[cosmo1] Initialized external likelihood.\n",
      "[mcmc] Getting initial point... (this may take a few seconds)\n",
      "[mcmc] Initial point: omb:0.022\n",
      "[model] Measuring speeds... (this may take a few seconds)\n",
      "[model] Setting measured speeds (per sec): {cosmo1: 83.6}\n",
      "[mcmc] Covariance matrix not present. We will start learning the covariance of the proposal earlier: R-1 = 30 (would be 2 if all params loaded).\n",
      "[mcmc] Sampling!\n",
      "[mcmc] Progress @ 2024-08-04 19:05:42 : 1 steps taken, and 0 accepted.\n",
      "[mcmc] Learn + convergence test @ 40 samples accepted.\n",
      "[mcmc]  - Acceptance rate: 1.000\n",
      "[mcmc]  - Convergence of means: R-1 = 1.301509 after 32 accepted steps\n",
      "[mcmc]  - Updated covariance matrix of proposal pdf.\n"
     ]
    },
    {
     "name": "stderr",
     "output_type": "stream",
     "text": [
      "D:\\Python\\project_cosmology\\cospo\\lib\\site-packages\\cobaya\\collection.py:651: FutureWarning: The behavior of array concatenation with empty entries is deprecated. In a future version, this will no longer exclude empty items when determining the result dtype. To retain the old behavior, exclude the empty entries before the concat operation.\n",
      "  self._data = pd.concat([\n"
     ]
    },
    {
     "name": "stdout",
     "output_type": "stream",
     "text": [
      "[mcmc] Learn + convergence test @ 80 samples accepted.\n",
      "[mcmc]  - Acceptance rate: 0.985\n",
      "[mcmc]  - Convergence of means: R-1 = 13.525408 after 64 accepted steps\n",
      "[mcmc]  - Updated covariance matrix of proposal pdf.\n",
      "[mcmc] Learn + convergence test @ 120 samples accepted.\n",
      "[mcmc]  - Acceptance rate: 0.980\n",
      "[mcmc]  - Convergence of means: R-1 = 1.267437 after 96 accepted steps\n",
      "[mcmc]  - Updated covariance matrix of proposal pdf.\n",
      "[mcmc] Learn + convergence test @ 160 samples accepted.\n",
      "[mcmc]  - Acceptance rate: 0.914\n",
      "[mcmc]  - Convergence of means: R-1 = 3.765810 after 128 accepted steps\n",
      "[mcmc]  - Updated covariance matrix of proposal pdf.\n",
      "[mcmc] Learn + convergence test @ 200 samples accepted.\n",
      "[mcmc]  - Acceptance rate: 0.865\n",
      "[mcmc]  - Convergence of means: R-1 = 2.874960 after 160 accepted steps\n",
      "[mcmc]  - Updated covariance matrix of proposal pdf.\n",
      "[mcmc] Learn + convergence test @ 240 samples accepted.\n",
      "[mcmc]  - Acceptance rate: 0.632\n",
      "[mcmc]  - Convergence of means: R-1 = 2.228532 after 192 accepted steps\n",
      "[mcmc]  - Updated covariance matrix of proposal pdf.\n",
      "[mcmc] Learn + convergence test @ 280 samples accepted.\n",
      "[mcmc]  - Acceptance rate: 0.563\n",
      "[mcmc]  - Convergence of means: R-1 = 0.686490 after 224 accepted steps\n",
      "[mcmc]  - Updated covariance matrix of proposal pdf.\n",
      "[mcmc] Learn + convergence test @ 320 samples accepted.\n",
      "[mcmc]  - Acceptance rate: 0.498\n",
      "[mcmc]  - Convergence of means: R-1 = 0.541801 after 256 accepted steps\n",
      "[mcmc]  - Updated covariance matrix of proposal pdf.\n",
      "[mcmc] Learn + convergence test @ 360 samples accepted.\n",
      "[mcmc]  - Acceptance rate: 0.459\n",
      "[mcmc]  - Convergence of means: R-1 = 0.340434 after 288 accepted steps\n",
      "[mcmc]  - Updated covariance matrix of proposal pdf.\n",
      "[mcmc] Learn + convergence test @ 400 samples accepted.\n",
      "[mcmc]  - Acceptance rate: 0.398\n",
      "[mcmc]  - Convergence of means: R-1 = 0.165548 after 320 accepted steps\n",
      "[mcmc]  - Updated covariance matrix of proposal pdf.\n",
      "[mcmc] Learn + convergence test @ 440 samples accepted.\n",
      "[mcmc]  - Acceptance rate: 0.391\n",
      "[mcmc]  - Convergence of means: R-1 = 0.093650 after 352 accepted steps\n",
      "[mcmc]  - Updated covariance matrix of proposal pdf.\n",
      "[mcmc] Learn + convergence test @ 480 samples accepted.\n",
      "[mcmc]  - Acceptance rate: 0.383\n",
      "[mcmc]  - Convergence of means: R-1 = 0.104682 after 384 accepted steps\n",
      "[mcmc]  - Updated covariance matrix of proposal pdf.\n",
      "[mcmc] Learn + convergence test @ 520 samples accepted.\n",
      "[mcmc]  - Acceptance rate: 0.357\n",
      "[mcmc]  - Convergence of means: R-1 = 0.020386 after 416 accepted steps\n",
      "[mcmc]  - Updated covariance matrix of proposal pdf.\n",
      "[mcmc] Learn + convergence test @ 560 samples accepted.\n",
      "[mcmc]  - Acceptance rate: 0.356\n",
      "[mcmc]  - Convergence of means: R-1 = 0.065729 after 448 accepted steps\n",
      "[mcmc]  - Updated covariance matrix of proposal pdf.\n",
      "[mcmc] Learn + convergence test @ 600 samples accepted.\n",
      "[mcmc]  - Acceptance rate: 0.308\n",
      "[mcmc]  - Convergence of means: R-1 = 0.033698 after 480 accepted steps\n",
      "[mcmc]  - Updated covariance matrix of proposal pdf.\n",
      "[mcmc] Learn + convergence test @ 640 samples accepted.\n",
      "[mcmc]  - Acceptance rate: 0.310\n",
      "[mcmc]  - Convergence of means: R-1 = 0.024754 after 512 accepted steps\n",
      "[mcmc]  - Updated covariance matrix of proposal pdf.\n",
      "[mcmc] Learn + convergence test @ 680 samples accepted.\n",
      "[mcmc]  - Acceptance rate: 0.295\n",
      "[mcmc]  - Convergence of means: R-1 = 0.035807 after 544 accepted steps\n",
      "[mcmc]  - Updated covariance matrix of proposal pdf.\n",
      "[mcmc] Learn + convergence test @ 720 samples accepted.\n",
      "[mcmc]  - Acceptance rate: 0.289\n",
      "[mcmc]  - Convergence of means: R-1 = 0.014448 after 576 accepted steps\n",
      "[mcmc]  - Updated covariance matrix of proposal pdf.\n",
      "[mcmc] Learn + convergence test @ 760 samples accepted.\n",
      "[mcmc]  - Acceptance rate: 0.265\n",
      "[mcmc]  - Convergence of means: R-1 = 0.009123 after 608 accepted steps\n",
      "[mcmc]  - Updated covariance matrix of proposal pdf.\n",
      "[mcmc] Learn + convergence test @ 800 samples accepted.\n",
      "[mcmc]  - Acceptance rate: 0.266\n",
      "[mcmc]  - Convergence of means: R-1 = 0.029789 after 640 accepted steps\n",
      "[mcmc]  - Updated covariance matrix of proposal pdf.\n",
      "[mcmc] Learn + convergence test @ 840 samples accepted.\n",
      "[mcmc]  - Acceptance rate: 0.260\n",
      "[mcmc]  - Convergence of means: R-1 = 0.030199 after 672 accepted steps\n",
      "[mcmc]  - Updated covariance matrix of proposal pdf.\n",
      "[mcmc] Learn + convergence test @ 880 samples accepted.\n",
      "[mcmc]  - Acceptance rate: 0.258\n",
      "[mcmc]  - Convergence of means: R-1 = 0.002546 after 704 accepted steps\n",
      "[mcmc]  - Updated covariance matrix of proposal pdf.\n",
      "[mcmc] Learn + convergence test @ 920 samples accepted.\n",
      "[mcmc]  - Acceptance rate: 0.248\n",
      "[mcmc]  - Convergence of means: R-1 = 0.004958 after 736 accepted steps\n",
      "[mcmc]  - Updated covariance matrix of proposal pdf.\n",
      "[mcmc] Learn + convergence test @ 960 samples accepted.\n",
      "[mcmc]  - Acceptance rate: 0.245\n",
      "[mcmc]  - Convergence of means: R-1 = 0.012810 after 768 accepted steps\n",
      "[mcmc]  - Updated covariance matrix of proposal pdf.\n",
      "[mcmc] Learn + convergence test @ 1000 samples accepted.\n",
      "[mcmc]  - Acceptance rate: 0.249\n",
      "[mcmc]  - Convergence of means: R-1 = 0.006978 after 800 accepted steps\n",
      "[mcmc]  - Updated covariance matrix of proposal pdf.\n",
      "[mcmc] Learn + convergence test @ 1040 samples accepted.\n",
      "[mcmc]  - Acceptance rate: 0.253\n",
      "[mcmc]  - Convergence of means: R-1 = 0.008131 after 832 accepted steps\n",
      "[mcmc]  - Updated covariance matrix of proposal pdf.\n",
      "[mcmc] Learn + convergence test @ 1080 samples accepted.\n",
      "[mcmc]  - Acceptance rate: 0.248\n",
      "[mcmc]  - Convergence of means: R-1 = 0.004738 after 864 accepted steps\n",
      "[mcmc]  - Updated covariance matrix of proposal pdf.\n",
      "[mcmc] Learn + convergence test @ 1120 samples accepted.\n",
      "[mcmc]  - Acceptance rate: 0.235\n",
      "[mcmc]  - Convergence of means: R-1 = 0.001769 after 896 accepted steps\n",
      "[mcmc]  - Updated covariance matrix of proposal pdf.\n",
      "[mcmc] Learn + convergence test @ 1160 samples accepted.\n",
      "[mcmc]  - Acceptance rate: 0.238\n",
      "[mcmc]  - Convergence of means: R-1 = 0.002839 after 928 accepted steps\n",
      "[mcmc]  - Updated covariance matrix of proposal pdf.\n",
      "[mcmc] Learn + convergence test @ 1200 samples accepted.\n",
      "[mcmc]  - Acceptance rate: 0.241\n",
      "[mcmc]  - Convergence of means: R-1 = 0.009862 after 960 accepted steps\n",
      "[mcmc]  - Updated covariance matrix of proposal pdf.\n",
      "[mcmc] Learn + convergence test @ 1240 samples accepted.\n",
      "[mcmc]  - Acceptance rate: 0.236\n",
      "[mcmc]  - Convergence of means: R-1 = 0.002603 after 992 accepted steps\n",
      "[mcmc]  - Updated covariance matrix of proposal pdf.\n",
      "[mcmc] Learn + convergence test @ 1280 samples accepted.\n",
      "[mcmc]  - Acceptance rate: 0.227\n",
      "[mcmc]  - Convergence of means: R-1 = 0.010663 after 1024 accepted steps\n",
      "[mcmc]  - Updated covariance matrix of proposal pdf.\n",
      "[mcmc] Learn + convergence test @ 1320 samples accepted.\n",
      "[mcmc]  - Acceptance rate: 0.227\n",
      "[mcmc]  - Convergence of means: R-1 = 0.005032 after 1056 accepted steps\n",
      "[mcmc]  - Updated covariance matrix of proposal pdf.\n",
      "[mcmc] Learn + convergence test @ 1360 samples accepted.\n",
      "[mcmc]  - Acceptance rate: 0.222\n",
      "[mcmc]  - Convergence of means: R-1 = 0.004967 after 1088 accepted steps\n",
      "[mcmc]  - Updated covariance matrix of proposal pdf.\n",
      "[mcmc] Learn + convergence test @ 1400 samples accepted.\n",
      "[mcmc]  - Acceptance rate: 0.218\n",
      "[mcmc]  - Convergence of means: R-1 = 0.007777 after 1120 accepted steps\n",
      "[mcmc]  - Updated covariance matrix of proposal pdf.\n",
      "[mcmc] Learn + convergence test @ 1440 samples accepted.\n",
      "[mcmc]  - Acceptance rate: 0.214\n",
      "[mcmc]  - Convergence of means: R-1 = 0.010881 after 1152 accepted steps\n",
      "[mcmc]  - Updated covariance matrix of proposal pdf.\n",
      "[mcmc] Learn + convergence test @ 1480 samples accepted.\n",
      "[mcmc]  - Acceptance rate: 0.216\n",
      "[mcmc]  - Convergence of means: R-1 = 0.012452 after 1184 accepted steps\n",
      "[mcmc]  - Updated covariance matrix of proposal pdf.\n",
      "[mcmc] Learn + convergence test @ 1520 samples accepted.\n",
      "[mcmc]  - Acceptance rate: 0.212\n",
      "[mcmc]  - Convergence of means: R-1 = 0.016309 after 1216 accepted steps\n",
      "[mcmc]  - Updated covariance matrix of proposal pdf.\n",
      "[mcmc] Learn + convergence test @ 1560 samples accepted.\n",
      "[mcmc]  - Acceptance rate: 0.208\n",
      "[mcmc]  - Convergence of means: R-1 = 0.010295 after 1248 accepted steps\n",
      "[mcmc]  - Updated covariance matrix of proposal pdf.\n",
      "[mcmc] Learn + convergence test @ 1600 samples accepted.\n",
      "[mcmc]  - Acceptance rate: 0.206\n",
      "[mcmc]  - Convergence of means: R-1 = 0.005379 after 1280 accepted steps\n",
      "[mcmc]  - Updated covariance matrix of proposal pdf.\n",
      "[mcmc] Learn + convergence test @ 1640 samples accepted.\n",
      "[mcmc]  - Acceptance rate: 0.208\n",
      "[mcmc]  - Convergence of means: R-1 = 0.004036 after 1312 accepted steps\n",
      "[mcmc]  - Updated covariance matrix of proposal pdf.\n",
      "[mcmc] Learn + convergence test @ 1680 samples accepted.\n",
      "[mcmc]  - Acceptance rate: 0.210\n",
      "[mcmc]  - Convergence of means: R-1 = 0.005906 after 1344 accepted steps\n",
      "[mcmc]  - Updated covariance matrix of proposal pdf.\n",
      "[mcmc] Learn + convergence test @ 1720 samples accepted.\n",
      "[mcmc]  - Acceptance rate: 0.210\n",
      "[mcmc]  - Convergence of means: R-1 = 0.008310 after 1376 accepted steps\n",
      "[mcmc]  - Updated covariance matrix of proposal pdf.\n",
      "[mcmc] Learn + convergence test @ 1760 samples accepted.\n",
      "[mcmc]  - Acceptance rate: 0.211\n",
      "[mcmc]  - Convergence of means: R-1 = 0.004818 after 1408 accepted steps\n",
      "[mcmc]  - Updated covariance matrix of proposal pdf.\n",
      "[mcmc] Learn + convergence test @ 1800 samples accepted.\n",
      "[mcmc]  - Acceptance rate: 0.211\n",
      "[mcmc]  - Convergence of means: R-1 = 0.006610 after 1440 accepted steps\n",
      "[mcmc]  - Updated covariance matrix of proposal pdf.\n",
      "[mcmc] Learn + convergence test @ 1840 samples accepted.\n",
      "[mcmc]  - Acceptance rate: 0.209\n",
      "[mcmc]  - Convergence of means: R-1 = 0.001670 after 1472 accepted steps\n",
      "[mcmc]  - Updated covariance matrix of proposal pdf.\n",
      "[mcmc] Learn + convergence test @ 1880 samples accepted.\n",
      "[mcmc]  - Acceptance rate: 0.211\n",
      "[mcmc]  - Convergence of means: R-1 = 0.002176 after 1504 accepted steps\n",
      "[mcmc]  - Updated covariance matrix of proposal pdf.\n",
      "[mcmc] Learn + convergence test @ 1920 samples accepted.\n",
      "[mcmc]  - Acceptance rate: 0.214\n",
      "[mcmc]  - Convergence of means: R-1 = 0.008734 after 1536 accepted steps\n",
      "[mcmc]  - Updated covariance matrix of proposal pdf.\n",
      "[mcmc] Learn + convergence test @ 1960 samples accepted.\n",
      "[mcmc]  - Acceptance rate: 0.212\n",
      "[mcmc]  - Convergence of means: R-1 = 0.010808 after 1568 accepted steps\n",
      "[mcmc]  - Updated covariance matrix of proposal pdf.\n",
      "[mcmc] Learn + convergence test @ 2000 samples accepted.\n",
      "[mcmc]  - Acceptance rate: 0.212\n",
      "[mcmc]  - Convergence of means: R-1 = 0.013174 after 1600 accepted steps\n",
      "[mcmc]  - Updated covariance matrix of proposal pdf.\n",
      "[mcmc] Learn + convergence test @ 2040 samples accepted.\n",
      "[mcmc]  - Acceptance rate: 0.209\n",
      "[mcmc]  - Convergence of means: R-1 = 0.009619 after 1632 accepted steps\n",
      "[mcmc]  - Updated covariance matrix of proposal pdf.\n",
      "[mcmc] Learn + convergence test @ 2080 samples accepted.\n",
      "[mcmc]  - Acceptance rate: 0.211\n",
      "[mcmc]  - Convergence of means: R-1 = 0.005729 after 1664 accepted steps\n",
      "[mcmc]  - Updated covariance matrix of proposal pdf.\n",
      "[mcmc] Learn + convergence test @ 2120 samples accepted.\n",
      "[mcmc]  - Acceptance rate: 0.210\n",
      "[mcmc]  - Convergence of means: R-1 = 0.002021 after 1696 accepted steps\n",
      "[mcmc]  - Updated covariance matrix of proposal pdf.\n",
      "[mcmc] Learn + convergence test @ 2160 samples accepted.\n",
      "[mcmc]  - Acceptance rate: 0.210\n",
      "[mcmc]  - Convergence of means: R-1 = 0.002509 after 1728 accepted steps\n",
      "[mcmc]  - Updated covariance matrix of proposal pdf.\n",
      "[mcmc] Learn + convergence test @ 2200 samples accepted.\n",
      "[mcmc]  - Acceptance rate: 0.212\n",
      "[mcmc]  - Convergence of means: R-1 = 0.001941 after 1760 accepted steps\n",
      "[mcmc]  - Updated covariance matrix of proposal pdf.\n",
      "[mcmc] Learn + convergence test @ 2240 samples accepted.\n",
      "[mcmc]  - Acceptance rate: 0.213\n",
      "[mcmc]  - Convergence of means: R-1 = 0.001646 after 1792 accepted steps\n",
      "[mcmc]  - Updated covariance matrix of proposal pdf.\n",
      "[mcmc] Learn + convergence test @ 2280 samples accepted.\n",
      "[mcmc]  - Acceptance rate: 0.211\n",
      "[mcmc]  - Convergence of means: R-1 = 0.000504 after 1824 accepted steps\n",
      "[mcmc]  - Updated covariance matrix of proposal pdf.\n",
      "[mcmc] Learn + convergence test @ 2320 samples accepted.\n",
      "[mcmc]  - Acceptance rate: 0.209\n",
      "[mcmc]  - Convergence of means: R-1 = 0.000050 after 1856 accepted steps\n",
      "[mcmc]  - Convergence of bounds: R-1 = 0.005016 after 2320 accepted steps\n",
      "[mcmc] The run has converged!\n",
      "[mcmc] Sampling complete after 2320 accepted steps.\n"
     ]
    }
   ],
   "source": [
    "#COBAYA\n",
    "# below is parameters for 6 parameter cosmopower\n",
    "info = {\"likelihood\": {\"cosmo1\": cobaya_com}}\n",
    "info[\"params\"] = {\n",
    "    \"omb\": {\"prior\": {\"min\": 0.001, \"max\": 0.9}, \"ref\": 0.022, \"proposal\": 0.0001},\n",
    "}\n",
    "info[\"sampler\"] = {\"mcmc\": {\"Rminus1_stop\": 0.001, \"max_tries\": 1000}}\n",
    "updated_info, sampler = run(info)"
   ]
  },
  {
   "cell_type": "code",
   "execution_count": 306,
   "id": "a0cbaf88-9ed9-4a59-a101-fd576faa80a7",
   "metadata": {},
   "outputs": [
    {
     "name": "stdout",
     "output_type": "stream",
     "text": [
      "[mcmc] *WARNING* When combining chains, it is recommended to remove some initial fraction, e.g. 'skip_samples=0.3'\n",
      "[root] *WARNING* outlier fraction 0.04310344827586207 \n",
      "(2320,)\n"
     ]
    },
    {
     "data": {
      "image/png": "[encoded data removed]",
      "text/plain": [
       "<Figure size 500x500 with 1 Axes>"
      ]
     },
     "metadata": {},
     "output_type": "display_data"
    }
   ],
   "source": [
    "%matplotlib inline\n",
    "import getdist.plots as gdplt\n",
    "\n",
    "gdsamples = sampler.products(to_getdist=True)[\"sample\"]\n",
    "gdplot = gdplt.get_subplot_plotter(width_inch=5)\n",
    "gdplot.triangle_plot(gdsamples, [\"omb\"], filled=True)\n",
    "print(np.shape(gdsamples[2]))"
   ]
  },
  {
   "cell_type": "code",
   "execution_count": 412,
   "id": "f015bb8f-1423-4de9-81d3-4a17f98852d5",
   "metadata": {},
   "outputs": [
    {
     "name": "stdout",
     "output_type": "stream",
     "text": [
      "For the parameter  omb  The acquired value is 0.11300068470320374\n",
      "0.12078779713715176\n"
     ]
    }
   ],
   "source": [
    "p = [\"omb\",\"omc\",\"h\",\"tau\",\"ns\",\"AS\"]\n",
    "s = gdsamples.samples[np.argmin(gdsamples.loglikes)]\n",
    "for i in np.arange(1):\n",
    "    print(\"For the parameter \",p[i],\" The acquired value is\",s[i])\n",
    "\n",
    "x = []\n",
    "y = []\n",
    "\n",
    "for i in np.arange(np.shape(gdsamples[0])[0]):\n",
    "    x.append(gdsamples[0][i])\n",
    "    y.append(gdsamples[1][i])\n",
    "\n",
    "\n",
    "x1 = np.sort(x)\n",
    "x2 = []\n",
    "for i in x1:\n",
    "    x2.append(i)\n",
    "y1 = []\n",
    "yc = []\n",
    "ymax = 0 \n",
    "for i in x2:\n",
    "    rpos  = x.index(i)\n",
    "    y4 = -y[rpos]\n",
    "    y1.append(y4)\n",
    "    if y4 < 1:\n",
    "        None\n",
    "    else:\n",
    "        yc.append([i,y4])\n",
    "        if ymax < y4:\n",
    "            ymax = y4\n",
    "        else:\n",
    "            None\n",
    "Ps_Max = x2[np.where(y1 == ymax)[0][0]]\n",
    "Ps_UP = yc[-1][0] - Ps_Max \n",
    "Ps_BT = Ps_Max - yc[0][0] \n",
    "print(Ps_UP)"
   ]
  },
  {
   "cell_type": "code",
   "execution_count": 413,
   "id": "9916fb78-5537-4fdd-bb59-092396afd38b",
   "metadata": {},
   "outputs": [
    {
     "data": {
      "text/plain": [
       "<matplotlib.legend.Legend at 0x28d62625c40>"
      ]
     },
     "execution_count": 413,
     "metadata": {},
     "output_type": "execute_result"
    },
    {
     "data": {
      "image/png": "[encoded data removed]",
      "text/plain": [
       "<Figure size 640x480 with 1 Axes>"
      ]
     },
     "metadata": {},
     "output_type": "display_data"
    }
   ],
   "source": [
    "plt.plot(x2,y1)\n",
    "plt.axhline(y=1, color='r', linestyle='-')\n",
    "plt.axvline(x=Ps_Max, color='green',linestyle='-.', label=\"Predicted\")\n",
    "plt.axvline(x=Ps_Max - Ps_BT, color='green',linestyle='dotted', label=\"Bottom Error\")\n",
    "plt.axvline(x=Ps_Max + Ps_UP, color='green',linestyle='dotted', label=\"Top Error\")\n",
    "plt.annotate(np.round(Ps_Max,4), xy=(Ps_Max, rm[0]), xytext=(Ps_Max,ymax))\n",
    "plt.annotate(np.round(Ps_BT,4), xy=(Ps_Max - Ps_BT, 1), xytext=(Ps_Max - Ps_BT +0.005, 1.05),)\n",
    "plt.annotate(np.round(Ps_UP,4), xy=(Ps_Max + Ps_UP, 1), xytext=(Ps_Max + Ps_UP +0.005, 1.05),)\n",
    "plt.legend()"
   ]
  }
 ],
 "metadata": {
  "kernelspec": {
   "display_name": "Python 3 (ipykernel)",
   "language": "python",
   "name": "python3"
  },
  "language_info": {
   "codemirror_mode": {
    "name": "ipython",
    "version": 3
   },
   "file_extension": ".py",
   "mimetype": "text/x-python",
   "name": "python",
   "nbconvert_exporter": "python",
   "pygments_lexer": "ipython3",
   "version": "3.9.7"
  }
 },
 "nbformat": 4,
 "nbformat_minor": 5
}
