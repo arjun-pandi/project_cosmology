{
 "cells": [
  {
   "cell_type": "code",
   "execution_count": 12,
   "id": "3828cfb9-b4e2-4061-a3d4-e202ef35244d",
   "metadata": {},
   "outputs": [],
   "source": [
    "#files to be imported\n",
    "import numpy as np\n",
    "from matplotlib import pyplot as plt\n",
    "\n",
    "import os ,sys, platform\n",
    "import time\n",
    "import cosmopower as cp\n",
    "\n",
    "import mpi4py\n",
    "import cobaya\n",
    "from cobaya import run\n",
    "\n",
    "#Planks Values\n",
    "el = np.loadtxt('planks/COM_PowerSpect_CMB-TT-full_R3.01.txt',usecols = 0, skiprows=1,dtype =float)[31:]\n",
    "el_te = np.loadtxt('planks/COM_PowerSpect_CMB-TE-full_R3.01.txt',usecols = 0, skiprows=1,dtype =float)\n",
    "Dl_TT = np.loadtxt('planks/COM_PowerSpect_CMB-TT-full_R3.01.txt',usecols = 1, skiprows=1,dtype =float)[31:]\n",
    "Dl_TT_err_up = np.loadtxt('planks/COM_PowerSpect_CMB-TT-full_R3.01.txt',usecols = 3, skiprows=1,dtype =float)[31:]\n",
    "Dl_TT_err_bot = np.loadtxt('planks/COM_PowerSpect_CMB-TT-full_R3.01.txt',usecols = 2, skiprows=1,dtype =float)[31:]\n",
    "Dl_EE = np.loadtxt('planks/COM_PowerSpect_CMB-EE-full_R3.01.txt',usecols = 1, skiprows=1,dtype =float)\n",
    "Dl_EE_err_up = np.loadtxt('planks/COM_PowerSpect_CMB-EE-full_R3.01.txt',usecols = 3, skiprows=1,dtype =float)\n",
    "Dl_EE_err_bot = np.loadtxt('planks/COM_PowerSpect_CMB-EE-full_R3.01.txt',usecols = 2, skiprows=1,dtype =float)\n",
    "Dl_TE = np.loadtxt('planks/COM_PowerSpect_CMB-TE-full_R3.01.txt',usecols = 1, skiprows=1,dtype =float)\n",
    "Dl_TE_err_up = np.loadtxt('planks/COM_PowerSpect_CMB-TE-full_R3.01.txt',usecols = 3, skiprows=1,dtype =float)\n",
    "Dl_TE_err_bot = np.loadtxt('planks/COM_PowerSpect_CMB-TE-full_R3.01.txt',usecols = 2, skiprows=1,dtype =float)\n",
    "#ells\n",
    "dl_fac = el*(el+1)/(2*np.pi)\n",
    "dl_fac_te = el_te*(el_te+1)/(2*np.pi)\n",
    "#COSMOPOWER\n",
    "tt_emu = cp.cosmopower_NN(restore=True,restore_filename='COSMO/cmb_TT_NN')\n",
    "ee_emu = cp.cosmopower_NN(restore=True,restore_filename='COSMO/cmb_EE_NN')\n",
    "te_emu = cp.cosmopower_PCAplusNN(restore=True,restore_filename='COSMO/cmb_TE_PCAplusNN')\n",
    "\n",
    "def chi2(tre,teu,trb,pred): #chi^2 model\n",
    "    #c = ((tre - pred)**2)/((pred)**2)\n",
    "    c = ((tre - pred)**2)/((teu + trb)**2) # (Real - Model)^2/(Error Up + Error Bottom)^2\n",
    "    chi = np.sum(c)\n",
    "    return chi\n",
    "\n",
    "#time ms to order of time\n",
    "def time_hr(ms):\n",
    "    ssm = ms*100\n",
    "    seconds = int(ssm/100)\n",
    "    minutes = int(seconds/60)\n",
    "    hours = int(minutes/60)\n",
    "    days = int(hours/24)\n",
    "    sm = int(ssm - seconds*100)\n",
    "    s = seconds - minutes*60 \n",
    "    m = minutes - hours*60\n",
    "    h = hours - days*24\n",
    "    t = [sm,s,m,h,days]\n",
    "    xi = ''\n",
    "    if days == h == m == s == 0 :\n",
    "        xi = str(sm) +'ms '\n",
    "    elif days == h == m == 0:\n",
    "        xi = str(s) +'s ' + str(sm) +' ms'\n",
    "    elif days == h == 0:\n",
    "        xi = str(m) + ' min ' + str(s) +'s ' + str(sm) +' ms'\n",
    "    elif days == 0:\n",
    "        xi = str(h) + 'hrs '+str(m) + 'min '+str(s) +'s ' + str(sm) +' ms'\n",
    "    else :\n",
    "        xi = str(days) +'days ' + str(h) + 'hrs '+str(m) + 'min '+str(s) +'s ' + str(sm) +' ms' \n",
    "    return xi #time \n",
    "\n",
    "def Find_val(inputrange,array):\n",
    "    #finding the input value for the  minimum chi2 value\n",
    "    min_chi2 = np.argmin(array) #position of minimum chi2\n",
    "    vals = inputrange[min_chi2] #finding Input value of minimum chi2\n",
    "    return vals\n",
    "\n",
    "def Cosmo(xe,ze): # function for Cosmopower\n",
    "    if xe == 'TT':\n",
    "        tt_spectra = tt_emu.ten_to_predictions_np(ze)\n",
    "        CO = tt_spectra[0]*1e12 * 2.73**2. #K^2 to uK^2\n",
    "    elif xe == 'EE':\n",
    "        ee_spectra = ee_emu.ten_to_predictions_np(ze)\n",
    "        CA = ee_spectra[0]*1e12 * 2.73**2. #K^2 to uK^2\n",
    "        CO = CA[:1995] #since planks data as only 1995 values \n",
    "    elif xe == 'TE':\n",
    "        te_spectra = te_emu.predictions_np(ze)\n",
    "        CA = te_spectra[0]*1e12 * 2.73**2. #K^2 to uK^2\n",
    "        CO = CA[:1995] #since planks data as only 1995 values \n",
    "    else:\n",
    "        Print('Check Input Range or Data')\n",
    "    return CO\n",
    "\n",
    "def Cosmo_Power(omb,omc,h,tau,ns,As): #function for single value cosmopower\n",
    "    DET = 'TT'\n",
    "    params = {'omega_b': [omb],'omega_cdm': [omc],'h': [h/100],'tau_reio': [tau],'n_s': [ns],'ln10^{10}A_s': [np.log( 10**10 *(As*1e-9) )],}\n",
    "    Para = [omb,omc,h,tau,ns,As]\n",
    "    if DET=='TT':\n",
    "        pred = Cosmo('TT',params)[31:]*dl_fac\n",
    "        chi = chi2(Dl_TT*dl_fac,Dl_TT_err_up*dl_fac,Dl_TT_err_bot*dl_fac,pred*dl_fac)\n",
    "    elif DET=='TE':\n",
    "        pred = Cosmo('TE',params)*dl_fac_te\n",
    "        chi = chi2(Dl_TE,Dl_TE_err_up,Dl_TE_err_bot,pred)\n",
    "    elif DET=='EE':\n",
    "        pred = Cosmo('EE',params)*dl_fac_te\n",
    "        chi = chi2(Dl_EE,Dl_EE_err_up,Dl_EE_err_bot,pred)\n",
    "    reference = [omb,omc,h,tau,ns,As,chi]\n",
    "    return chi #parameter, prediction , chi value\n",
    "\n",
    "def cobaya_com(Dpar):\n",
    "    return (10 - np.log(Cosmo_Power(Dpar,0.12,68,0.0546,0.964,2.01)))"
   ]
  },
  {
   "cell_type": "code",
   "execution_count": 13,
   "id": "b8f6fbfb-2870-4794-aed5-b085773cb7a9",
   "metadata": {},
   "outputs": [],
   "source": [
    "def cobaya_com1(omb,omc):\n",
    "    return (10 - np.log(Cosmo_Power(omb,omc,68,0.0546,0.964,2.01)))"
   ]
  },
  {
   "cell_type": "code",
   "execution_count": 19,
   "id": "6e167694-9b00-4184-ab09-f5ff880868df",
   "metadata": {
    "scrolled": true
   },
   "outputs": [
    {
     "name": "stdout",
     "output_type": "stream",
     "text": [
      "[cosmo1] Initialized external likelihood.\n",
      "[mcmc] Getting initial point... (this may take a few seconds)\n",
      "[mcmc] Initial point: omb:0.022, omc:0.12\n",
      "[model] Measuring speeds... (this may take a few seconds)\n",
      "[model] Setting measured speeds (per sec): {cosmo1: 150.0}\n",
      "[mcmc] Covariance matrix not present. We will start learning the covariance of the proposal earlier: R-1 = 30 (would be 2 if all params loaded).\n",
      "[mcmc] Sampling!\n",
      "[mcmc] Progress @ 2024-06-11 20:05:33 : 1 steps taken, and 0 accepted.\n",
      "[mcmc] Learn + convergence test @ 80 samples accepted.\n",
      "[mcmc]  - Acceptance rate: 1.000\n",
      "[mcmc]  - Convergence of means: R-1 = 12.620820 after 64 accepted steps\n",
      "[mcmc]  - Updated covariance matrix of proposal pdf.\n"
     ]
    },
    {
     "name": "stderr",
     "output_type": "stream",
     "text": [
      "D:\\Python\\project_cosmology\\cospo\\lib\\site-packages\\cobaya\\collection.py:651: FutureWarning: The behavior of array concatenation with empty entries is deprecated. In a future version, this will no longer exclude empty items when determining the result dtype. To retain the old behavior, exclude the empty entries before the concat operation.\n",
      "  self._data = pd.concat([\n"
     ]
    },
    {
     "name": "stdout",
     "output_type": "stream",
     "text": [
      "[mcmc] Learn + convergence test @ 160 samples accepted.\n",
      "[mcmc]  - Acceptance rate: 0.977\n",
      "[mcmc]  - Convergence of means: R-1 = 6.981053 after 128 accepted steps\n",
      "[mcmc]  - Updated covariance matrix of proposal pdf.\n",
      "[mcmc] Learn + convergence test @ 240 samples accepted.\n",
      "[mcmc]  - Acceptance rate: 0.965\n",
      "[mcmc]  - Convergence of means: R-1 = 11.544898 after 192 accepted steps\n",
      "[mcmc]  - Updated covariance matrix of proposal pdf.\n",
      "[mcmc] Learn + convergence test @ 320 samples accepted.\n",
      "[mcmc]  - Acceptance rate: 0.898\n",
      "[mcmc]  - Convergence of means: R-1 = 0.982521 after 256 accepted steps\n",
      "[mcmc]  - Updated covariance matrix of proposal pdf.\n",
      "[mcmc] Learn + convergence test @ 400 samples accepted.\n",
      "[mcmc]  - Acceptance rate: 0.829\n",
      "[mcmc]  - Convergence of means: R-1 = 0.807685 after 320 accepted steps\n",
      "[mcmc]  - Updated covariance matrix of proposal pdf.\n",
      "[mcmc] Learn + convergence test @ 480 samples accepted.\n",
      "[mcmc]  - Acceptance rate: 0.763\n",
      "[mcmc]  - Convergence of means: R-1 = 0.724186 after 384 accepted steps\n",
      "[mcmc]  - Updated covariance matrix of proposal pdf.\n",
      "[mcmc] Learn + convergence test @ 560 samples accepted.\n",
      "[mcmc]  - Acceptance rate: 0.634\n",
      "[mcmc]  - Convergence of means: R-1 = 0.371971 after 448 accepted steps\n",
      "[mcmc]  - Updated covariance matrix of proposal pdf.\n",
      "[mcmc] Learn + convergence test @ 640 samples accepted.\n",
      "[mcmc]  - Acceptance rate: 0.603\n",
      "[mcmc]  - Convergence of means: R-1 = 1.134497 after 512 accepted steps\n",
      "[mcmc]  - Updated covariance matrix of proposal pdf.\n",
      "[mcmc] Learn + convergence test @ 720 samples accepted.\n",
      "[mcmc]  - Acceptance rate: 0.552\n",
      "[mcmc]  - Convergence of means: R-1 = 1.290870 after 576 accepted steps\n",
      "[mcmc]  - Updated covariance matrix of proposal pdf.\n",
      "[mcmc] Learn + convergence test @ 800 samples accepted.\n",
      "[mcmc]  - Acceptance rate: 0.494\n",
      "[mcmc]  - Convergence of means: R-1 = 0.527309 after 640 accepted steps\n",
      "[mcmc]  - Updated covariance matrix of proposal pdf.\n",
      "[mcmc] Learn + convergence test @ 880 samples accepted.\n",
      "[mcmc]  - Acceptance rate: 0.441\n",
      "[mcmc]  - Convergence of means: R-1 = 0.792130 after 704 accepted steps\n",
      "[mcmc]  - Updated covariance matrix of proposal pdf.\n"
     ]
    },
    {
     "name": "stderr",
     "output_type": "stream",
     "text": [
      "C:\\Users\\ELAKIA\\AppData\\Local\\Temp\\ipykernel_18860\\3287485652.py:35: RuntimeWarning: overflow encountered in square\n",
      "  c = ((tre - pred)**2)/((teu + trb)**2) # (Real - Model)^2/(Error Up + Error Bottom)^2\n"
     ]
    },
    {
     "name": "stdout",
     "output_type": "stream",
     "text": [
      "[mcmc] Learn + convergence test @ 960 samples accepted.\n",
      "[mcmc]  - Acceptance rate: 0.392\n",
      "[mcmc]  - Convergence of means: R-1 = 0.600489 after 768 accepted steps\n",
      "[mcmc]  - Updated covariance matrix of proposal pdf.\n",
      "[mcmc] Learn + convergence test @ 1040 samples accepted.\n",
      "[mcmc]  - Acceptance rate: 0.366\n",
      "[mcmc]  - Convergence of means: R-1 = 0.249422 after 832 accepted steps\n",
      "[mcmc]  - Updated covariance matrix of proposal pdf.\n",
      "[mcmc] Learn + convergence test @ 1120 samples accepted.\n",
      "[mcmc]  - Acceptance rate: 0.354\n",
      "[mcmc]  - Convergence of means: R-1 = 0.253457 after 896 accepted steps\n",
      "[mcmc]  - Updated covariance matrix of proposal pdf.\n",
      "[mcmc] Learn + convergence test @ 1200 samples accepted.\n",
      "[mcmc]  - Acceptance rate: 0.343\n",
      "[mcmc]  - Convergence of means: R-1 = 0.233086 after 960 accepted steps\n",
      "[mcmc]  - Updated covariance matrix of proposal pdf.\n"
     ]
    },
    {
     "name": "stderr",
     "output_type": "stream",
     "text": [
      "C:\\Users\\ELAKIA\\AppData\\Local\\Temp\\ipykernel_18860\\3287485652.py:35: RuntimeWarning: overflow encountered in square\n",
      "  c = ((tre - pred)**2)/((teu + trb)**2) # (Real - Model)^2/(Error Up + Error Bottom)^2\n"
     ]
    },
    {
     "name": "stdout",
     "output_type": "stream",
     "text": [
      "[mcmc] Learn + convergence test @ 1280 samples accepted.\n",
      "[mcmc]  - Acceptance rate: 0.327\n",
      "[mcmc]  - Convergence of means: R-1 = 0.320860 after 1024 accepted steps\n",
      "[mcmc]  - Updated covariance matrix of proposal pdf.\n",
      "[mcmc] Learn + convergence test @ 1360 samples accepted.\n",
      "[mcmc]  - Acceptance rate: 0.314\n",
      "[mcmc]  - Convergence of means: R-1 = 0.327238 after 1088 accepted steps\n",
      "[mcmc]  - Updated covariance matrix of proposal pdf.\n"
     ]
    },
    {
     "name": "stderr",
     "output_type": "stream",
     "text": [
      "C:\\Users\\ELAKIA\\AppData\\Local\\Temp\\ipykernel_18860\\3287485652.py:35: RuntimeWarning: overflow encountered in square\n",
      "  c = ((tre - pred)**2)/((teu + trb)**2) # (Real - Model)^2/(Error Up + Error Bottom)^2\n"
     ]
    },
    {
     "name": "stdout",
     "output_type": "stream",
     "text": [
      "[mcmc] Learn + convergence test @ 1440 samples accepted.\n",
      "[mcmc]  - Acceptance rate: 0.301\n",
      "[mcmc]  - Convergence of means: R-1 = 0.172566 after 1152 accepted steps\n",
      "[mcmc]  - Updated covariance matrix of proposal pdf.\n",
      "[mcmc] Learn + convergence test @ 1520 samples accepted.\n",
      "[mcmc]  - Acceptance rate: 0.296\n",
      "[mcmc]  - Convergence of means: R-1 = 0.091396 after 1216 accepted steps\n",
      "[mcmc]  - Updated covariance matrix of proposal pdf.\n",
      "[mcmc] Learn + convergence test @ 1600 samples accepted.\n",
      "[mcmc]  - Acceptance rate: 0.290\n",
      "[mcmc]  - Convergence of means: R-1 = 0.056621 after 1280 accepted steps\n",
      "[mcmc]  - Updated covariance matrix of proposal pdf.\n"
     ]
    },
    {
     "name": "stderr",
     "output_type": "stream",
     "text": [
      "C:\\Users\\ELAKIA\\AppData\\Local\\Temp\\ipykernel_18860\\3287485652.py:35: RuntimeWarning: overflow encountered in square\n",
      "  c = ((tre - pred)**2)/((teu + trb)**2) # (Real - Model)^2/(Error Up + Error Bottom)^2\n"
     ]
    },
    {
     "name": "stdout",
     "output_type": "stream",
     "text": [
      "[mcmc] Learn + convergence test @ 1680 samples accepted.\n",
      "[mcmc]  - Acceptance rate: 0.285\n",
      "[mcmc]  - Convergence of means: R-1 = 0.045813 after 1344 accepted steps\n",
      "[mcmc]  - Updated covariance matrix of proposal pdf.\n",
      "[mcmc] Learn + convergence test @ 1760 samples accepted.\n",
      "[mcmc]  - Acceptance rate: 0.271\n",
      "[mcmc]  - Convergence of means: R-1 = 0.023359 after 1408 accepted steps\n",
      "[mcmc]  - Updated covariance matrix of proposal pdf.\n"
     ]
    },
    {
     "name": "stderr",
     "output_type": "stream",
     "text": [
      "D:\\Python\\project_cosmology\\cospo\\lib\\site-packages\\cosmopower\\cosmopower_NN.py:336: RuntimeWarning: overflow encountered in exp\n",
      "  layers.append((self.betas_[i] + (1.-self.betas_[i])*1./(1.+np.exp(-self.alphas_[i]*act[-1])))*act[-1])\n",
      "C:\\Users\\ELAKIA\\AppData\\Local\\Temp\\ipykernel_18860\\3287485652.py:35: RuntimeWarning: overflow encountered in square\n",
      "  c = ((tre - pred)**2)/((teu + trb)**2) # (Real - Model)^2/(Error Up + Error Bottom)^2\n"
     ]
    },
    {
     "name": "stdout",
     "output_type": "stream",
     "text": [
      "[mcmc] Learn + convergence test @ 1840 samples accepted.\n",
      "[mcmc]  - Acceptance rate: 0.272\n",
      "[mcmc]  - Convergence of means: R-1 = 0.020526 after 1472 accepted steps\n",
      "[mcmc]  - Updated covariance matrix of proposal pdf.\n"
     ]
    },
    {
     "name": "stderr",
     "output_type": "stream",
     "text": [
      "C:\\Users\\ELAKIA\\AppData\\Local\\Temp\\ipykernel_18860\\3287485652.py:35: RuntimeWarning: overflow encountered in square\n",
      "  c = ((tre - pred)**2)/((teu + trb)**2) # (Real - Model)^2/(Error Up + Error Bottom)^2\n"
     ]
    },
    {
     "name": "stdout",
     "output_type": "stream",
     "text": [
      "[mcmc] Learn + convergence test @ 1920 samples accepted.\n",
      "[mcmc]  - Acceptance rate: 0.269\n",
      "[mcmc]  - Convergence of means: R-1 = 0.014492 after 1536 accepted steps\n",
      "[mcmc]  - Updated covariance matrix of proposal pdf.\n"
     ]
    },
    {
     "name": "stderr",
     "output_type": "stream",
     "text": [
      "C:\\Users\\ELAKIA\\AppData\\Local\\Temp\\ipykernel_18860\\3287485652.py:35: RuntimeWarning: overflow encountered in square\n",
      "  c = ((tre - pred)**2)/((teu + trb)**2) # (Real - Model)^2/(Error Up + Error Bottom)^2\n"
     ]
    },
    {
     "name": "stdout",
     "output_type": "stream",
     "text": [
      "[mcmc] Learn + convergence test @ 2000 samples accepted.\n",
      "[mcmc]  - Acceptance rate: 0.268\n",
      "[mcmc]  - Convergence of means: R-1 = 0.012811 after 1600 accepted steps\n",
      "[mcmc]  - Updated covariance matrix of proposal pdf.\n"
     ]
    },
    {
     "name": "stderr",
     "output_type": "stream",
     "text": [
      "C:\\Users\\ELAKIA\\AppData\\Local\\Temp\\ipykernel_18860\\3287485652.py:35: RuntimeWarning: overflow encountered in square\n",
      "  c = ((tre - pred)**2)/((teu + trb)**2) # (Real - Model)^2/(Error Up + Error Bottom)^2\n"
     ]
    },
    {
     "name": "stdout",
     "output_type": "stream",
     "text": [
      "[mcmc] Learn + convergence test @ 2080 samples accepted.\n",
      "[mcmc]  - Acceptance rate: 0.270\n",
      "[mcmc]  - Convergence of means: R-1 = 0.013773 after 1664 accepted steps\n",
      "[mcmc]  - Updated covariance matrix of proposal pdf.\n",
      "[mcmc] Learn + convergence test @ 2160 samples accepted.\n",
      "[mcmc]  - Acceptance rate: 0.264\n",
      "[mcmc]  - Convergence of means: R-1 = 0.013600 after 1728 accepted steps\n",
      "[mcmc]  - Updated covariance matrix of proposal pdf.\n",
      "[mcmc] Learn + convergence test @ 2240 samples accepted.\n",
      "[mcmc]  - Acceptance rate: 0.264\n",
      "[mcmc]  - Convergence of means: R-1 = 0.017669 after 1792 accepted steps\n",
      "[mcmc]  - Updated covariance matrix of proposal pdf.\n",
      "[mcmc] Learn + convergence test @ 2320 samples accepted.\n",
      "[mcmc]  - Acceptance rate: 0.262\n",
      "[mcmc]  - Convergence of means: R-1 = 0.011696 after 1856 accepted steps\n",
      "[mcmc]  - Updated covariance matrix of proposal pdf.\n"
     ]
    },
    {
     "name": "stderr",
     "output_type": "stream",
     "text": [
      "C:\\Users\\ELAKIA\\AppData\\Local\\Temp\\ipykernel_18860\\3287485652.py:35: RuntimeWarning: overflow encountered in square\n",
      "  c = ((tre - pred)**2)/((teu + trb)**2) # (Real - Model)^2/(Error Up + Error Bottom)^2\n"
     ]
    },
    {
     "name": "stdout",
     "output_type": "stream",
     "text": [
      "[mcmc] Learn + convergence test @ 2400 samples accepted.\n",
      "[mcmc]  - Acceptance rate: 0.258\n",
      "[mcmc]  - Convergence of means: R-1 = 0.018721 after 1920 accepted steps\n",
      "[mcmc]  - Updated covariance matrix of proposal pdf.\n"
     ]
    },
    {
     "name": "stderr",
     "output_type": "stream",
     "text": [
      "C:\\Users\\ELAKIA\\AppData\\Local\\Temp\\ipykernel_18860\\3287485652.py:35: RuntimeWarning: overflow encountered in square\n",
      "  c = ((tre - pred)**2)/((teu + trb)**2) # (Real - Model)^2/(Error Up + Error Bottom)^2\n"
     ]
    },
    {
     "name": "stdout",
     "output_type": "stream",
     "text": [
      "[mcmc] Learn + convergence test @ 2480 samples accepted.\n",
      "[mcmc]  - Acceptance rate: 0.255\n",
      "[mcmc]  - Convergence of means: R-1 = 0.014982 after 1984 accepted steps\n",
      "[mcmc]  - Updated covariance matrix of proposal pdf.\n"
     ]
    },
    {
     "name": "stderr",
     "output_type": "stream",
     "text": [
      "D:\\Python\\project_cosmology\\cospo\\lib\\site-packages\\cosmopower\\cosmopower_NN.py:336: RuntimeWarning: overflow encountered in exp\n",
      "  layers.append((self.betas_[i] + (1.-self.betas_[i])*1./(1.+np.exp(-self.alphas_[i]*act[-1])))*act[-1])\n",
      "C:\\Users\\ELAKIA\\AppData\\Local\\Temp\\ipykernel_18860\\3287485652.py:35: RuntimeWarning: overflow encountered in square\n",
      "  c = ((tre - pred)**2)/((teu + trb)**2) # (Real - Model)^2/(Error Up + Error Bottom)^2\n"
     ]
    },
    {
     "name": "stdout",
     "output_type": "stream",
     "text": [
      "[mcmc] Learn + convergence test @ 2560 samples accepted.\n",
      "[mcmc]  - Acceptance rate: 0.254\n",
      "[mcmc]  - Convergence of means: R-1 = 0.013502 after 2048 accepted steps\n",
      "[mcmc]  - Updated covariance matrix of proposal pdf.\n"
     ]
    },
    {
     "name": "stderr",
     "output_type": "stream",
     "text": [
      "C:\\Users\\ELAKIA\\AppData\\Local\\Temp\\ipykernel_18860\\3287485652.py:35: RuntimeWarning: overflow encountered in square\n",
      "  c = ((tre - pred)**2)/((teu + trb)**2) # (Real - Model)^2/(Error Up + Error Bottom)^2\n"
     ]
    },
    {
     "name": "stdout",
     "output_type": "stream",
     "text": [
      "[mcmc] Learn + convergence test @ 2640 samples accepted.\n",
      "[mcmc]  - Acceptance rate: 0.252\n",
      "[mcmc]  - Convergence of means: R-1 = 0.017542 after 2112 accepted steps\n",
      "[mcmc]  - Updated covariance matrix of proposal pdf.\n",
      "[mcmc] Learn + convergence test @ 2720 samples accepted.\n",
      "[mcmc]  - Acceptance rate: 0.251\n",
      "[mcmc]  - Convergence of means: R-1 = 0.013138 after 2176 accepted steps\n",
      "[mcmc]  - Updated covariance matrix of proposal pdf.\n",
      "[mcmc] Learn + convergence test @ 2800 samples accepted.\n",
      "[mcmc]  - Acceptance rate: 0.249\n",
      "[mcmc]  - Convergence of means: R-1 = 0.018475 after 2240 accepted steps\n",
      "[mcmc]  - Updated covariance matrix of proposal pdf.\n"
     ]
    },
    {
     "name": "stderr",
     "output_type": "stream",
     "text": [
      "C:\\Users\\ELAKIA\\AppData\\Local\\Temp\\ipykernel_18860\\3287485652.py:35: RuntimeWarning: overflow encountered in square\n",
      "  c = ((tre - pred)**2)/((teu + trb)**2) # (Real - Model)^2/(Error Up + Error Bottom)^2\n"
     ]
    },
    {
     "name": "stdout",
     "output_type": "stream",
     "text": [
      "[mcmc] Learn + convergence test @ 2880 samples accepted.\n",
      "[mcmc]  - Acceptance rate: 0.247\n",
      "[mcmc]  - Convergence of means: R-1 = 0.029773 after 2304 accepted steps\n",
      "[mcmc]  - Updated covariance matrix of proposal pdf.\n"
     ]
    },
    {
     "name": "stderr",
     "output_type": "stream",
     "text": [
      "C:\\Users\\ELAKIA\\AppData\\Local\\Temp\\ipykernel_18860\\3287485652.py:35: RuntimeWarning: overflow encountered in square\n",
      "  c = ((tre - pred)**2)/((teu + trb)**2) # (Real - Model)^2/(Error Up + Error Bottom)^2\n"
     ]
    },
    {
     "name": "stdout",
     "output_type": "stream",
     "text": [
      "[mcmc] Learn + convergence test @ 2960 samples accepted.\n",
      "[mcmc]  - Acceptance rate: 0.248\n",
      "[mcmc]  - Convergence of means: R-1 = 0.037328 after 2368 accepted steps\n",
      "[mcmc]  - Updated covariance matrix of proposal pdf.\n",
      "[mcmc] Learn + convergence test @ 3040 samples accepted.\n",
      "[mcmc]  - Acceptance rate: 0.246\n",
      "[mcmc]  - Convergence of means: R-1 = 0.030549 after 2432 accepted steps\n",
      "[mcmc]  - Updated covariance matrix of proposal pdf.\n",
      "[mcmc] Learn + convergence test @ 3120 samples accepted.\n",
      "[mcmc]  - Acceptance rate: 0.245\n",
      "[mcmc]  - Convergence of means: R-1 = 0.029799 after 2496 accepted steps\n",
      "[mcmc]  - Updated covariance matrix of proposal pdf.\n",
      "[mcmc] Learn + convergence test @ 3200 samples accepted.\n",
      "[mcmc]  - Acceptance rate: 0.245\n",
      "[mcmc]  - Convergence of means: R-1 = 0.036102 after 2560 accepted steps\n",
      "[mcmc]  - Updated covariance matrix of proposal pdf.\n"
     ]
    },
    {
     "name": "stderr",
     "output_type": "stream",
     "text": [
      "C:\\Users\\ELAKIA\\AppData\\Local\\Temp\\ipykernel_18860\\3287485652.py:35: RuntimeWarning: overflow encountered in square\n",
      "  c = ((tre - pred)**2)/((teu + trb)**2) # (Real - Model)^2/(Error Up + Error Bottom)^2\n"
     ]
    },
    {
     "name": "stdout",
     "output_type": "stream",
     "text": [
      "[mcmc] Learn + convergence test @ 3280 samples accepted.\n",
      "[mcmc]  - Acceptance rate: 0.246\n",
      "[mcmc]  - Convergence of means: R-1 = 0.031770 after 2624 accepted steps\n",
      "[mcmc]  - Updated covariance matrix of proposal pdf.\n"
     ]
    },
    {
     "name": "stderr",
     "output_type": "stream",
     "text": [
      "C:\\Users\\ELAKIA\\AppData\\Local\\Temp\\ipykernel_18860\\3287485652.py:35: RuntimeWarning: overflow encountered in square\n",
      "  c = ((tre - pred)**2)/((teu + trb)**2) # (Real - Model)^2/(Error Up + Error Bottom)^2\n"
     ]
    },
    {
     "name": "stdout",
     "output_type": "stream",
     "text": [
      "[mcmc] Learn + convergence test @ 3360 samples accepted.\n",
      "[mcmc]  - Acceptance rate: 0.243\n",
      "[mcmc]  - Convergence of means: R-1 = 0.024687 after 2688 accepted steps\n",
      "[mcmc]  - Updated covariance matrix of proposal pdf.\n"
     ]
    },
    {
     "name": "stderr",
     "output_type": "stream",
     "text": [
      "C:\\Users\\ELAKIA\\AppData\\Local\\Temp\\ipykernel_18860\\3287485652.py:35: RuntimeWarning: overflow encountered in square\n",
      "  c = ((tre - pred)**2)/((teu + trb)**2) # (Real - Model)^2/(Error Up + Error Bottom)^2\n"
     ]
    },
    {
     "name": "stdout",
     "output_type": "stream",
     "text": [
      "[mcmc] Learn + convergence test @ 3440 samples accepted.\n",
      "[mcmc]  - Acceptance rate: 0.242\n",
      "[mcmc]  - Convergence of means: R-1 = 0.019263 after 2752 accepted steps\n",
      "[mcmc]  - Updated covariance matrix of proposal pdf.\n"
     ]
    },
    {
     "name": "stderr",
     "output_type": "stream",
     "text": [
      "C:\\Users\\ELAKIA\\AppData\\Local\\Temp\\ipykernel_18860\\3287485652.py:35: RuntimeWarning: overflow encountered in square\n",
      "  c = ((tre - pred)**2)/((teu + trb)**2) # (Real - Model)^2/(Error Up + Error Bottom)^2\n"
     ]
    },
    {
     "name": "stdout",
     "output_type": "stream",
     "text": [
      "[mcmc] Learn + convergence test @ 3520 samples accepted.\n",
      "[mcmc]  - Acceptance rate: 0.240\n",
      "[mcmc]  - Convergence of means: R-1 = 0.023337 after 2816 accepted steps\n",
      "[mcmc]  - Updated covariance matrix of proposal pdf.\n",
      "[mcmc] Learn + convergence test @ 3600 samples accepted.\n",
      "[mcmc]  - Acceptance rate: 0.239\n",
      "[mcmc]  - Convergence of means: R-1 = 0.028214 after 2880 accepted steps\n",
      "[mcmc]  - Updated covariance matrix of proposal pdf.\n",
      "[mcmc] Learn + convergence test @ 3680 samples accepted.\n",
      "[mcmc]  - Acceptance rate: 0.239\n",
      "[mcmc]  - Convergence of means: R-1 = 0.027296 after 2944 accepted steps\n",
      "[mcmc]  - Updated covariance matrix of proposal pdf.\n"
     ]
    },
    {
     "name": "stderr",
     "output_type": "stream",
     "text": [
      "C:\\Users\\ELAKIA\\AppData\\Local\\Temp\\ipykernel_18860\\3287485652.py:35: RuntimeWarning: overflow encountered in square\n",
      "  c = ((tre - pred)**2)/((teu + trb)**2) # (Real - Model)^2/(Error Up + Error Bottom)^2\n"
     ]
    },
    {
     "name": "stdout",
     "output_type": "stream",
     "text": [
      "[mcmc] Learn + convergence test @ 3760 samples accepted.\n",
      "[mcmc]  - Acceptance rate: 0.239\n",
      "[mcmc]  - Convergence of means: R-1 = 0.025222 after 3008 accepted steps\n",
      "[mcmc]  - Updated covariance matrix of proposal pdf.\n"
     ]
    },
    {
     "name": "stderr",
     "output_type": "stream",
     "text": [
      "C:\\Users\\ELAKIA\\AppData\\Local\\Temp\\ipykernel_18860\\3287485652.py:35: RuntimeWarning: overflow encountered in square\n",
      "  c = ((tre - pred)**2)/((teu + trb)**2) # (Real - Model)^2/(Error Up + Error Bottom)^2\n"
     ]
    },
    {
     "name": "stdout",
     "output_type": "stream",
     "text": [
      "[mcmc] Learn + convergence test @ 3840 samples accepted.\n",
      "[mcmc]  - Acceptance rate: 0.239\n",
      "[mcmc]  - Convergence of means: R-1 = 0.026452 after 3072 accepted steps\n",
      "[mcmc]  - Updated covariance matrix of proposal pdf.\n",
      "[mcmc] Learn + convergence test @ 3920 samples accepted.\n",
      "[mcmc]  - Acceptance rate: 0.240\n",
      "[mcmc]  - Convergence of means: R-1 = 0.022294 after 3136 accepted steps\n",
      "[mcmc]  - Updated covariance matrix of proposal pdf.\n"
     ]
    },
    {
     "name": "stderr",
     "output_type": "stream",
     "text": [
      "C:\\Users\\ELAKIA\\AppData\\Local\\Temp\\ipykernel_18860\\3287485652.py:35: RuntimeWarning: overflow encountered in square\n",
      "  c = ((tre - pred)**2)/((teu + trb)**2) # (Real - Model)^2/(Error Up + Error Bottom)^2\n"
     ]
    },
    {
     "name": "stdout",
     "output_type": "stream",
     "text": [
      "[mcmc] Learn + convergence test @ 4000 samples accepted.\n",
      "[mcmc]  - Acceptance rate: 0.235\n",
      "[mcmc]  - Convergence of means: R-1 = 0.021194 after 3200 accepted steps\n",
      "[mcmc]  - Updated covariance matrix of proposal pdf.\n"
     ]
    },
    {
     "name": "stderr",
     "output_type": "stream",
     "text": [
      "C:\\Users\\ELAKIA\\AppData\\Local\\Temp\\ipykernel_18860\\3287485652.py:35: RuntimeWarning: overflow encountered in square\n",
      "  c = ((tre - pred)**2)/((teu + trb)**2) # (Real - Model)^2/(Error Up + Error Bottom)^2\n"
     ]
    },
    {
     "name": "stdout",
     "output_type": "stream",
     "text": [
      "[mcmc] Learn + convergence test @ 4080 samples accepted.\n",
      "[mcmc]  - Acceptance rate: 0.235\n",
      "[mcmc]  - Convergence of means: R-1 = 0.014307 after 3264 accepted steps\n",
      "[mcmc]  - Updated covariance matrix of proposal pdf.\n"
     ]
    },
    {
     "name": "stderr",
     "output_type": "stream",
     "text": [
      "C:\\Users\\ELAKIA\\AppData\\Local\\Temp\\ipykernel_18860\\3287485652.py:35: RuntimeWarning: overflow encountered in square\n",
      "  c = ((tre - pred)**2)/((teu + trb)**2) # (Real - Model)^2/(Error Up + Error Bottom)^2\n"
     ]
    },
    {
     "name": "stdout",
     "output_type": "stream",
     "text": [
      "[mcmc] Learn + convergence test @ 4160 samples accepted.\n",
      "[mcmc]  - Acceptance rate: 0.235\n",
      "[mcmc]  - Convergence of means: R-1 = 0.013089 after 3328 accepted steps\n",
      "[mcmc]  - Updated covariance matrix of proposal pdf.\n",
      "[mcmc] Learn + convergence test @ 4240 samples accepted.\n",
      "[mcmc]  - Acceptance rate: 0.233\n",
      "[mcmc]  - Convergence of means: R-1 = 0.008158 after 3392 accepted steps\n",
      "[mcmc]  - Updated covariance matrix of proposal pdf.\n"
     ]
    },
    {
     "name": "stderr",
     "output_type": "stream",
     "text": [
      "C:\\Users\\ELAKIA\\AppData\\Local\\Temp\\ipykernel_18860\\3287485652.py:35: RuntimeWarning: overflow encountered in square\n",
      "  c = ((tre - pred)**2)/((teu + trb)**2) # (Real - Model)^2/(Error Up + Error Bottom)^2\n",
      "C:\\Users\\ELAKIA\\AppData\\Local\\Temp\\ipykernel_18860\\3287485652.py:35: RuntimeWarning: overflow encountered in square\n",
      "  c = ((tre - pred)**2)/((teu + trb)**2) # (Real - Model)^2/(Error Up + Error Bottom)^2\n"
     ]
    },
    {
     "name": "stdout",
     "output_type": "stream",
     "text": [
      "[mcmc] Learn + convergence test @ 4320 samples accepted.\n",
      "[mcmc]  - Acceptance rate: 0.234\n",
      "[mcmc]  - Convergence of means: R-1 = 0.009662 after 3456 accepted steps\n",
      "[mcmc]  - Updated covariance matrix of proposal pdf.\n",
      "[mcmc] Progress @ 2024-06-11 20:06:33 : 16513 steps taken, and 4331 accepted.\n",
      "[mcmc] Learn + convergence test @ 4400 samples accepted.\n",
      "[mcmc]  - Acceptance rate: 0.234\n",
      "[mcmc]  - Convergence of means: R-1 = 0.016915 after 3520 accepted steps\n",
      "[mcmc]  - Updated covariance matrix of proposal pdf.\n"
     ]
    },
    {
     "name": "stderr",
     "output_type": "stream",
     "text": [
      "D:\\Python\\project_cosmology\\cospo\\lib\\site-packages\\cosmopower\\cosmopower_NN.py:336: RuntimeWarning: overflow encountered in exp\n",
      "  layers.append((self.betas_[i] + (1.-self.betas_[i])*1./(1.+np.exp(-self.alphas_[i]*act[-1])))*act[-1])\n",
      "C:\\Users\\ELAKIA\\AppData\\Local\\Temp\\ipykernel_18860\\3287485652.py:35: RuntimeWarning: overflow encountered in square\n",
      "  c = ((tre - pred)**2)/((teu + trb)**2) # (Real - Model)^2/(Error Up + Error Bottom)^2\n"
     ]
    },
    {
     "name": "stdout",
     "output_type": "stream",
     "text": [
      "[mcmc] Learn + convergence test @ 4480 samples accepted.\n",
      "[mcmc]  - Acceptance rate: 0.234\n",
      "[mcmc]  - Convergence of means: R-1 = 0.014830 after 3584 accepted steps\n",
      "[mcmc]  - Updated covariance matrix of proposal pdf.\n"
     ]
    },
    {
     "name": "stderr",
     "output_type": "stream",
     "text": [
      "C:\\Users\\ELAKIA\\AppData\\Local\\Temp\\ipykernel_18860\\3287485652.py:35: RuntimeWarning: overflow encountered in square\n",
      "  c = ((tre - pred)**2)/((teu + trb)**2) # (Real - Model)^2/(Error Up + Error Bottom)^2\n"
     ]
    },
    {
     "name": "stdout",
     "output_type": "stream",
     "text": [
      "[mcmc] Learn + convergence test @ 4560 samples accepted.\n",
      "[mcmc]  - Acceptance rate: 0.233\n",
      "[mcmc]  - Convergence of means: R-1 = 0.015345 after 3648 accepted steps\n",
      "[mcmc]  - Updated covariance matrix of proposal pdf.\n"
     ]
    },
    {
     "name": "stderr",
     "output_type": "stream",
     "text": [
      "C:\\Users\\ELAKIA\\AppData\\Local\\Temp\\ipykernel_18860\\3287485652.py:35: RuntimeWarning: overflow encountered in square\n",
      "  c = ((tre - pred)**2)/((teu + trb)**2) # (Real - Model)^2/(Error Up + Error Bottom)^2\n"
     ]
    },
    {
     "name": "stdout",
     "output_type": "stream",
     "text": [
      "[mcmc] Learn + convergence test @ 4640 samples accepted.\n",
      "[mcmc]  - Acceptance rate: 0.235\n",
      "[mcmc]  - Convergence of means: R-1 = 0.013939 after 3712 accepted steps\n",
      "[mcmc]  - Updated covariance matrix of proposal pdf.\n",
      "[mcmc] Learn + convergence test @ 4720 samples accepted.\n",
      "[mcmc]  - Acceptance rate: 0.236\n",
      "[mcmc]  - Convergence of means: R-1 = 0.015042 after 3776 accepted steps\n",
      "[mcmc]  - Updated covariance matrix of proposal pdf.\n",
      "[mcmc] Learn + convergence test @ 4800 samples accepted.\n",
      "[mcmc]  - Acceptance rate: 0.236\n",
      "[mcmc]  - Convergence of means: R-1 = 0.016015 after 3840 accepted steps\n",
      "[mcmc]  - Updated covariance matrix of proposal pdf.\n",
      "[mcmc] Learn + convergence test @ 4880 samples accepted.\n",
      "[mcmc]  - Acceptance rate: 0.236\n",
      "[mcmc]  - Convergence of means: R-1 = 0.013890 after 3904 accepted steps\n",
      "[mcmc]  - Updated covariance matrix of proposal pdf.\n",
      "[mcmc] Learn + convergence test @ 4960 samples accepted.\n",
      "[mcmc]  - Acceptance rate: 0.235\n",
      "[mcmc]  - Convergence of means: R-1 = 0.014676 after 3968 accepted steps\n",
      "[mcmc]  - Updated covariance matrix of proposal pdf.\n"
     ]
    },
    {
     "name": "stderr",
     "output_type": "stream",
     "text": [
      "C:\\Users\\ELAKIA\\AppData\\Local\\Temp\\ipykernel_18860\\3287485652.py:35: RuntimeWarning: overflow encountered in square\n",
      "  c = ((tre - pred)**2)/((teu + trb)**2) # (Real - Model)^2/(Error Up + Error Bottom)^2\n",
      "D:\\Python\\project_cosmology\\cospo\\lib\\site-packages\\cosmopower\\cosmopower_NN.py:336: RuntimeWarning: overflow encountered in exp\n",
      "  layers.append((self.betas_[i] + (1.-self.betas_[i])*1./(1.+np.exp(-self.alphas_[i]*act[-1])))*act[-1])\n"
     ]
    },
    {
     "name": "stdout",
     "output_type": "stream",
     "text": [
      "[mcmc] Learn + convergence test @ 5040 samples accepted.\n",
      "[mcmc]  - Acceptance rate: 0.234\n",
      "[mcmc]  - Convergence of means: R-1 = 0.012133 after 4032 accepted steps\n",
      "[mcmc]  - Updated covariance matrix of proposal pdf.\n",
      "[mcmc] Learn + convergence test @ 5120 samples accepted.\n",
      "[mcmc]  - Acceptance rate: 0.234\n",
      "[mcmc]  - Convergence of means: R-1 = 0.010895 after 4096 accepted steps\n",
      "[mcmc]  - Updated covariance matrix of proposal pdf.\n"
     ]
    },
    {
     "name": "stderr",
     "output_type": "stream",
     "text": [
      "C:\\Users\\ELAKIA\\AppData\\Local\\Temp\\ipykernel_18860\\3287485652.py:35: RuntimeWarning: overflow encountered in square\n",
      "  c = ((tre - pred)**2)/((teu + trb)**2) # (Real - Model)^2/(Error Up + Error Bottom)^2\n"
     ]
    },
    {
     "name": "stdout",
     "output_type": "stream",
     "text": [
      "[mcmc] Learn + convergence test @ 5200 samples accepted.\n",
      "[mcmc]  - Acceptance rate: 0.236\n",
      "[mcmc]  - Convergence of means: R-1 = 0.008326 after 4160 accepted steps\n",
      "[mcmc]  - Updated covariance matrix of proposal pdf.\n"
     ]
    },
    {
     "name": "stderr",
     "output_type": "stream",
     "text": [
      "C:\\Users\\ELAKIA\\AppData\\Local\\Temp\\ipykernel_18860\\3287485652.py:35: RuntimeWarning: overflow encountered in square\n",
      "  c = ((tre - pred)**2)/((teu + trb)**2) # (Real - Model)^2/(Error Up + Error Bottom)^2\n"
     ]
    },
    {
     "name": "stdout",
     "output_type": "stream",
     "text": [
      "[mcmc] Learn + convergence test @ 5280 samples accepted.\n",
      "[mcmc]  - Acceptance rate: 0.235\n",
      "[mcmc]  - Convergence of means: R-1 = 0.016598 after 4224 accepted steps\n",
      "[mcmc]  - Updated covariance matrix of proposal pdf.\n"
     ]
    },
    {
     "name": "stderr",
     "output_type": "stream",
     "text": [
      "C:\\Users\\ELAKIA\\AppData\\Local\\Temp\\ipykernel_18860\\3287485652.py:35: RuntimeWarning: overflow encountered in square\n",
      "  c = ((tre - pred)**2)/((teu + trb)**2) # (Real - Model)^2/(Error Up + Error Bottom)^2\n"
     ]
    },
    {
     "name": "stdout",
     "output_type": "stream",
     "text": [
      "[mcmc] Learn + convergence test @ 5360 samples accepted.\n",
      "[mcmc]  - Acceptance rate: 0.236\n",
      "[mcmc]  - Convergence of means: R-1 = 0.013207 after 4288 accepted steps\n",
      "[mcmc]  - Updated covariance matrix of proposal pdf.\n"
     ]
    },
    {
     "name": "stderr",
     "output_type": "stream",
     "text": [
      "C:\\Users\\ELAKIA\\AppData\\Local\\Temp\\ipykernel_18860\\3287485652.py:35: RuntimeWarning: overflow encountered in square\n",
      "  c = ((tre - pred)**2)/((teu + trb)**2) # (Real - Model)^2/(Error Up + Error Bottom)^2\n"
     ]
    },
    {
     "name": "stdout",
     "output_type": "stream",
     "text": [
      "[mcmc] Learn + convergence test @ 5440 samples accepted.\n",
      "[mcmc]  - Acceptance rate: 0.236\n",
      "[mcmc]  - Convergence of means: R-1 = 0.012287 after 4352 accepted steps\n",
      "[mcmc]  - Updated covariance matrix of proposal pdf.\n"
     ]
    },
    {
     "name": "stderr",
     "output_type": "stream",
     "text": [
      "C:\\Users\\ELAKIA\\AppData\\Local\\Temp\\ipykernel_18860\\3287485652.py:35: RuntimeWarning: overflow encountered in square\n",
      "  c = ((tre - pred)**2)/((teu + trb)**2) # (Real - Model)^2/(Error Up + Error Bottom)^2\n"
     ]
    },
    {
     "name": "stdout",
     "output_type": "stream",
     "text": [
      "[mcmc] Learn + convergence test @ 5520 samples accepted.\n",
      "[mcmc]  - Acceptance rate: 0.234\n",
      "[mcmc]  - Convergence of means: R-1 = 0.005869 after 4416 accepted steps\n",
      "[mcmc]  - Updated covariance matrix of proposal pdf.\n"
     ]
    },
    {
     "name": "stderr",
     "output_type": "stream",
     "text": [
      "C:\\Users\\ELAKIA\\AppData\\Local\\Temp\\ipykernel_18860\\3287485652.py:35: RuntimeWarning: overflow encountered in square\n",
      "  c = ((tre - pred)**2)/((teu + trb)**2) # (Real - Model)^2/(Error Up + Error Bottom)^2\n"
     ]
    },
    {
     "name": "stdout",
     "output_type": "stream",
     "text": [
      "[mcmc] Learn + convergence test @ 5600 samples accepted.\n",
      "[mcmc]  - Acceptance rate: 0.235\n",
      "[mcmc]  - Convergence of means: R-1 = 0.009324 after 4480 accepted steps\n",
      "[mcmc]  - Updated covariance matrix of proposal pdf.\n",
      "[mcmc] Learn + convergence test @ 5680 samples accepted.\n",
      "[mcmc]  - Acceptance rate: 0.234\n",
      "[mcmc]  - Convergence of means: R-1 = 0.009795 after 4544 accepted steps\n",
      "[mcmc]  - Updated covariance matrix of proposal pdf.\n"
     ]
    },
    {
     "name": "stderr",
     "output_type": "stream",
     "text": [
      "C:\\Users\\ELAKIA\\AppData\\Local\\Temp\\ipykernel_18860\\3287485652.py:35: RuntimeWarning: overflow encountered in square\n",
      "  c = ((tre - pred)**2)/((teu + trb)**2) # (Real - Model)^2/(Error Up + Error Bottom)^2\n"
     ]
    },
    {
     "name": "stdout",
     "output_type": "stream",
     "text": [
      "[mcmc] Learn + convergence test @ 5760 samples accepted.\n",
      "[mcmc]  - Acceptance rate: 0.234\n",
      "[mcmc]  - Convergence of means: R-1 = 0.013167 after 4608 accepted steps\n",
      "[mcmc]  - Updated covariance matrix of proposal pdf.\n"
     ]
    },
    {
     "name": "stderr",
     "output_type": "stream",
     "text": [
      "C:\\Users\\ELAKIA\\AppData\\Local\\Temp\\ipykernel_18860\\3287485652.py:35: RuntimeWarning: overflow encountered in square\n",
      "  c = ((tre - pred)**2)/((teu + trb)**2) # (Real - Model)^2/(Error Up + Error Bottom)^2\n"
     ]
    },
    {
     "name": "stdout",
     "output_type": "stream",
     "text": [
      "[mcmc] Learn + convergence test @ 5840 samples accepted.\n",
      "[mcmc]  - Acceptance rate: 0.234\n",
      "[mcmc]  - Convergence of means: R-1 = 0.016945 after 4672 accepted steps\n",
      "[mcmc]  - Updated covariance matrix of proposal pdf.\n"
     ]
    },
    {
     "name": "stderr",
     "output_type": "stream",
     "text": [
      "C:\\Users\\ELAKIA\\AppData\\Local\\Temp\\ipykernel_18860\\3287485652.py:35: RuntimeWarning: overflow encountered in square\n",
      "  c = ((tre - pred)**2)/((teu + trb)**2) # (Real - Model)^2/(Error Up + Error Bottom)^2\n"
     ]
    },
    {
     "name": "stdout",
     "output_type": "stream",
     "text": [
      "[mcmc] Learn + convergence test @ 5920 samples accepted.\n",
      "[mcmc]  - Acceptance rate: 0.233\n",
      "[mcmc]  - Convergence of means: R-1 = 0.008778 after 4736 accepted steps\n",
      "[mcmc]  - Updated covariance matrix of proposal pdf.\n"
     ]
    },
    {
     "name": "stderr",
     "output_type": "stream",
     "text": [
      "C:\\Users\\ELAKIA\\AppData\\Local\\Temp\\ipykernel_18860\\3287485652.py:35: RuntimeWarning: overflow encountered in square\n",
      "  c = ((tre - pred)**2)/((teu + trb)**2) # (Real - Model)^2/(Error Up + Error Bottom)^2\n"
     ]
    },
    {
     "name": "stdout",
     "output_type": "stream",
     "text": [
      "[mcmc] Learn + convergence test @ 6000 samples accepted.\n",
      "[mcmc]  - Acceptance rate: 0.232\n",
      "[mcmc]  - Convergence of means: R-1 = 0.007558 after 4800 accepted steps\n",
      "[mcmc]  - Updated covariance matrix of proposal pdf.\n",
      "[mcmc] Learn + convergence test @ 6080 samples accepted.\n",
      "[mcmc]  - Acceptance rate: 0.233\n",
      "[mcmc]  - Convergence of means: R-1 = 0.005110 after 4864 accepted steps\n",
      "[mcmc]  - Updated covariance matrix of proposal pdf.\n"
     ]
    },
    {
     "name": "stderr",
     "output_type": "stream",
     "text": [
      "C:\\Users\\ELAKIA\\AppData\\Local\\Temp\\ipykernel_18860\\3287485652.py:35: RuntimeWarning: overflow encountered in square\n",
      "  c = ((tre - pred)**2)/((teu + trb)**2) # (Real - Model)^2/(Error Up + Error Bottom)^2\n",
      "D:\\Python\\project_cosmology\\cospo\\lib\\site-packages\\cosmopower\\cosmopower_NN.py:336: RuntimeWarning: overflow encountered in exp\n",
      "  layers.append((self.betas_[i] + (1.-self.betas_[i])*1./(1.+np.exp(-self.alphas_[i]*act[-1])))*act[-1])\n"
     ]
    },
    {
     "name": "stdout",
     "output_type": "stream",
     "text": [
      "[mcmc] Learn + convergence test @ 6160 samples accepted.\n",
      "[mcmc]  - Acceptance rate: 0.233\n",
      "[mcmc]  - Convergence of means: R-1 = 0.004549 after 4928 accepted steps\n",
      "[mcmc]  - Updated covariance matrix of proposal pdf.\n"
     ]
    },
    {
     "name": "stderr",
     "output_type": "stream",
     "text": [
      "C:\\Users\\ELAKIA\\AppData\\Local\\Temp\\ipykernel_18860\\3287485652.py:35: RuntimeWarning: overflow encountered in square\n",
      "  c = ((tre - pred)**2)/((teu + trb)**2) # (Real - Model)^2/(Error Up + Error Bottom)^2\n"
     ]
    },
    {
     "name": "stdout",
     "output_type": "stream",
     "text": [
      "[mcmc] Learn + convergence test @ 6240 samples accepted.\n",
      "[mcmc]  - Acceptance rate: 0.231\n",
      "[mcmc]  - Convergence of means: R-1 = 0.007009 after 4992 accepted steps\n",
      "[mcmc]  - Updated covariance matrix of proposal pdf.\n"
     ]
    },
    {
     "name": "stderr",
     "output_type": "stream",
     "text": [
      "C:\\Users\\ELAKIA\\AppData\\Local\\Temp\\ipykernel_18860\\3287485652.py:35: RuntimeWarning: overflow encountered in square\n",
      "  c = ((tre - pred)**2)/((teu + trb)**2) # (Real - Model)^2/(Error Up + Error Bottom)^2\n"
     ]
    },
    {
     "name": "stdout",
     "output_type": "stream",
     "text": [
      "[mcmc] Learn + convergence test @ 6320 samples accepted.\n",
      "[mcmc]  - Acceptance rate: 0.230\n",
      "[mcmc]  - Convergence of means: R-1 = 0.006699 after 5056 accepted steps\n",
      "[mcmc]  - Updated covariance matrix of proposal pdf.\n",
      "[mcmc] Learn + convergence test @ 6400 samples accepted.\n",
      "[mcmc]  - Acceptance rate: 0.231\n",
      "[mcmc]  - Convergence of means: R-1 = 0.005383 after 5120 accepted steps\n",
      "[mcmc]  - Updated covariance matrix of proposal pdf.\n"
     ]
    },
    {
     "name": "stderr",
     "output_type": "stream",
     "text": [
      "C:\\Users\\ELAKIA\\AppData\\Local\\Temp\\ipykernel_18860\\3287485652.py:35: RuntimeWarning: overflow encountered in square\n",
      "  c = ((tre - pred)**2)/((teu + trb)**2) # (Real - Model)^2/(Error Up + Error Bottom)^2\n"
     ]
    },
    {
     "name": "stdout",
     "output_type": "stream",
     "text": [
      "[mcmc] Learn + convergence test @ 6480 samples accepted.\n",
      "[mcmc]  - Acceptance rate: 0.231\n",
      "[mcmc]  - Convergence of means: R-1 = 0.003120 after 5184 accepted steps\n",
      "[mcmc]  - Updated covariance matrix of proposal pdf.\n",
      "[mcmc] Learn + convergence test @ 6560 samples accepted.\n",
      "[mcmc]  - Acceptance rate: 0.232\n",
      "[mcmc]  - Convergence of means: R-1 = 0.003441 after 5248 accepted steps\n",
      "[mcmc]  - Updated covariance matrix of proposal pdf.\n"
     ]
    },
    {
     "name": "stderr",
     "output_type": "stream",
     "text": [
      "C:\\Users\\ELAKIA\\AppData\\Local\\Temp\\ipykernel_18860\\3287485652.py:35: RuntimeWarning: overflow encountered in square\n",
      "  c = ((tre - pred)**2)/((teu + trb)**2) # (Real - Model)^2/(Error Up + Error Bottom)^2\n"
     ]
    },
    {
     "name": "stdout",
     "output_type": "stream",
     "text": [
      "[mcmc] Learn + convergence test @ 6640 samples accepted.\n",
      "[mcmc]  - Acceptance rate: 0.231\n",
      "[mcmc]  - Convergence of means: R-1 = 0.001261 after 5312 accepted steps\n",
      "[mcmc]  - Updated covariance matrix of proposal pdf.\n",
      "[mcmc] Learn + convergence test @ 6720 samples accepted.\n",
      "[mcmc]  - Acceptance rate: 0.232\n",
      "[mcmc]  - Convergence of means: R-1 = 0.001710 after 5376 accepted steps\n",
      "[mcmc]  - Updated covariance matrix of proposal pdf.\n"
     ]
    },
    {
     "name": "stderr",
     "output_type": "stream",
     "text": [
      "C:\\Users\\ELAKIA\\AppData\\Local\\Temp\\ipykernel_18860\\3287485652.py:35: RuntimeWarning: overflow encountered in square\n",
      "  c = ((tre - pred)**2)/((teu + trb)**2) # (Real - Model)^2/(Error Up + Error Bottom)^2\n"
     ]
    },
    {
     "name": "stdout",
     "output_type": "stream",
     "text": [
      "[mcmc] Learn + convergence test @ 6800 samples accepted.\n",
      "[mcmc]  - Acceptance rate: 0.232\n",
      "[mcmc]  - Convergence of means: R-1 = 0.001782 after 5440 accepted steps\n",
      "[mcmc]  - Updated covariance matrix of proposal pdf.\n",
      "[mcmc] Learn + convergence test @ 6880 samples accepted.\n",
      "[mcmc]  - Acceptance rate: 0.230\n",
      "[mcmc]  - Convergence of means: R-1 = 0.001758 after 5504 accepted steps\n",
      "[mcmc]  - Updated covariance matrix of proposal pdf.\n"
     ]
    },
    {
     "name": "stderr",
     "output_type": "stream",
     "text": [
      "C:\\Users\\ELAKIA\\AppData\\Local\\Temp\\ipykernel_18860\\3287485652.py:35: RuntimeWarning: overflow encountered in square\n",
      "  c = ((tre - pred)**2)/((teu + trb)**2) # (Real - Model)^2/(Error Up + Error Bottom)^2\n"
     ]
    },
    {
     "name": "stdout",
     "output_type": "stream",
     "text": [
      "[mcmc] Learn + convergence test @ 6960 samples accepted.\n",
      "[mcmc]  - Acceptance rate: 0.229\n",
      "[mcmc]  - Convergence of means: R-1 = 0.002638 after 5568 accepted steps\n",
      "[mcmc]  - Updated covariance matrix of proposal pdf.\n",
      "[mcmc] Learn + convergence test @ 7040 samples accepted.\n",
      "[mcmc]  - Acceptance rate: 0.228\n",
      "[mcmc]  - Convergence of means: R-1 = 0.007549 after 5632 accepted steps\n",
      "[mcmc]  - Updated covariance matrix of proposal pdf.\n"
     ]
    },
    {
     "name": "stderr",
     "output_type": "stream",
     "text": [
      "C:\\Users\\ELAKIA\\AppData\\Local\\Temp\\ipykernel_18860\\3287485652.py:35: RuntimeWarning: overflow encountered in square\n",
      "  c = ((tre - pred)**2)/((teu + trb)**2) # (Real - Model)^2/(Error Up + Error Bottom)^2\n"
     ]
    },
    {
     "name": "stdout",
     "output_type": "stream",
     "text": [
      "[mcmc] Learn + convergence test @ 7120 samples accepted.\n",
      "[mcmc]  - Acceptance rate: 0.229\n",
      "[mcmc]  - Convergence of means: R-1 = 0.006903 after 5696 accepted steps\n",
      "[mcmc]  - Updated covariance matrix of proposal pdf.\n"
     ]
    },
    {
     "name": "stderr",
     "output_type": "stream",
     "text": [
      "C:\\Users\\ELAKIA\\AppData\\Local\\Temp\\ipykernel_18860\\3287485652.py:35: RuntimeWarning: overflow encountered in square\n",
      "  c = ((tre - pred)**2)/((teu + trb)**2) # (Real - Model)^2/(Error Up + Error Bottom)^2\n"
     ]
    },
    {
     "name": "stdout",
     "output_type": "stream",
     "text": [
      "[mcmc] Learn + convergence test @ 7200 samples accepted.\n",
      "[mcmc]  - Acceptance rate: 0.229\n",
      "[mcmc]  - Convergence of means: R-1 = 0.006489 after 5760 accepted steps\n",
      "[mcmc]  - Updated covariance matrix of proposal pdf.\n",
      "[mcmc] Learn + convergence test @ 7280 samples accepted.\n",
      "[mcmc]  - Acceptance rate: 0.229\n",
      "[mcmc]  - Convergence of means: R-1 = 0.009488 after 5824 accepted steps\n",
      "[mcmc]  - Updated covariance matrix of proposal pdf.\n",
      "[mcmc] Learn + convergence test @ 7360 samples accepted.\n",
      "[mcmc]  - Acceptance rate: 0.229\n",
      "[mcmc]  - Convergence of means: R-1 = 0.006299 after 5888 accepted steps\n",
      "[mcmc]  - Updated covariance matrix of proposal pdf.\n",
      "[mcmc] Learn + convergence test @ 7440 samples accepted.\n",
      "[mcmc]  - Acceptance rate: 0.229\n",
      "[mcmc]  - Convergence of means: R-1 = 0.006102 after 5952 accepted steps\n",
      "[mcmc]  - Updated covariance matrix of proposal pdf.\n"
     ]
    },
    {
     "name": "stderr",
     "output_type": "stream",
     "text": [
      "C:\\Users\\ELAKIA\\AppData\\Local\\Temp\\ipykernel_18860\\3287485652.py:35: RuntimeWarning: overflow encountered in square\n",
      "  c = ((tre - pred)**2)/((teu + trb)**2) # (Real - Model)^2/(Error Up + Error Bottom)^2\n"
     ]
    },
    {
     "name": "stdout",
     "output_type": "stream",
     "text": [
      "[mcmc] Learn + convergence test @ 7520 samples accepted.\n",
      "[mcmc]  - Acceptance rate: 0.228\n",
      "[mcmc]  - Convergence of means: R-1 = 0.006897 after 6016 accepted steps\n",
      "[mcmc]  - Updated covariance matrix of proposal pdf.\n",
      "[mcmc] Learn + convergence test @ 7600 samples accepted.\n",
      "[mcmc]  - Acceptance rate: 0.227\n",
      "[mcmc]  - Convergence of means: R-1 = 0.010298 after 6080 accepted steps\n",
      "[mcmc]  - Updated covariance matrix of proposal pdf.\n"
     ]
    },
    {
     "name": "stderr",
     "output_type": "stream",
     "text": [
      "C:\\Users\\ELAKIA\\AppData\\Local\\Temp\\ipykernel_18860\\3287485652.py:35: RuntimeWarning: overflow encountered in square\n",
      "  c = ((tre - pred)**2)/((teu + trb)**2) # (Real - Model)^2/(Error Up + Error Bottom)^2\n"
     ]
    },
    {
     "name": "stdout",
     "output_type": "stream",
     "text": [
      "[mcmc] Learn + convergence test @ 7680 samples accepted.\n",
      "[mcmc]  - Acceptance rate: 0.227\n",
      "[mcmc]  - Convergence of means: R-1 = 0.010891 after 6144 accepted steps\n",
      "[mcmc]  - Updated covariance matrix of proposal pdf.\n"
     ]
    },
    {
     "name": "stderr",
     "output_type": "stream",
     "text": [
      "C:\\Users\\ELAKIA\\AppData\\Local\\Temp\\ipykernel_18860\\3287485652.py:35: RuntimeWarning: overflow encountered in square\n",
      "  c = ((tre - pred)**2)/((teu + trb)**2) # (Real - Model)^2/(Error Up + Error Bottom)^2\n"
     ]
    },
    {
     "name": "stdout",
     "output_type": "stream",
     "text": [
      "[mcmc] Learn + convergence test @ 7760 samples accepted.\n",
      "[mcmc]  - Acceptance rate: 0.226\n",
      "[mcmc]  - Convergence of means: R-1 = 0.013101 after 6208 accepted steps\n",
      "[mcmc]  - Updated covariance matrix of proposal pdf.\n"
     ]
    },
    {
     "name": "stderr",
     "output_type": "stream",
     "text": [
      "C:\\Users\\ELAKIA\\AppData\\Local\\Temp\\ipykernel_18860\\3287485652.py:35: RuntimeWarning: overflow encountered in square\n",
      "  c = ((tre - pred)**2)/((teu + trb)**2) # (Real - Model)^2/(Error Up + Error Bottom)^2\n"
     ]
    },
    {
     "name": "stdout",
     "output_type": "stream",
     "text": [
      "[mcmc] Learn + convergence test @ 7840 samples accepted.\n",
      "[mcmc]  - Acceptance rate: 0.225\n",
      "[mcmc]  - Convergence of means: R-1 = 0.009597 after 6272 accepted steps\n",
      "[mcmc]  - Updated covariance matrix of proposal pdf.\n"
     ]
    },
    {
     "name": "stderr",
     "output_type": "stream",
     "text": [
      "C:\\Users\\ELAKIA\\AppData\\Local\\Temp\\ipykernel_18860\\3287485652.py:35: RuntimeWarning: overflow encountered in square\n",
      "  c = ((tre - pred)**2)/((teu + trb)**2) # (Real - Model)^2/(Error Up + Error Bottom)^2\n",
      "D:\\Python\\project_cosmology\\cospo\\lib\\site-packages\\cosmopower\\cosmopower_NN.py:336: RuntimeWarning: overflow encountered in exp\n",
      "  layers.append((self.betas_[i] + (1.-self.betas_[i])*1./(1.+np.exp(-self.alphas_[i]*act[-1])))*act[-1])\n"
     ]
    },
    {
     "name": "stdout",
     "output_type": "stream",
     "text": [
      "[mcmc] Learn + convergence test @ 7920 samples accepted.\n",
      "[mcmc]  - Acceptance rate: 0.226\n",
      "[mcmc]  - Convergence of means: R-1 = 0.006780 after 6336 accepted steps\n",
      "[mcmc]  - Updated covariance matrix of proposal pdf.\n",
      "[mcmc] Learn + convergence test @ 8000 samples accepted.\n"
     ]
    },
    {
     "name": "stderr",
     "output_type": "stream",
     "text": [
      "C:\\Users\\ELAKIA\\AppData\\Local\\Temp\\ipykernel_18860\\3287485652.py:35: RuntimeWarning: overflow encountered in square\n",
      "  c = ((tre - pred)**2)/((teu + trb)**2) # (Real - Model)^2/(Error Up + Error Bottom)^2\n"
     ]
    },
    {
     "name": "stdout",
     "output_type": "stream",
     "text": [
      "[mcmc]  - Acceptance rate: 0.226\n",
      "[mcmc]  - Convergence of means: R-1 = 0.006099 after 6400 accepted steps\n",
      "[mcmc]  - Updated covariance matrix of proposal pdf.\n",
      "[mcmc] Learn + convergence test @ 8080 samples accepted.\n",
      "[mcmc]  - Acceptance rate: 0.226\n",
      "[mcmc]  - Convergence of means: R-1 = 0.005379 after 6464 accepted steps\n",
      "[mcmc]  - Updated covariance matrix of proposal pdf.\n"
     ]
    },
    {
     "name": "stderr",
     "output_type": "stream",
     "text": [
      "C:\\Users\\ELAKIA\\AppData\\Local\\Temp\\ipykernel_18860\\3287485652.py:35: RuntimeWarning: overflow encountered in square\n",
      "  c = ((tre - pred)**2)/((teu + trb)**2) # (Real - Model)^2/(Error Up + Error Bottom)^2\n"
     ]
    },
    {
     "name": "stdout",
     "output_type": "stream",
     "text": [
      "[mcmc] Learn + convergence test @ 8160 samples accepted.\n",
      "[mcmc]  - Acceptance rate: 0.226\n",
      "[mcmc]  - Convergence of means: R-1 = 0.005917 after 6528 accepted steps\n",
      "[mcmc]  - Updated covariance matrix of proposal pdf.\n"
     ]
    },
    {
     "name": "stderr",
     "output_type": "stream",
     "text": [
      "C:\\Users\\ELAKIA\\AppData\\Local\\Temp\\ipykernel_18860\\3287485652.py:35: RuntimeWarning: overflow encountered in square\n",
      "  c = ((tre - pred)**2)/((teu + trb)**2) # (Real - Model)^2/(Error Up + Error Bottom)^2\n"
     ]
    },
    {
     "name": "stdout",
     "output_type": "stream",
     "text": [
      "[mcmc] Learn + convergence test @ 8240 samples accepted.\n",
      "[mcmc]  - Acceptance rate: 0.227\n",
      "[mcmc]  - Convergence of means: R-1 = 0.005187 after 6592 accepted steps\n",
      "[mcmc]  - Updated covariance matrix of proposal pdf.\n",
      "[mcmc] Learn + convergence test @ 8320 samples accepted.\n",
      "[mcmc]  - Acceptance rate: 0.227\n",
      "[mcmc]  - Convergence of means: R-1 = 0.006947 after 6656 accepted steps\n",
      "[mcmc]  - Updated covariance matrix of proposal pdf.\n",
      "[mcmc] Learn + convergence test @ 8400 samples accepted.\n",
      "[mcmc]  - Acceptance rate: 0.227\n",
      "[mcmc]  - Convergence of means: R-1 = 0.006507 after 6720 accepted steps\n",
      "[mcmc]  - Updated covariance matrix of proposal pdf.\n"
     ]
    },
    {
     "name": "stderr",
     "output_type": "stream",
     "text": [
      "C:\\Users\\ELAKIA\\AppData\\Local\\Temp\\ipykernel_18860\\3287485652.py:35: RuntimeWarning: overflow encountered in square\n",
      "  c = ((tre - pred)**2)/((teu + trb)**2) # (Real - Model)^2/(Error Up + Error Bottom)^2\n"
     ]
    },
    {
     "name": "stdout",
     "output_type": "stream",
     "text": [
      "[mcmc] Learn + convergence test @ 8480 samples accepted.\n",
      "[mcmc]  - Acceptance rate: 0.227\n",
      "[mcmc]  - Convergence of means: R-1 = 0.005148 after 6784 accepted steps\n",
      "[mcmc]  - Updated covariance matrix of proposal pdf.\n"
     ]
    },
    {
     "name": "stderr",
     "output_type": "stream",
     "text": [
      "D:\\Python\\project_cosmology\\cospo\\lib\\site-packages\\cosmopower\\cosmopower_NN.py:336: RuntimeWarning: overflow encountered in exp\n",
      "  layers.append((self.betas_[i] + (1.-self.betas_[i])*1./(1.+np.exp(-self.alphas_[i]*act[-1])))*act[-1])\n",
      "C:\\Users\\ELAKIA\\AppData\\Local\\Temp\\ipykernel_18860\\3287485652.py:35: RuntimeWarning: overflow encountered in square\n",
      "  c = ((tre - pred)**2)/((teu + trb)**2) # (Real - Model)^2/(Error Up + Error Bottom)^2\n"
     ]
    },
    {
     "name": "stdout",
     "output_type": "stream",
     "text": [
      "[mcmc] Learn + convergence test @ 8560 samples accepted.\n",
      "[mcmc]  - Acceptance rate: 0.227\n",
      "[mcmc]  - Convergence of means: R-1 = 0.002966 after 6848 accepted steps\n",
      "[mcmc]  - Updated covariance matrix of proposal pdf.\n"
     ]
    },
    {
     "name": "stderr",
     "output_type": "stream",
     "text": [
      "C:\\Users\\ELAKIA\\AppData\\Local\\Temp\\ipykernel_18860\\3287485652.py:35: RuntimeWarning: overflow encountered in square\n",
      "  c = ((tre - pred)**2)/((teu + trb)**2) # (Real - Model)^2/(Error Up + Error Bottom)^2\n"
     ]
    },
    {
     "name": "stdout",
     "output_type": "stream",
     "text": [
      "[mcmc] Learn + convergence test @ 8640 samples accepted.\n",
      "[mcmc]  - Acceptance rate: 0.228\n",
      "[mcmc]  - Convergence of means: R-1 = 0.001919 after 6912 accepted steps\n",
      "[mcmc]  - Updated covariance matrix of proposal pdf.\n",
      "[mcmc] Learn + convergence test @ 8720 samples accepted.\n",
      "[mcmc]  - Acceptance rate: 0.227\n",
      "[mcmc]  - Convergence of means: R-1 = 0.002093 after 6976 accepted steps\n",
      "[mcmc]  - Updated covariance matrix of proposal pdf.\n",
      "[mcmc] Learn + convergence test @ 8800 samples accepted.\n",
      "[mcmc]  - Acceptance rate: 0.229\n",
      "[mcmc]  - Convergence of means: R-1 = 0.002449 after 7040 accepted steps\n",
      "[mcmc]  - Updated covariance matrix of proposal pdf.\n",
      "[mcmc] Learn + convergence test @ 8880 samples accepted.\n",
      "[mcmc]  - Acceptance rate: 0.228\n",
      "[mcmc]  - Convergence of means: R-1 = 0.002831 after 7104 accepted steps\n",
      "[mcmc]  - Updated covariance matrix of proposal pdf.\n",
      "[mcmc] Learn + convergence test @ 8960 samples accepted.\n",
      "[mcmc]  - Acceptance rate: 0.229\n",
      "[mcmc]  - Convergence of means: R-1 = 0.003181 after 7168 accepted steps\n",
      "[mcmc]  - Updated covariance matrix of proposal pdf.\n"
     ]
    },
    {
     "name": "stderr",
     "output_type": "stream",
     "text": [
      "C:\\Users\\ELAKIA\\AppData\\Local\\Temp\\ipykernel_18860\\3287485652.py:35: RuntimeWarning: overflow encountered in square\n",
      "  c = ((tre - pred)**2)/((teu + trb)**2) # (Real - Model)^2/(Error Up + Error Bottom)^2\n"
     ]
    },
    {
     "name": "stdout",
     "output_type": "stream",
     "text": [
      "[mcmc] Learn + convergence test @ 9040 samples accepted.\n",
      "[mcmc]  - Acceptance rate: 0.229\n",
      "[mcmc]  - Convergence of means: R-1 = 0.002600 after 7232 accepted steps\n",
      "[mcmc]  - Updated covariance matrix of proposal pdf.\n",
      "[mcmc] Learn + convergence test @ 9120 samples accepted.\n",
      "[mcmc]  - Acceptance rate: 0.229\n",
      "[mcmc]  - Convergence of means: R-1 = 0.002739 after 7296 accepted steps\n",
      "[mcmc]  - Updated covariance matrix of proposal pdf.\n"
     ]
    },
    {
     "name": "stderr",
     "output_type": "stream",
     "text": [
      "C:\\Users\\ELAKIA\\AppData\\Local\\Temp\\ipykernel_18860\\3287485652.py:35: RuntimeWarning: overflow encountered in square\n",
      "  c = ((tre - pred)**2)/((teu + trb)**2) # (Real - Model)^2/(Error Up + Error Bottom)^2\n"
     ]
    },
    {
     "name": "stdout",
     "output_type": "stream",
     "text": [
      "[mcmc] Learn + convergence test @ 9200 samples accepted.\n",
      "[mcmc]  - Acceptance rate: 0.229\n",
      "[mcmc]  - Convergence of means: R-1 = 0.001852 after 7360 accepted steps\n",
      "[mcmc]  - Updated covariance matrix of proposal pdf.\n",
      "[mcmc] Learn + convergence test @ 9280 samples accepted.\n",
      "[mcmc]  - Acceptance rate: 0.229\n",
      "[mcmc]  - Convergence of means: R-1 = 0.002397 after 7424 accepted steps\n",
      "[mcmc]  - Updated covariance matrix of proposal pdf.\n"
     ]
    },
    {
     "name": "stderr",
     "output_type": "stream",
     "text": [
      "C:\\Users\\ELAKIA\\AppData\\Local\\Temp\\ipykernel_18860\\3287485652.py:35: RuntimeWarning: overflow encountered in square\n",
      "  c = ((tre - pred)**2)/((teu + trb)**2) # (Real - Model)^2/(Error Up + Error Bottom)^2\n"
     ]
    },
    {
     "name": "stdout",
     "output_type": "stream",
     "text": [
      "[mcmc] Learn + convergence test @ 9360 samples accepted.\n",
      "[mcmc]  - Acceptance rate: 0.228\n",
      "[mcmc]  - Convergence of means: R-1 = 0.003444 after 7488 accepted steps\n",
      "[mcmc]  - Updated covariance matrix of proposal pdf.\n"
     ]
    },
    {
     "name": "stderr",
     "output_type": "stream",
     "text": [
      "C:\\Users\\ELAKIA\\AppData\\Local\\Temp\\ipykernel_18860\\3287485652.py:35: RuntimeWarning: overflow encountered in square\n",
      "  c = ((tre - pred)**2)/((teu + trb)**2) # (Real - Model)^2/(Error Up + Error Bottom)^2\n"
     ]
    },
    {
     "name": "stdout",
     "output_type": "stream",
     "text": [
      "[mcmc] Learn + convergence test @ 9440 samples accepted.\n",
      "[mcmc]  - Acceptance rate: 0.229\n",
      "[mcmc]  - Convergence of means: R-1 = 0.003182 after 7552 accepted steps\n",
      "[mcmc]  - Updated covariance matrix of proposal pdf.\n"
     ]
    },
    {
     "name": "stderr",
     "output_type": "stream",
     "text": [
      "C:\\Users\\ELAKIA\\AppData\\Local\\Temp\\ipykernel_18860\\3287485652.py:35: RuntimeWarning: overflow encountered in square\n",
      "  c = ((tre - pred)**2)/((teu + trb)**2) # (Real - Model)^2/(Error Up + Error Bottom)^2\n"
     ]
    },
    {
     "name": "stdout",
     "output_type": "stream",
     "text": [
      "[mcmc] Learn + convergence test @ 9520 samples accepted.\n",
      "[mcmc]  - Acceptance rate: 0.229\n",
      "[mcmc]  - Convergence of means: R-1 = 0.005923 after 7616 accepted steps\n",
      "[mcmc]  - Updated covariance matrix of proposal pdf.\n",
      "[mcmc] Progress @ 2024-06-11 20:07:33 : 39568 steps taken, and 9591 accepted.\n",
      "[mcmc] Learn + convergence test @ 9600 samples accepted.\n",
      "[mcmc]  - Acceptance rate: 0.230\n",
      "[mcmc]  - Convergence of means: R-1 = 0.005114 after 7680 accepted steps\n",
      "[mcmc]  - Updated covariance matrix of proposal pdf.\n"
     ]
    },
    {
     "name": "stderr",
     "output_type": "stream",
     "text": [
      "C:\\Users\\ELAKIA\\AppData\\Local\\Temp\\ipykernel_18860\\3287485652.py:35: RuntimeWarning: overflow encountered in square\n",
      "  c = ((tre - pred)**2)/((teu + trb)**2) # (Real - Model)^2/(Error Up + Error Bottom)^2\n"
     ]
    },
    {
     "name": "stdout",
     "output_type": "stream",
     "text": [
      "[mcmc] Learn + convergence test @ 9680 samples accepted.\n",
      "[mcmc]  - Acceptance rate: 0.229\n",
      "[mcmc]  - Convergence of means: R-1 = 0.005602 after 7744 accepted steps\n",
      "[mcmc]  - Updated covariance matrix of proposal pdf.\n",
      "[mcmc] Learn + convergence test @ 9760 samples accepted.\n",
      "[mcmc]  - Acceptance rate: 0.229\n",
      "[mcmc]  - Convergence of means: R-1 = 0.007941 after 7808 accepted steps\n",
      "[mcmc]  - Updated covariance matrix of proposal pdf.\n",
      "[mcmc] Learn + convergence test @ 9840 samples accepted.\n",
      "[mcmc]  - Acceptance rate: 0.228\n",
      "[mcmc]  - Convergence of means: R-1 = 0.006975 after 7872 accepted steps\n",
      "[mcmc]  - Updated covariance matrix of proposal pdf.\n"
     ]
    },
    {
     "name": "stderr",
     "output_type": "stream",
     "text": [
      "C:\\Users\\ELAKIA\\AppData\\Local\\Temp\\ipykernel_18860\\3287485652.py:35: RuntimeWarning: overflow encountered in square\n",
      "  c = ((tre - pred)**2)/((teu + trb)**2) # (Real - Model)^2/(Error Up + Error Bottom)^2\n"
     ]
    },
    {
     "name": "stdout",
     "output_type": "stream",
     "text": [
      "[mcmc] Learn + convergence test @ 9920 samples accepted.\n",
      "[mcmc]  - Acceptance rate: 0.229\n",
      "[mcmc]  - Convergence of means: R-1 = 0.005967 after 7936 accepted steps\n",
      "[mcmc]  - Updated covariance matrix of proposal pdf.\n",
      "[mcmc] Learn + convergence test @ 10000 samples accepted.\n",
      "[mcmc]  - Acceptance rate: 0.228\n",
      "[mcmc]  - Convergence of means: R-1 = 0.005880 after 8000 accepted steps\n",
      "[mcmc]  - Updated covariance matrix of proposal pdf.\n",
      "[mcmc] Learn + convergence test @ 10080 samples accepted.\n"
     ]
    },
    {
     "name": "stderr",
     "output_type": "stream",
     "text": [
      "C:\\Users\\ELAKIA\\AppData\\Local\\Temp\\ipykernel_18860\\3287485652.py:35: RuntimeWarning: overflow encountered in square\n",
      "  c = ((tre - pred)**2)/((teu + trb)**2) # (Real - Model)^2/(Error Up + Error Bottom)^2\n"
     ]
    },
    {
     "name": "stdout",
     "output_type": "stream",
     "text": [
      "[mcmc]  - Acceptance rate: 0.228\n",
      "[mcmc]  - Convergence of means: R-1 = 0.005600 after 8064 accepted steps\n",
      "[mcmc]  - Updated covariance matrix of proposal pdf.\n",
      "[mcmc] Learn + convergence test @ 10160 samples accepted.\n",
      "[mcmc]  - Acceptance rate: 0.228\n",
      "[mcmc]  - Convergence of means: R-1 = 0.005123 after 8128 accepted steps\n",
      "[mcmc]  - Updated covariance matrix of proposal pdf.\n"
     ]
    },
    {
     "name": "stderr",
     "output_type": "stream",
     "text": [
      "C:\\Users\\ELAKIA\\AppData\\Local\\Temp\\ipykernel_18860\\3287485652.py:35: RuntimeWarning: overflow encountered in square\n",
      "  c = ((tre - pred)**2)/((teu + trb)**2) # (Real - Model)^2/(Error Up + Error Bottom)^2\n"
     ]
    },
    {
     "name": "stdout",
     "output_type": "stream",
     "text": [
      "[mcmc] Learn + convergence test @ 10240 samples accepted.\n",
      "[mcmc]  - Acceptance rate: 0.226\n",
      "[mcmc]  - Convergence of means: R-1 = 0.005384 after 8192 accepted steps\n",
      "[mcmc]  - Updated covariance matrix of proposal pdf.\n",
      "[mcmc] Learn + convergence test @ 10320 samples accepted.\n",
      "[mcmc]  - Acceptance rate: 0.227\n",
      "[mcmc]  - Convergence of means: R-1 = 0.004987 after 8256 accepted steps\n",
      "[mcmc]  - Updated covariance matrix of proposal pdf.\n",
      "[mcmc] Learn + convergence test @ 10400 samples accepted.\n",
      "[mcmc]  - Acceptance rate: 0.227\n",
      "[mcmc]  - Convergence of means: R-1 = 0.004056 after 8320 accepted steps\n",
      "[mcmc]  - Updated covariance matrix of proposal pdf.\n",
      "[mcmc] Learn + convergence test @ 10480 samples accepted.\n",
      "[mcmc]  - Acceptance rate: 0.227\n",
      "[mcmc]  - Convergence of means: R-1 = 0.003900 after 8384 accepted steps\n",
      "[mcmc]  - Updated covariance matrix of proposal pdf.\n"
     ]
    },
    {
     "name": "stderr",
     "output_type": "stream",
     "text": [
      "C:\\Users\\ELAKIA\\AppData\\Local\\Temp\\ipykernel_18860\\3287485652.py:35: RuntimeWarning: overflow encountered in square\n",
      "  c = ((tre - pred)**2)/((teu + trb)**2) # (Real - Model)^2/(Error Up + Error Bottom)^2\n"
     ]
    },
    {
     "name": "stdout",
     "output_type": "stream",
     "text": [
      "[mcmc] Learn + convergence test @ 10560 samples accepted.\n",
      "[mcmc]  - Acceptance rate: 0.227\n",
      "[mcmc]  - Convergence of means: R-1 = 0.002910 after 8448 accepted steps\n",
      "[mcmc]  - Updated covariance matrix of proposal pdf.\n",
      "[mcmc] Learn + convergence test @ 10640 samples accepted.\n",
      "[mcmc]  - Acceptance rate: 0.227\n",
      "[mcmc]  - Convergence of means: R-1 = 0.002951 after 8512 accepted steps\n",
      "[mcmc]  - Updated covariance matrix of proposal pdf.\n",
      "[mcmc] Learn + convergence test @ 10720 samples accepted.\n",
      "[mcmc]  - Acceptance rate: 0.228\n",
      "[mcmc]  - Convergence of means: R-1 = 0.003144 after 8576 accepted steps\n",
      "[mcmc]  - Updated covariance matrix of proposal pdf.\n"
     ]
    },
    {
     "name": "stderr",
     "output_type": "stream",
     "text": [
      "C:\\Users\\ELAKIA\\AppData\\Local\\Temp\\ipykernel_18860\\3287485652.py:35: RuntimeWarning: overflow encountered in square\n",
      "  c = ((tre - pred)**2)/((teu + trb)**2) # (Real - Model)^2/(Error Up + Error Bottom)^2\n"
     ]
    },
    {
     "name": "stdout",
     "output_type": "stream",
     "text": [
      "[mcmc] Learn + convergence test @ 10800 samples accepted.\n",
      "[mcmc]  - Acceptance rate: 0.227\n",
      "[mcmc]  - Convergence of means: R-1 = 0.003027 after 8640 accepted steps\n",
      "[mcmc]  - Updated covariance matrix of proposal pdf.\n",
      "[mcmc] Learn + convergence test @ 10880 samples accepted.\n",
      "[mcmc]  - Acceptance rate: 0.228\n",
      "[mcmc]  - Convergence of means: R-1 = 0.003136 after 8704 accepted steps\n",
      "[mcmc]  - Updated covariance matrix of proposal pdf.\n"
     ]
    },
    {
     "name": "stderr",
     "output_type": "stream",
     "text": [
      "C:\\Users\\ELAKIA\\AppData\\Local\\Temp\\ipykernel_18860\\3287485652.py:35: RuntimeWarning: overflow encountered in square\n",
      "  c = ((tre - pred)**2)/((teu + trb)**2) # (Real - Model)^2/(Error Up + Error Bottom)^2\n"
     ]
    },
    {
     "name": "stdout",
     "output_type": "stream",
     "text": [
      "[mcmc] Learn + convergence test @ 10960 samples accepted.\n",
      "[mcmc]  - Acceptance rate: 0.228\n",
      "[mcmc]  - Convergence of means: R-1 = 0.003127 after 8768 accepted steps\n",
      "[mcmc]  - Updated covariance matrix of proposal pdf.\n"
     ]
    },
    {
     "name": "stderr",
     "output_type": "stream",
     "text": [
      "C:\\Users\\ELAKIA\\AppData\\Local\\Temp\\ipykernel_18860\\3287485652.py:35: RuntimeWarning: overflow encountered in square\n",
      "  c = ((tre - pred)**2)/((teu + trb)**2) # (Real - Model)^2/(Error Up + Error Bottom)^2\n"
     ]
    },
    {
     "name": "stdout",
     "output_type": "stream",
     "text": [
      "[mcmc] Learn + convergence test @ 11040 samples accepted.\n",
      "[mcmc]  - Acceptance rate: 0.228\n",
      "[mcmc]  - Convergence of means: R-1 = 0.003056 after 8832 accepted steps\n",
      "[mcmc]  - Updated covariance matrix of proposal pdf.\n"
     ]
    },
    {
     "name": "stderr",
     "output_type": "stream",
     "text": [
      "C:\\Users\\ELAKIA\\AppData\\Local\\Temp\\ipykernel_18860\\3287485652.py:35: RuntimeWarning: overflow encountered in square\n",
      "  c = ((tre - pred)**2)/((teu + trb)**2) # (Real - Model)^2/(Error Up + Error Bottom)^2\n"
     ]
    },
    {
     "name": "stdout",
     "output_type": "stream",
     "text": [
      "[mcmc] Learn + convergence test @ 11120 samples accepted.\n",
      "[mcmc]  - Acceptance rate: 0.228\n",
      "[mcmc]  - Convergence of means: R-1 = 0.003145 after 8896 accepted steps\n",
      "[mcmc]  - Updated covariance matrix of proposal pdf.\n",
      "[mcmc] Learn + convergence test @ 11200 samples accepted.\n",
      "[mcmc]  - Acceptance rate: 0.227\n",
      "[mcmc]  - Convergence of means: R-1 = 0.002825 after 8960 accepted steps\n",
      "[mcmc]  - Updated covariance matrix of proposal pdf.\n"
     ]
    },
    {
     "name": "stderr",
     "output_type": "stream",
     "text": [
      "D:\\Python\\project_cosmology\\cospo\\lib\\site-packages\\cosmopower\\cosmopower_NN.py:336: RuntimeWarning: overflow encountered in exp\n",
      "  layers.append((self.betas_[i] + (1.-self.betas_[i])*1./(1.+np.exp(-self.alphas_[i]*act[-1])))*act[-1])\n",
      "C:\\Users\\ELAKIA\\AppData\\Local\\Temp\\ipykernel_18860\\3287485652.py:35: RuntimeWarning: overflow encountered in square\n",
      "  c = ((tre - pred)**2)/((teu + trb)**2) # (Real - Model)^2/(Error Up + Error Bottom)^2\n",
      "C:\\Users\\ELAKIA\\AppData\\Local\\Temp\\ipykernel_18860\\3287485652.py:35: RuntimeWarning: overflow encountered in square\n",
      "  c = ((tre - pred)**2)/((teu + trb)**2) # (Real - Model)^2/(Error Up + Error Bottom)^2\n"
     ]
    },
    {
     "name": "stdout",
     "output_type": "stream",
     "text": [
      "[mcmc] Learn + convergence test @ 11280 samples accepted.\n",
      "[mcmc]  - Acceptance rate: 0.226\n",
      "[mcmc]  - Convergence of means: R-1 = 0.003565 after 9024 accepted steps\n",
      "[mcmc]  - Updated covariance matrix of proposal pdf.\n"
     ]
    },
    {
     "name": "stderr",
     "output_type": "stream",
     "text": [
      "C:\\Users\\ELAKIA\\AppData\\Local\\Temp\\ipykernel_18860\\3287485652.py:35: RuntimeWarning: overflow encountered in square\n",
      "  c = ((tre - pred)**2)/((teu + trb)**2) # (Real - Model)^2/(Error Up + Error Bottom)^2\n"
     ]
    },
    {
     "name": "stdout",
     "output_type": "stream",
     "text": [
      "[mcmc] Learn + convergence test @ 11360 samples accepted.\n",
      "[mcmc]  - Acceptance rate: 0.225\n",
      "[mcmc]  - Convergence of means: R-1 = 0.003758 after 9088 accepted steps\n",
      "[mcmc]  - Updated covariance matrix of proposal pdf.\n",
      "[mcmc] Learn + convergence test @ 11440 samples accepted.\n",
      "[mcmc]  - Acceptance rate: 0.225\n",
      "[mcmc]  - Convergence of means: R-1 = 0.003652 after 9152 accepted steps\n",
      "[mcmc]  - Updated covariance matrix of proposal pdf.\n"
     ]
    },
    {
     "name": "stderr",
     "output_type": "stream",
     "text": [
      "C:\\Users\\ELAKIA\\AppData\\Local\\Temp\\ipykernel_18860\\3287485652.py:35: RuntimeWarning: overflow encountered in square\n",
      "  c = ((tre - pred)**2)/((teu + trb)**2) # (Real - Model)^2/(Error Up + Error Bottom)^2\n"
     ]
    },
    {
     "name": "stdout",
     "output_type": "stream",
     "text": [
      "[mcmc] Learn + convergence test @ 11520 samples accepted.\n",
      "[mcmc]  - Acceptance rate: 0.226\n",
      "[mcmc]  - Convergence of means: R-1 = 0.004190 after 9216 accepted steps\n",
      "[mcmc]  - Updated covariance matrix of proposal pdf.\n",
      "[mcmc] Learn + convergence test @ 11600 samples accepted.\n",
      "[mcmc]  - Acceptance rate: 0.226\n",
      "[mcmc]  - Convergence of means: R-1 = 0.004615 after 9280 accepted steps\n",
      "[mcmc]  - Updated covariance matrix of proposal pdf.\n",
      "[mcmc] Learn + convergence test @ 11680 samples accepted.\n",
      "[mcmc]  - Acceptance rate: 0.226\n",
      "[mcmc]  - Convergence of means: R-1 = 0.005325 after 9344 accepted steps\n",
      "[mcmc]  - Updated covariance matrix of proposal pdf.\n"
     ]
    },
    {
     "name": "stderr",
     "output_type": "stream",
     "text": [
      "C:\\Users\\ELAKIA\\AppData\\Local\\Temp\\ipykernel_18860\\3287485652.py:35: RuntimeWarning: overflow encountered in square\n",
      "  c = ((tre - pred)**2)/((teu + trb)**2) # (Real - Model)^2/(Error Up + Error Bottom)^2\n"
     ]
    },
    {
     "name": "stdout",
     "output_type": "stream",
     "text": [
      "[mcmc] Learn + convergence test @ 11760 samples accepted.\n",
      "[mcmc]  - Acceptance rate: 0.227\n",
      "[mcmc]  - Convergence of means: R-1 = 0.004863 after 9408 accepted steps\n",
      "[mcmc]  - Updated covariance matrix of proposal pdf.\n"
     ]
    },
    {
     "name": "stderr",
     "output_type": "stream",
     "text": [
      "C:\\Users\\ELAKIA\\AppData\\Local\\Temp\\ipykernel_18860\\3287485652.py:35: RuntimeWarning: overflow encountered in square\n",
      "  c = ((tre - pred)**2)/((teu + trb)**2) # (Real - Model)^2/(Error Up + Error Bottom)^2\n"
     ]
    },
    {
     "name": "stdout",
     "output_type": "stream",
     "text": [
      "[mcmc] Learn + convergence test @ 11840 samples accepted.\n",
      "[mcmc]  - Acceptance rate: 0.227\n",
      "[mcmc]  - Convergence of means: R-1 = 0.003665 after 9472 accepted steps\n",
      "[mcmc]  - Updated covariance matrix of proposal pdf.\n"
     ]
    },
    {
     "name": "stderr",
     "output_type": "stream",
     "text": [
      "C:\\Users\\ELAKIA\\AppData\\Local\\Temp\\ipykernel_18860\\3287485652.py:35: RuntimeWarning: overflow encountered in square\n",
      "  c = ((tre - pred)**2)/((teu + trb)**2) # (Real - Model)^2/(Error Up + Error Bottom)^2\n"
     ]
    },
    {
     "name": "stdout",
     "output_type": "stream",
     "text": [
      "[mcmc] Learn + convergence test @ 11920 samples accepted.\n",
      "[mcmc]  - Acceptance rate: 0.226\n",
      "[mcmc]  - Convergence of means: R-1 = 0.003553 after 9536 accepted steps\n",
      "[mcmc]  - Updated covariance matrix of proposal pdf.\n",
      "[mcmc] Learn + convergence test @ 12000 samples accepted.\n",
      "[mcmc]  - Acceptance rate: 0.226\n",
      "[mcmc]  - Convergence of means: R-1 = 0.003174 after 9600 accepted steps\n",
      "[mcmc]  - Updated covariance matrix of proposal pdf.\n",
      "[mcmc] Learn + convergence test @ 12080 samples accepted.\n",
      "[mcmc]  - Acceptance rate: 0.226\n",
      "[mcmc]  - Convergence of means: R-1 = 0.002183 after 9664 accepted steps\n",
      "[mcmc]  - Updated covariance matrix of proposal pdf.\n"
     ]
    },
    {
     "name": "stderr",
     "output_type": "stream",
     "text": [
      "C:\\Users\\ELAKIA\\AppData\\Local\\Temp\\ipykernel_18860\\3287485652.py:35: RuntimeWarning: overflow encountered in square\n",
      "  c = ((tre - pred)**2)/((teu + trb)**2) # (Real - Model)^2/(Error Up + Error Bottom)^2\n"
     ]
    },
    {
     "name": "stdout",
     "output_type": "stream",
     "text": [
      "[mcmc] Learn + convergence test @ 12160 samples accepted.\n",
      "[mcmc]  - Acceptance rate: 0.227\n",
      "[mcmc]  - Convergence of means: R-1 = 0.002318 after 9728 accepted steps\n",
      "[mcmc]  - Updated covariance matrix of proposal pdf.\n"
     ]
    },
    {
     "name": "stderr",
     "output_type": "stream",
     "text": [
      "C:\\Users\\ELAKIA\\AppData\\Local\\Temp\\ipykernel_18860\\3287485652.py:35: RuntimeWarning: overflow encountered in square\n",
      "  c = ((tre - pred)**2)/((teu + trb)**2) # (Real - Model)^2/(Error Up + Error Bottom)^2\n"
     ]
    },
    {
     "name": "stdout",
     "output_type": "stream",
     "text": [
      "[mcmc] Learn + convergence test @ 12240 samples accepted.\n",
      "[mcmc]  - Acceptance rate: 0.226\n",
      "[mcmc]  - Convergence of means: R-1 = 0.002272 after 9792 accepted steps\n",
      "[mcmc]  - Updated covariance matrix of proposal pdf.\n"
     ]
    },
    {
     "name": "stderr",
     "output_type": "stream",
     "text": [
      "C:\\Users\\ELAKIA\\AppData\\Local\\Temp\\ipykernel_18860\\3287485652.py:35: RuntimeWarning: overflow encountered in square\n",
      "  c = ((tre - pred)**2)/((teu + trb)**2) # (Real - Model)^2/(Error Up + Error Bottom)^2\n"
     ]
    },
    {
     "name": "stdout",
     "output_type": "stream",
     "text": [
      "[mcmc] Learn + convergence test @ 12320 samples accepted.\n",
      "[mcmc]  - Acceptance rate: 0.227\n",
      "[mcmc]  - Convergence of means: R-1 = 0.002071 after 9856 accepted steps\n",
      "[mcmc]  - Updated covariance matrix of proposal pdf.\n"
     ]
    },
    {
     "name": "stderr",
     "output_type": "stream",
     "text": [
      "C:\\Users\\ELAKIA\\AppData\\Local\\Temp\\ipykernel_18860\\3287485652.py:35: RuntimeWarning: overflow encountered in square\n",
      "  c = ((tre - pred)**2)/((teu + trb)**2) # (Real - Model)^2/(Error Up + Error Bottom)^2\n"
     ]
    },
    {
     "name": "stdout",
     "output_type": "stream",
     "text": [
      "[mcmc] Learn + convergence test @ 12400 samples accepted.\n",
      "[mcmc]  - Acceptance rate: 0.227\n",
      "[mcmc]  - Convergence of means: R-1 = 0.002361 after 9920 accepted steps\n",
      "[mcmc]  - Updated covariance matrix of proposal pdf.\n"
     ]
    },
    {
     "name": "stderr",
     "output_type": "stream",
     "text": [
      "C:\\Users\\ELAKIA\\AppData\\Local\\Temp\\ipykernel_18860\\3287485652.py:35: RuntimeWarning: overflow encountered in square\n",
      "  c = ((tre - pred)**2)/((teu + trb)**2) # (Real - Model)^2/(Error Up + Error Bottom)^2\n"
     ]
    },
    {
     "name": "stdout",
     "output_type": "stream",
     "text": [
      "[mcmc] Learn + convergence test @ 12480 samples accepted.\n",
      "[mcmc]  - Acceptance rate: 0.227\n",
      "[mcmc]  - Convergence of means: R-1 = 0.002449 after 9984 accepted steps\n",
      "[mcmc]  - Updated covariance matrix of proposal pdf.\n",
      "[mcmc] Learn + convergence test @ 12560 samples accepted.\n",
      "[mcmc]  - Acceptance rate: 0.227\n",
      "[mcmc]  - Convergence of means: R-1 = 0.002590 after 10048 accepted steps\n",
      "[mcmc]  - Updated covariance matrix of proposal pdf.\n"
     ]
    },
    {
     "name": "stderr",
     "output_type": "stream",
     "text": [
      "C:\\Users\\ELAKIA\\AppData\\Local\\Temp\\ipykernel_18860\\3287485652.py:35: RuntimeWarning: overflow encountered in square\n",
      "  c = ((tre - pred)**2)/((teu + trb)**2) # (Real - Model)^2/(Error Up + Error Bottom)^2\n"
     ]
    },
    {
     "name": "stdout",
     "output_type": "stream",
     "text": [
      "[mcmc] Learn + convergence test @ 12640 samples accepted.\n",
      "[mcmc]  - Acceptance rate: 0.228\n",
      "[mcmc]  - Convergence of means: R-1 = 0.002272 after 10112 accepted steps\n",
      "[mcmc]  - Updated covariance matrix of proposal pdf.\n"
     ]
    },
    {
     "name": "stderr",
     "output_type": "stream",
     "text": [
      "C:\\Users\\ELAKIA\\AppData\\Local\\Temp\\ipykernel_18860\\3287485652.py:35: RuntimeWarning: overflow encountered in square\n",
      "  c = ((tre - pred)**2)/((teu + trb)**2) # (Real - Model)^2/(Error Up + Error Bottom)^2\n"
     ]
    },
    {
     "name": "stdout",
     "output_type": "stream",
     "text": [
      "[mcmc] Learn + convergence test @ 12720 samples accepted.\n",
      "[mcmc]  - Acceptance rate: 0.228\n",
      "[mcmc]  - Convergence of means: R-1 = 0.002436 after 10176 accepted steps\n",
      "[mcmc]  - Updated covariance matrix of proposal pdf.\n",
      "[mcmc] Learn + convergence test @ 12800 samples accepted.\n",
      "[mcmc]  - Acceptance rate: 0.228\n",
      "[mcmc]  - Convergence of means: R-1 = 0.002628 after 10240 accepted steps\n",
      "[mcmc]  - Updated covariance matrix of proposal pdf.\n"
     ]
    },
    {
     "name": "stderr",
     "output_type": "stream",
     "text": [
      "C:\\Users\\ELAKIA\\AppData\\Local\\Temp\\ipykernel_18860\\3287485652.py:35: RuntimeWarning: overflow encountered in square\n",
      "  c = ((tre - pred)**2)/((teu + trb)**2) # (Real - Model)^2/(Error Up + Error Bottom)^2\n"
     ]
    },
    {
     "name": "stdout",
     "output_type": "stream",
     "text": [
      "[mcmc] Learn + convergence test @ 12880 samples accepted.\n",
      "[mcmc]  - Acceptance rate: 0.228\n",
      "[mcmc]  - Convergence of means: R-1 = 0.002489 after 10304 accepted steps\n",
      "[mcmc]  - Updated covariance matrix of proposal pdf.\n",
      "[mcmc] Learn + convergence test @ 12960 samples accepted.\n",
      "[mcmc]  - Acceptance rate: 0.228\n",
      "[mcmc]  - Convergence of means: R-1 = 0.002485 after 10368 accepted steps\n",
      "[mcmc]  - Updated covariance matrix of proposal pdf.\n"
     ]
    },
    {
     "name": "stderr",
     "output_type": "stream",
     "text": [
      "C:\\Users\\ELAKIA\\AppData\\Local\\Temp\\ipykernel_18860\\3287485652.py:35: RuntimeWarning: overflow encountered in square\n",
      "  c = ((tre - pred)**2)/((teu + trb)**2) # (Real - Model)^2/(Error Up + Error Bottom)^2\n"
     ]
    },
    {
     "name": "stdout",
     "output_type": "stream",
     "text": [
      "[mcmc] Learn + convergence test @ 13040 samples accepted.\n",
      "[mcmc]  - Acceptance rate: 0.228\n",
      "[mcmc]  - Convergence of means: R-1 = 0.002578 after 10432 accepted steps\n",
      "[mcmc]  - Updated covariance matrix of proposal pdf.\n",
      "[mcmc] Learn + convergence test @ 13120 samples accepted.\n",
      "[mcmc]  - Acceptance rate: 0.228\n",
      "[mcmc]  - Convergence of means: R-1 = 0.002699 after 10496 accepted steps\n",
      "[mcmc]  - Updated covariance matrix of proposal pdf.\n"
     ]
    },
    {
     "name": "stderr",
     "output_type": "stream",
     "text": [
      "C:\\Users\\ELAKIA\\AppData\\Local\\Temp\\ipykernel_18860\\3287485652.py:35: RuntimeWarning: overflow encountered in square\n",
      "  c = ((tre - pred)**2)/((teu + trb)**2) # (Real - Model)^2/(Error Up + Error Bottom)^2\n"
     ]
    },
    {
     "name": "stdout",
     "output_type": "stream",
     "text": [
      "[mcmc] Learn + convergence test @ 13200 samples accepted.\n",
      "[mcmc]  - Acceptance rate: 0.228\n",
      "[mcmc]  - Convergence of means: R-1 = 0.002266 after 10560 accepted steps\n",
      "[mcmc]  - Updated covariance matrix of proposal pdf.\n",
      "[mcmc] Learn + convergence test @ 13280 samples accepted.\n",
      "[mcmc]  - Acceptance rate: 0.228\n",
      "[mcmc]  - Convergence of means: R-1 = 0.002386 after 10624 accepted steps\n",
      "[mcmc]  - Updated covariance matrix of proposal pdf.\n",
      "[mcmc] Learn + convergence test @ 13360 samples accepted.\n",
      "[mcmc]  - Acceptance rate: 0.228\n",
      "[mcmc]  - Convergence of means: R-1 = 0.002631 after 10688 accepted steps\n",
      "[mcmc]  - Updated covariance matrix of proposal pdf.\n"
     ]
    },
    {
     "name": "stderr",
     "output_type": "stream",
     "text": [
      "C:\\Users\\ELAKIA\\AppData\\Local\\Temp\\ipykernel_18860\\3287485652.py:35: RuntimeWarning: overflow encountered in square\n",
      "  c = ((tre - pred)**2)/((teu + trb)**2) # (Real - Model)^2/(Error Up + Error Bottom)^2\n"
     ]
    },
    {
     "name": "stdout",
     "output_type": "stream",
     "text": [
      "[mcmc] Learn + convergence test @ 13440 samples accepted.\n",
      "[mcmc]  - Acceptance rate: 0.228\n",
      "[mcmc]  - Convergence of means: R-1 = 0.003970 after 10752 accepted steps\n",
      "[mcmc]  - Updated covariance matrix of proposal pdf.\n",
      "[mcmc] Learn + convergence test @ 13520 samples accepted.\n",
      "[mcmc]  - Acceptance rate: 0.228\n",
      "[mcmc]  - Convergence of means: R-1 = 0.003541 after 10816 accepted steps\n",
      "[mcmc]  - Updated covariance matrix of proposal pdf.\n",
      "[mcmc] Learn + convergence test @ 13600 samples accepted.\n",
      "[mcmc]  - Acceptance rate: 0.228\n",
      "[mcmc]  - Convergence of means: R-1 = 0.003217 after 10880 accepted steps\n",
      "[mcmc]  - Updated covariance matrix of proposal pdf.\n"
     ]
    },
    {
     "name": "stderr",
     "output_type": "stream",
     "text": [
      "C:\\Users\\ELAKIA\\AppData\\Local\\Temp\\ipykernel_18860\\3287485652.py:35: RuntimeWarning: overflow encountered in square\n",
      "  c = ((tre - pred)**2)/((teu + trb)**2) # (Real - Model)^2/(Error Up + Error Bottom)^2\n",
      "D:\\Python\\project_cosmology\\cospo\\lib\\site-packages\\cosmopower\\cosmopower_NN.py:336: RuntimeWarning: overflow encountered in exp\n",
      "  layers.append((self.betas_[i] + (1.-self.betas_[i])*1./(1.+np.exp(-self.alphas_[i]*act[-1])))*act[-1])\n"
     ]
    },
    {
     "name": "stdout",
     "output_type": "stream",
     "text": [
      "[mcmc] Learn + convergence test @ 13680 samples accepted.\n",
      "[mcmc]  - Acceptance rate: 0.228\n",
      "[mcmc]  - Convergence of means: R-1 = 0.003873 after 10944 accepted steps\n",
      "[mcmc]  - Updated covariance matrix of proposal pdf.\n",
      "[mcmc] Learn + convergence test @ 13760 samples accepted.\n",
      "[mcmc]  - Acceptance rate: 0.228\n",
      "[mcmc]  - Convergence of means: R-1 = 0.004253 after 11008 accepted steps\n",
      "[mcmc]  - Updated covariance matrix of proposal pdf.\n",
      "[mcmc] Learn + convergence test @ 13840 samples accepted.\n",
      "[mcmc]  - Acceptance rate: 0.228\n",
      "[mcmc]  - Convergence of means: R-1 = 0.004002 after 11072 accepted steps\n",
      "[mcmc]  - Updated covariance matrix of proposal pdf.\n"
     ]
    },
    {
     "name": "stderr",
     "output_type": "stream",
     "text": [
      "C:\\Users\\ELAKIA\\AppData\\Local\\Temp\\ipykernel_18860\\3287485652.py:35: RuntimeWarning: overflow encountered in square\n",
      "  c = ((tre - pred)**2)/((teu + trb)**2) # (Real - Model)^2/(Error Up + Error Bottom)^2\n"
     ]
    },
    {
     "name": "stdout",
     "output_type": "stream",
     "text": [
      "[mcmc] Learn + convergence test @ 13920 samples accepted.\n",
      "[mcmc]  - Acceptance rate: 0.228\n",
      "[mcmc]  - Convergence of means: R-1 = 0.003806 after 11136 accepted steps\n",
      "[mcmc]  - Updated covariance matrix of proposal pdf.\n",
      "[mcmc] Learn + convergence test @ 14000 samples accepted.\n",
      "[mcmc]  - Acceptance rate: 0.228\n",
      "[mcmc]  - Convergence of means: R-1 = 0.003604 after 11200 accepted steps\n",
      "[mcmc]  - Updated covariance matrix of proposal pdf.\n"
     ]
    },
    {
     "name": "stderr",
     "output_type": "stream",
     "text": [
      "C:\\Users\\ELAKIA\\AppData\\Local\\Temp\\ipykernel_18860\\3287485652.py:35: RuntimeWarning: overflow encountered in square\n",
      "  c = ((tre - pred)**2)/((teu + trb)**2) # (Real - Model)^2/(Error Up + Error Bottom)^2\n",
      "C:\\Users\\ELAKIA\\AppData\\Local\\Temp\\ipykernel_18860\\3287485652.py:35: RuntimeWarning: overflow encountered in square\n",
      "  c = ((tre - pred)**2)/((teu + trb)**2) # (Real - Model)^2/(Error Up + Error Bottom)^2\n"
     ]
    },
    {
     "name": "stdout",
     "output_type": "stream",
     "text": [
      "[mcmc] Learn + convergence test @ 14080 samples accepted.\n",
      "[mcmc]  - Acceptance rate: 0.228\n",
      "[mcmc]  - Convergence of means: R-1 = 0.003389 after 11264 accepted steps\n",
      "[mcmc]  - Updated covariance matrix of proposal pdf.\n",
      "[mcmc] Learn + convergence test @ 14160 samples accepted.\n",
      "[mcmc]  - Acceptance rate: 0.227\n",
      "[mcmc]  - Convergence of means: R-1 = 0.003850 after 11328 accepted steps\n",
      "[mcmc]  - Updated covariance matrix of proposal pdf.\n"
     ]
    },
    {
     "name": "stderr",
     "output_type": "stream",
     "text": [
      "C:\\Users\\ELAKIA\\AppData\\Local\\Temp\\ipykernel_18860\\3287485652.py:35: RuntimeWarning: overflow encountered in square\n",
      "  c = ((tre - pred)**2)/((teu + trb)**2) # (Real - Model)^2/(Error Up + Error Bottom)^2\n"
     ]
    },
    {
     "name": "stdout",
     "output_type": "stream",
     "text": [
      "[mcmc] Learn + convergence test @ 14240 samples accepted.\n",
      "[mcmc]  - Acceptance rate: 0.227\n",
      "[mcmc]  - Convergence of means: R-1 = 0.003183 after 11392 accepted steps\n",
      "[mcmc]  - Updated covariance matrix of proposal pdf.\n",
      "[mcmc] Learn + convergence test @ 14320 samples accepted.\n",
      "[mcmc]  - Acceptance rate: 0.226\n",
      "[mcmc]  - Convergence of means: R-1 = 0.002814 after 11456 accepted steps\n",
      "[mcmc]  - Updated covariance matrix of proposal pdf.\n"
     ]
    },
    {
     "name": "stderr",
     "output_type": "stream",
     "text": [
      "C:\\Users\\ELAKIA\\AppData\\Local\\Temp\\ipykernel_18860\\3287485652.py:35: RuntimeWarning: overflow encountered in square\n",
      "  c = ((tre - pred)**2)/((teu + trb)**2) # (Real - Model)^2/(Error Up + Error Bottom)^2\n"
     ]
    },
    {
     "name": "stdout",
     "output_type": "stream",
     "text": [
      "[mcmc] Learn + convergence test @ 14400 samples accepted.\n",
      "[mcmc]  - Acceptance rate: 0.226\n",
      "[mcmc]  - Convergence of means: R-1 = 0.002807 after 11520 accepted steps\n",
      "[mcmc]  - Updated covariance matrix of proposal pdf.\n"
     ]
    },
    {
     "name": "stderr",
     "output_type": "stream",
     "text": [
      "C:\\Users\\ELAKIA\\AppData\\Local\\Temp\\ipykernel_18860\\3287485652.py:35: RuntimeWarning: overflow encountered in square\n",
      "  c = ((tre - pred)**2)/((teu + trb)**2) # (Real - Model)^2/(Error Up + Error Bottom)^2\n"
     ]
    },
    {
     "name": "stdout",
     "output_type": "stream",
     "text": [
      "[mcmc] Learn + convergence test @ 14480 samples accepted.\n",
      "[mcmc]  - Acceptance rate: 0.226\n",
      "[mcmc]  - Convergence of means: R-1 = 0.002678 after 11584 accepted steps\n",
      "[mcmc]  - Updated covariance matrix of proposal pdf.\n"
     ]
    },
    {
     "name": "stderr",
     "output_type": "stream",
     "text": [
      "C:\\Users\\ELAKIA\\AppData\\Local\\Temp\\ipykernel_18860\\3287485652.py:35: RuntimeWarning: overflow encountered in square\n",
      "  c = ((tre - pred)**2)/((teu + trb)**2) # (Real - Model)^2/(Error Up + Error Bottom)^2\n"
     ]
    },
    {
     "name": "stdout",
     "output_type": "stream",
     "text": [
      "[mcmc] Learn + convergence test @ 14560 samples accepted.\n",
      "[mcmc]  - Acceptance rate: 0.226\n",
      "[mcmc]  - Convergence of means: R-1 = 0.002802 after 11648 accepted steps\n",
      "[mcmc]  - Updated covariance matrix of proposal pdf.\n"
     ]
    },
    {
     "name": "stderr",
     "output_type": "stream",
     "text": [
      "C:\\Users\\ELAKIA\\AppData\\Local\\Temp\\ipykernel_18860\\3287485652.py:35: RuntimeWarning: overflow encountered in square\n",
      "  c = ((tre - pred)**2)/((teu + trb)**2) # (Real - Model)^2/(Error Up + Error Bottom)^2\n"
     ]
    },
    {
     "name": "stdout",
     "output_type": "stream",
     "text": [
      "[mcmc] Learn + convergence test @ 14640 samples accepted.\n",
      "[mcmc]  - Acceptance rate: 0.226\n",
      "[mcmc]  - Convergence of means: R-1 = 0.002716 after 11712 accepted steps\n",
      "[mcmc]  - Updated covariance matrix of proposal pdf.\n"
     ]
    },
    {
     "name": "stderr",
     "output_type": "stream",
     "text": [
      "C:\\Users\\ELAKIA\\AppData\\Local\\Temp\\ipykernel_18860\\3287485652.py:35: RuntimeWarning: overflow encountered in square\n",
      "  c = ((tre - pred)**2)/((teu + trb)**2) # (Real - Model)^2/(Error Up + Error Bottom)^2\n"
     ]
    },
    {
     "name": "stdout",
     "output_type": "stream",
     "text": [
      "[mcmc] Learn + convergence test @ 14720 samples accepted.\n",
      "[mcmc]  - Acceptance rate: 0.226\n",
      "[mcmc]  - Convergence of means: R-1 = 0.002122 after 11776 accepted steps\n",
      "[mcmc]  - Updated covariance matrix of proposal pdf.\n"
     ]
    },
    {
     "name": "stderr",
     "output_type": "stream",
     "text": [
      "C:\\Users\\ELAKIA\\AppData\\Local\\Temp\\ipykernel_18860\\3287485652.py:35: RuntimeWarning: overflow encountered in square\n",
      "  c = ((tre - pred)**2)/((teu + trb)**2) # (Real - Model)^2/(Error Up + Error Bottom)^2\n"
     ]
    },
    {
     "name": "stdout",
     "output_type": "stream",
     "text": [
      "[mcmc] Learn + convergence test @ 14800 samples accepted.\n",
      "[mcmc]  - Acceptance rate: 0.225\n",
      "[mcmc]  - Convergence of means: R-1 = 0.001769 after 11840 accepted steps\n",
      "[mcmc]  - Updated covariance matrix of proposal pdf.\n"
     ]
    },
    {
     "name": "stderr",
     "output_type": "stream",
     "text": [
      "C:\\Users\\ELAKIA\\AppData\\Local\\Temp\\ipykernel_18860\\3287485652.py:35: RuntimeWarning: overflow encountered in square\n",
      "  c = ((tre - pred)**2)/((teu + trb)**2) # (Real - Model)^2/(Error Up + Error Bottom)^2\n"
     ]
    },
    {
     "name": "stdout",
     "output_type": "stream",
     "text": [
      "[mcmc] Learn + convergence test @ 14880 samples accepted.\n",
      "[mcmc]  - Acceptance rate: 0.225\n",
      "[mcmc]  - Convergence of means: R-1 = 0.001595 after 11904 accepted steps\n",
      "[mcmc]  - Updated covariance matrix of proposal pdf.\n"
     ]
    },
    {
     "name": "stderr",
     "output_type": "stream",
     "text": [
      "C:\\Users\\ELAKIA\\AppData\\Local\\Temp\\ipykernel_18860\\3287485652.py:35: RuntimeWarning: overflow encountered in square\n",
      "  c = ((tre - pred)**2)/((teu + trb)**2) # (Real - Model)^2/(Error Up + Error Bottom)^2\n"
     ]
    },
    {
     "name": "stdout",
     "output_type": "stream",
     "text": [
      "[mcmc] Learn + convergence test @ 14960 samples accepted.\n",
      "[mcmc]  - Acceptance rate: 0.225\n",
      "[mcmc]  - Convergence of means: R-1 = 0.001612 after 11968 accepted steps\n",
      "[mcmc]  - Updated covariance matrix of proposal pdf.\n",
      "[mcmc] Progress @ 2024-06-11 20:08:33 : 63849 steps taken, and 15001 accepted.\n",
      "[mcmc] Learn + convergence test @ 15040 samples accepted.\n",
      "[mcmc]  - Acceptance rate: 0.225\n",
      "[mcmc]  - Convergence of means: R-1 = 0.001899 after 12032 accepted steps\n",
      "[mcmc]  - Updated covariance matrix of proposal pdf.\n"
     ]
    },
    {
     "name": "stderr",
     "output_type": "stream",
     "text": [
      "C:\\Users\\ELAKIA\\AppData\\Local\\Temp\\ipykernel_18860\\3287485652.py:35: RuntimeWarning: overflow encountered in square\n",
      "  c = ((tre - pred)**2)/((teu + trb)**2) # (Real - Model)^2/(Error Up + Error Bottom)^2\n"
     ]
    },
    {
     "name": "stdout",
     "output_type": "stream",
     "text": [
      "[mcmc] Learn + convergence test @ 15120 samples accepted.\n",
      "[mcmc]  - Acceptance rate: 0.226\n",
      "[mcmc]  - Convergence of means: R-1 = 0.001645 after 12096 accepted steps\n",
      "[mcmc]  - Updated covariance matrix of proposal pdf.\n"
     ]
    },
    {
     "name": "stderr",
     "output_type": "stream",
     "text": [
      "C:\\Users\\ELAKIA\\AppData\\Local\\Temp\\ipykernel_18860\\3287485652.py:35: RuntimeWarning: overflow encountered in square\n",
      "  c = ((tre - pred)**2)/((teu + trb)**2) # (Real - Model)^2/(Error Up + Error Bottom)^2\n"
     ]
    },
    {
     "name": "stdout",
     "output_type": "stream",
     "text": [
      "[mcmc] Learn + convergence test @ 15200 samples accepted.\n",
      "[mcmc]  - Acceptance rate: 0.226\n",
      "[mcmc]  - Convergence of means: R-1 = 0.001771 after 12160 accepted steps\n",
      "[mcmc]  - Updated covariance matrix of proposal pdf.\n"
     ]
    },
    {
     "name": "stderr",
     "output_type": "stream",
     "text": [
      "C:\\Users\\ELAKIA\\AppData\\Local\\Temp\\ipykernel_18860\\3287485652.py:35: RuntimeWarning: overflow encountered in square\n",
      "  c = ((tre - pred)**2)/((teu + trb)**2) # (Real - Model)^2/(Error Up + Error Bottom)^2\n"
     ]
    },
    {
     "name": "stdout",
     "output_type": "stream",
     "text": [
      "[mcmc] Learn + convergence test @ 15280 samples accepted.\n",
      "[mcmc]  - Acceptance rate: 0.225\n",
      "[mcmc]  - Convergence of means: R-1 = 0.002215 after 12224 accepted steps\n",
      "[mcmc]  - Updated covariance matrix of proposal pdf.\n"
     ]
    },
    {
     "name": "stderr",
     "output_type": "stream",
     "text": [
      "C:\\Users\\ELAKIA\\AppData\\Local\\Temp\\ipykernel_18860\\3287485652.py:35: RuntimeWarning: overflow encountered in square\n",
      "  c = ((tre - pred)**2)/((teu + trb)**2) # (Real - Model)^2/(Error Up + Error Bottom)^2\n"
     ]
    },
    {
     "name": "stdout",
     "output_type": "stream",
     "text": [
      "[mcmc] Learn + convergence test @ 15360 samples accepted.\n",
      "[mcmc]  - Acceptance rate: 0.225\n",
      "[mcmc]  - Convergence of means: R-1 = 0.002486 after 12288 accepted steps\n",
      "[mcmc]  - Updated covariance matrix of proposal pdf.\n",
      "[mcmc] Learn + convergence test @ 15440 samples accepted.\n",
      "[mcmc]  - Acceptance rate: 0.226\n",
      "[mcmc]  - Convergence of means: R-1 = 0.002505 after 12352 accepted steps\n",
      "[mcmc]  - Updated covariance matrix of proposal pdf.\n"
     ]
    },
    {
     "name": "stderr",
     "output_type": "stream",
     "text": [
      "C:\\Users\\ELAKIA\\AppData\\Local\\Temp\\ipykernel_18860\\3287485652.py:35: RuntimeWarning: overflow encountered in square\n",
      "  c = ((tre - pred)**2)/((teu + trb)**2) # (Real - Model)^2/(Error Up + Error Bottom)^2\n"
     ]
    },
    {
     "name": "stdout",
     "output_type": "stream",
     "text": [
      "[mcmc] Learn + convergence test @ 15520 samples accepted.\n",
      "[mcmc]  - Acceptance rate: 0.226\n",
      "[mcmc]  - Convergence of means: R-1 = 0.002272 after 12416 accepted steps\n",
      "[mcmc]  - Updated covariance matrix of proposal pdf.\n"
     ]
    },
    {
     "name": "stderr",
     "output_type": "stream",
     "text": [
      "D:\\Python\\project_cosmology\\cospo\\lib\\site-packages\\cosmopower\\cosmopower_NN.py:336: RuntimeWarning: overflow encountered in exp\n",
      "  layers.append((self.betas_[i] + (1.-self.betas_[i])*1./(1.+np.exp(-self.alphas_[i]*act[-1])))*act[-1])\n",
      "C:\\Users\\ELAKIA\\AppData\\Local\\Temp\\ipykernel_18860\\3287485652.py:35: RuntimeWarning: overflow encountered in square\n",
      "  c = ((tre - pred)**2)/((teu + trb)**2) # (Real - Model)^2/(Error Up + Error Bottom)^2\n"
     ]
    },
    {
     "name": "stdout",
     "output_type": "stream",
     "text": [
      "[mcmc] Learn + convergence test @ 15600 samples accepted.\n",
      "[mcmc]  - Acceptance rate: 0.225\n",
      "[mcmc]  - Convergence of means: R-1 = 0.002415 after 12480 accepted steps\n",
      "[mcmc]  - Updated covariance matrix of proposal pdf.\n"
     ]
    },
    {
     "name": "stderr",
     "output_type": "stream",
     "text": [
      "C:\\Users\\ELAKIA\\AppData\\Local\\Temp\\ipykernel_18860\\3287485652.py:35: RuntimeWarning: overflow encountered in square\n",
      "  c = ((tre - pred)**2)/((teu + trb)**2) # (Real - Model)^2/(Error Up + Error Bottom)^2\n"
     ]
    },
    {
     "name": "stdout",
     "output_type": "stream",
     "text": [
      "[mcmc] Learn + convergence test @ 15680 samples accepted.\n",
      "[mcmc]  - Acceptance rate: 0.225\n",
      "[mcmc]  - Convergence of means: R-1 = 0.001993 after 12544 accepted steps\n",
      "[mcmc]  - Updated covariance matrix of proposal pdf.\n",
      "[mcmc] Learn + convergence test @ 15760 samples accepted.\n",
      "[mcmc]  - Acceptance rate: 0.226\n",
      "[mcmc]  - Convergence of means: R-1 = 0.001780 after 12608 accepted steps\n",
      "[mcmc]  - Updated covariance matrix of proposal pdf.\n"
     ]
    },
    {
     "name": "stderr",
     "output_type": "stream",
     "text": [
      "C:\\Users\\ELAKIA\\AppData\\Local\\Temp\\ipykernel_18860\\3287485652.py:35: RuntimeWarning: overflow encountered in square\n",
      "  c = ((tre - pred)**2)/((teu + trb)**2) # (Real - Model)^2/(Error Up + Error Bottom)^2\n",
      "C:\\Users\\ELAKIA\\AppData\\Local\\Temp\\ipykernel_18860\\3287485652.py:35: RuntimeWarning: overflow encountered in square\n",
      "  c = ((tre - pred)**2)/((teu + trb)**2) # (Real - Model)^2/(Error Up + Error Bottom)^2\n"
     ]
    },
    {
     "name": "stdout",
     "output_type": "stream",
     "text": [
      "[mcmc] Learn + convergence test @ 15840 samples accepted.\n",
      "[mcmc]  - Acceptance rate: 0.225\n",
      "[mcmc]  - Convergence of means: R-1 = 0.001500 after 12672 accepted steps\n",
      "[mcmc]  - Updated covariance matrix of proposal pdf.\n",
      "[mcmc] Learn + convergence test @ 15920 samples accepted.\n",
      "[mcmc]  - Acceptance rate: 0.225\n",
      "[mcmc]  - Convergence of means: R-1 = 0.001571 after 12736 accepted steps\n",
      "[mcmc]  - Updated covariance matrix of proposal pdf.\n"
     ]
    },
    {
     "name": "stderr",
     "output_type": "stream",
     "text": [
      "C:\\Users\\ELAKIA\\AppData\\Local\\Temp\\ipykernel_18860\\3287485652.py:35: RuntimeWarning: overflow encountered in square\n",
      "  c = ((tre - pred)**2)/((teu + trb)**2) # (Real - Model)^2/(Error Up + Error Bottom)^2\n"
     ]
    },
    {
     "name": "stdout",
     "output_type": "stream",
     "text": [
      "[mcmc] Learn + convergence test @ 16000 samples accepted.\n",
      "[mcmc]  - Acceptance rate: 0.225\n",
      "[mcmc]  - Convergence of means: R-1 = 0.001548 after 12800 accepted steps\n",
      "[mcmc]  - Updated covariance matrix of proposal pdf.\n"
     ]
    },
    {
     "name": "stderr",
     "output_type": "stream",
     "text": [
      "C:\\Users\\ELAKIA\\AppData\\Local\\Temp\\ipykernel_18860\\3287485652.py:35: RuntimeWarning: overflow encountered in square\n",
      "  c = ((tre - pred)**2)/((teu + trb)**2) # (Real - Model)^2/(Error Up + Error Bottom)^2\n"
     ]
    },
    {
     "name": "stdout",
     "output_type": "stream",
     "text": [
      "[mcmc] Learn + convergence test @ 16080 samples accepted.\n",
      "[mcmc]  - Acceptance rate: 0.225\n",
      "[mcmc]  - Convergence of means: R-1 = 0.001560 after 12864 accepted steps\n",
      "[mcmc]  - Updated covariance matrix of proposal pdf.\n",
      "[mcmc] Learn + convergence test @ 16160 samples accepted.\n",
      "[mcmc]  - Acceptance rate: 0.226\n",
      "[mcmc]  - Convergence of means: R-1 = 0.001220 after 12928 accepted steps\n",
      "[mcmc]  - Updated covariance matrix of proposal pdf.\n",
      "[mcmc] Learn + convergence test @ 16240 samples accepted.\n",
      "[mcmc]  - Acceptance rate: 0.225\n",
      "[mcmc]  - Convergence of means: R-1 = 0.001190 after 12992 accepted steps\n",
      "[mcmc]  - Updated covariance matrix of proposal pdf.\n",
      "[mcmc] Learn + convergence test @ 16320 samples accepted.\n",
      "[mcmc]  - Acceptance rate: 0.226\n",
      "[mcmc]  - Convergence of means: R-1 = 0.001155 after 13056 accepted steps\n",
      "[mcmc]  - Updated covariance matrix of proposal pdf.\n",
      "[mcmc] Learn + convergence test @ 16400 samples accepted.\n",
      "[mcmc]  - Acceptance rate: 0.226\n",
      "[mcmc]  - Convergence of means: R-1 = 0.000842 after 13120 accepted steps\n",
      "[mcmc]  - Updated covariance matrix of proposal pdf.\n",
      "[mcmc] Learn + convergence test @ 16480 samples accepted.\n",
      "[mcmc]  - Acceptance rate: 0.226\n",
      "[mcmc]  - Convergence of means: R-1 = 0.000887 after 13184 accepted steps\n",
      "[mcmc]  - Convergence of bounds: R-1 = 0.053231 after 16480 accepted steps\n",
      "[mcmc] The run has converged!\n",
      "[mcmc] Sampling complete after 16480 accepted steps.\n"
     ]
    }
   ],
   "source": [
    "# below is parameters for 6 parameter cosmopower\n",
    "info = {\"likelihood\": {\"cosmo1\": cobaya_com1}}\n",
    "info[\"params\"] = {\n",
    "   \"omb\": {\"prior\": {\"min\": 0.001, \"max\": 0.1}, \"ref\": 0.022, \"proposal\": 0.0001},\n",
    "    \"omc\": {\"prior\": {\"min\": 0.001, \"max\": 2}, \"ref\": 0.12, \"proposal\": 0.0001}\n",
    "}\n",
    "info[\"sampler\"] = {\"mcmc\": {\"Rminus1_stop\": 0.001, \"max_tries\": 1000}}\n",
    "updated_info, sampler = run(info)"
   ]
  },
  {
   "cell_type": "code",
   "execution_count": 20,
   "id": "700f6f93-acae-4c3e-939d-a4aff2b29588",
   "metadata": {},
   "outputs": [
    {
     "name": "stdout",
     "output_type": "stream",
     "text": [
      "[mcmc] *WARNING* When combining chains, it is recommended to remove some initial fraction, e.g. 'skip_samples=0.3'\n",
      "[root] *WARNING* outlier fraction 0.00012135922330097087 \n",
      "(16480,)\n"
     ]
    },
    {
     "data": {
      "image/png": "[encoded data removed]",
      "text/plain": [
       "<Figure size 500x500 with 3 Axes>"
      ]
     },
     "metadata": {},
     "output_type": "display_data"
    }
   ],
   "source": [
    "%matplotlib inline\n",
    "import getdist.plots as gdplt\n",
    "\n",
    "gdsamples = sampler.products(to_getdist=True)[\"sample\"]\n",
    "gdplot = gdplt.get_subplot_plotter(width_inch=5)\n",
    "gdplot.triangle_plot(gdsamples, [\"omb\",\"omc\"], filled=True)\n",
    "print(np.shape(gdsamples[2]))"
   ]
  },
  {
   "cell_type": "code",
   "execution_count": 21,
   "id": "73cbf09e-2746-4e61-a5cf-aa95139bf69a",
   "metadata": {},
   "outputs": [
    {
     "name": "stdout",
     "output_type": "stream",
     "text": [
      "For the parameter  omb  The acquired value is 0.021594603468892904\n",
      "For the parameter  omc  The acquired value is 0.11260409621708312\n"
     ]
    }
   ],
   "source": [
    "p = [\"omb\",\"omc\",\"h\",\"tau\",\"ns\",\"AS\"]\n",
    "s = gdsamples.samples[np.argmin(gdsamples.loglikes)]\n",
    "for i in range(2):\n",
    "    print(\"For the parameter \",p[i],\" The acquired value is\",s[i])"
   ]
  },
  {
   "cell_type": "code",
   "execution_count": 22,
   "id": "79282fd0-21c6-4f7b-bf87-f97b99a371ea",
   "metadata": {},
   "outputs": [
    {
     "name": "stdout",
     "output_type": "stream",
     "text": [
      "[cosmo1] Initialized external likelihood.\n",
      "[mcmc] Getting initial point... (this may take a few seconds)\n",
      "[mcmc] Initial point: h:68, ns:0.964\n",
      "[model] Measuring speeds... (this may take a few seconds)\n",
      "[model] Setting measured speeds (per sec): {cosmo1: 148.0}\n",
      "[mcmc] Covariance matrix not present. We will start learning the covariance of the proposal earlier: R-1 = 30 (would be 2 if all params loaded).\n",
      "[mcmc] Sampling!\n",
      "[mcmc] Progress @ 2024-06-11 20:14:52 : 1 steps taken, and 0 accepted.\n",
      "[mcmc] Learn + convergence test @ 80 samples accepted.\n",
      "[mcmc]  - Acceptance rate: 1.000\n",
      "[mcmc]  - Convergence of means: R-1 = 5.037415 after 64 accepted steps\n",
      "[mcmc]  - Updated covariance matrix of proposal pdf.\n"
     ]
    },
    {
     "name": "stderr",
     "output_type": "stream",
     "text": [
      "D:\\Python\\project_cosmology\\cospo\\lib\\site-packages\\cobaya\\collection.py:651: FutureWarning: The behavior of array concatenation with empty entries is deprecated. In a future version, this will no longer exclude empty items when determining the result dtype. To retain the old behavior, exclude the empty entries before the concat operation.\n",
      "  self._data = pd.concat([\n"
     ]
    },
    {
     "name": "stdout",
     "output_type": "stream",
     "text": [
      "[mcmc] Learn + convergence test @ 160 samples accepted.\n",
      "[mcmc]  - Acceptance rate: 1.000\n",
      "[mcmc]  - Convergence of means: R-1 = 10.856298 after 128 accepted steps\n",
      "[mcmc]  - Updated covariance matrix of proposal pdf.\n",
      "[mcmc] Learn + convergence test @ 240 samples accepted.\n",
      "[mcmc]  - Acceptance rate: 1.000\n",
      "[mcmc]  - Convergence of means: R-1 = 12.016155 after 192 accepted steps\n",
      "[mcmc]  - Updated covariance matrix of proposal pdf.\n",
      "[mcmc] Learn + convergence test @ 320 samples accepted.\n",
      "[mcmc]  - Acceptance rate: 1.000\n",
      "[mcmc]  - Convergence of means: R-1 = 2.134663 after 256 accepted steps\n",
      "[mcmc]  - Updated covariance matrix of proposal pdf.\n",
      "[mcmc] Learn + convergence test @ 400 samples accepted.\n",
      "[mcmc]  - Acceptance rate: 1.000\n",
      "[mcmc]  - Convergence of means: R-1 = 5.100435 after 320 accepted steps\n",
      "[mcmc]  - Updated covariance matrix of proposal pdf.\n",
      "[mcmc] Learn + convergence test @ 480 samples accepted.\n",
      "[mcmc]  - Acceptance rate: 0.997\n",
      "[mcmc]  - Convergence of means: R-1 = 5.479212 after 384 accepted steps\n",
      "[mcmc]  - Updated covariance matrix of proposal pdf.\n",
      "[mcmc] Learn + convergence test @ 560 samples accepted.\n",
      "[mcmc]  - Acceptance rate: 0.993\n",
      "[mcmc]  - Convergence of means: R-1 = 2.942573 after 448 accepted steps\n",
      "[mcmc]  - Updated covariance matrix of proposal pdf.\n",
      "[mcmc] Learn + convergence test @ 640 samples accepted.\n",
      "[mcmc]  - Acceptance rate: 0.973\n",
      "[mcmc]  - Convergence of means: R-1 = 2.670846 after 512 accepted steps\n",
      "[mcmc]  - Updated covariance matrix of proposal pdf.\n",
      "[mcmc] Learn + convergence test @ 720 samples accepted.\n",
      "[mcmc]  - Acceptance rate: 0.938\n",
      "[mcmc]  - Convergence of means: R-1 = 2.754763 after 576 accepted steps\n",
      "[mcmc]  - Updated covariance matrix of proposal pdf.\n",
      "[mcmc] Learn + convergence test @ 800 samples accepted.\n",
      "[mcmc]  - Acceptance rate: 0.884\n",
      "[mcmc]  - Convergence of means: R-1 = 0.458442 after 640 accepted steps\n",
      "[mcmc]  - Updated covariance matrix of proposal pdf.\n",
      "[mcmc] Learn + convergence test @ 880 samples accepted.\n",
      "[mcmc]  - Acceptance rate: 0.780\n",
      "[mcmc]  - Convergence of means: R-1 = 0.764567 after 704 accepted steps\n",
      "[mcmc]  - Updated covariance matrix of proposal pdf.\n",
      "[mcmc] Learn + convergence test @ 960 samples accepted.\n",
      "[mcmc]  - Acceptance rate: 0.691\n",
      "[mcmc]  - Convergence of means: R-1 = 0.119449 after 768 accepted steps\n",
      "[mcmc]  - Updated covariance matrix of proposal pdf.\n",
      "[mcmc] Learn + convergence test @ 1040 samples accepted.\n",
      "[mcmc]  - Acceptance rate: 0.652\n",
      "[mcmc]  - Convergence of means: R-1 = 0.140561 after 832 accepted steps\n",
      "[mcmc]  - Updated covariance matrix of proposal pdf.\n",
      "[mcmc] Learn + convergence test @ 1120 samples accepted.\n",
      "[mcmc]  - Acceptance rate: 0.617\n",
      "[mcmc]  - Convergence of means: R-1 = 0.242032 after 896 accepted steps\n",
      "[mcmc]  - Updated covariance matrix of proposal pdf.\n",
      "[mcmc] Learn + convergence test @ 1200 samples accepted.\n",
      "[mcmc]  - Acceptance rate: 0.583\n",
      "[mcmc]  - Convergence of means: R-1 = 0.384413 after 960 accepted steps\n",
      "[mcmc]  - Updated covariance matrix of proposal pdf.\n",
      "[mcmc] Learn + convergence test @ 1280 samples accepted.\n",
      "[mcmc]  - Acceptance rate: 0.555\n",
      "[mcmc]  - Convergence of means: R-1 = 0.119531 after 1024 accepted steps\n",
      "[mcmc]  - Updated covariance matrix of proposal pdf.\n",
      "[mcmc] Learn + convergence test @ 1360 samples accepted.\n",
      "[mcmc]  - Acceptance rate: 0.522\n",
      "[mcmc]  - Convergence of means: R-1 = 0.122332 after 1088 accepted steps\n",
      "[mcmc]  - Updated covariance matrix of proposal pdf.\n",
      "[mcmc] Learn + convergence test @ 1440 samples accepted.\n",
      "[mcmc]  - Acceptance rate: 0.504\n",
      "[mcmc]  - Convergence of means: R-1 = 0.072096 after 1152 accepted steps\n",
      "[mcmc]  - Updated covariance matrix of proposal pdf.\n",
      "[mcmc] Learn + convergence test @ 1520 samples accepted.\n",
      "[mcmc]  - Acceptance rate: 0.484\n",
      "[mcmc]  - Convergence of means: R-1 = 0.100415 after 1216 accepted steps\n",
      "[mcmc]  - Updated covariance matrix of proposal pdf.\n",
      "[mcmc] Learn + convergence test @ 1600 samples accepted.\n",
      "[mcmc]  - Acceptance rate: 0.468\n",
      "[mcmc]  - Convergence of means: R-1 = 0.081543 after 1280 accepted steps\n",
      "[mcmc]  - Updated covariance matrix of proposal pdf.\n",
      "[mcmc] Learn + convergence test @ 1680 samples accepted.\n",
      "[mcmc]  - Acceptance rate: 0.457\n",
      "[mcmc]  - Convergence of means: R-1 = 0.130175 after 1344 accepted steps\n",
      "[mcmc]  - Updated covariance matrix of proposal pdf.\n",
      "[mcmc] Learn + convergence test @ 1760 samples accepted.\n",
      "[mcmc]  - Acceptance rate: 0.439\n",
      "[mcmc]  - Convergence of means: R-1 = 0.173154 after 1408 accepted steps\n",
      "[mcmc]  - Updated covariance matrix of proposal pdf.\n",
      "[mcmc] Learn + convergence test @ 1840 samples accepted.\n",
      "[mcmc]  - Acceptance rate: 0.424\n",
      "[mcmc]  - Convergence of means: R-1 = 0.167810 after 1472 accepted steps\n",
      "[mcmc]  - Updated covariance matrix of proposal pdf.\n",
      "[mcmc] Learn + convergence test @ 1920 samples accepted.\n",
      "[mcmc]  - Acceptance rate: 0.410\n",
      "[mcmc]  - Convergence of means: R-1 = 0.089694 after 1536 accepted steps\n",
      "[mcmc]  - Updated covariance matrix of proposal pdf.\n",
      "[mcmc] Learn + convergence test @ 2000 samples accepted.\n",
      "[mcmc]  - Acceptance rate: 0.397\n",
      "[mcmc]  - Convergence of means: R-1 = 0.088451 after 1600 accepted steps\n",
      "[mcmc]  - Updated covariance matrix of proposal pdf.\n",
      "[mcmc] Learn + convergence test @ 2080 samples accepted.\n",
      "[mcmc]  - Acceptance rate: 0.384\n",
      "[mcmc]  - Convergence of means: R-1 = 0.087954 after 1664 accepted steps\n",
      "[mcmc]  - Updated covariance matrix of proposal pdf.\n",
      "[mcmc] Learn + convergence test @ 2160 samples accepted.\n",
      "[mcmc]  - Acceptance rate: 0.375\n",
      "[mcmc]  - Convergence of means: R-1 = 0.056968 after 1728 accepted steps\n",
      "[mcmc]  - Updated covariance matrix of proposal pdf.\n",
      "[mcmc] Learn + convergence test @ 2240 samples accepted.\n",
      "[mcmc]  - Acceptance rate: 0.371\n",
      "[mcmc]  - Convergence of means: R-1 = 0.060119 after 1792 accepted steps\n",
      "[mcmc]  - Updated covariance matrix of proposal pdf.\n",
      "[mcmc] Learn + convergence test @ 2320 samples accepted.\n",
      "[mcmc]  - Acceptance rate: 0.369\n",
      "[mcmc]  - Convergence of means: R-1 = 0.058199 after 1856 accepted steps\n",
      "[mcmc]  - Updated covariance matrix of proposal pdf.\n",
      "[mcmc] Learn + convergence test @ 2400 samples accepted.\n",
      "[mcmc]  - Acceptance rate: 0.365\n",
      "[mcmc]  - Convergence of means: R-1 = 0.053728 after 1920 accepted steps\n",
      "[mcmc]  - Updated covariance matrix of proposal pdf.\n",
      "[mcmc] Learn + convergence test @ 2480 samples accepted.\n",
      "[mcmc]  - Acceptance rate: 0.357\n",
      "[mcmc]  - Convergence of means: R-1 = 0.046903 after 1984 accepted steps\n",
      "[mcmc]  - Updated covariance matrix of proposal pdf.\n",
      "[mcmc] Learn + convergence test @ 2560 samples accepted.\n",
      "[mcmc]  - Acceptance rate: 0.348\n",
      "[mcmc]  - Convergence of means: R-1 = 0.036622 after 2048 accepted steps\n",
      "[mcmc]  - Updated covariance matrix of proposal pdf.\n",
      "[mcmc] Learn + convergence test @ 2640 samples accepted.\n",
      "[mcmc]  - Acceptance rate: 0.344\n",
      "[mcmc]  - Convergence of means: R-1 = 0.027119 after 2112 accepted steps\n",
      "[mcmc]  - Updated covariance matrix of proposal pdf.\n",
      "[mcmc] Learn + convergence test @ 2720 samples accepted.\n",
      "[mcmc]  - Acceptance rate: 0.337\n",
      "[mcmc]  - Convergence of means: R-1 = 0.023076 after 2176 accepted steps\n",
      "[mcmc]  - Updated covariance matrix of proposal pdf.\n",
      "[mcmc] Learn + convergence test @ 2800 samples accepted.\n",
      "[mcmc]  - Acceptance rate: 0.334\n",
      "[mcmc]  - Convergence of means: R-1 = 0.028087 after 2240 accepted steps\n",
      "[mcmc]  - Updated covariance matrix of proposal pdf.\n",
      "[mcmc] Learn + convergence test @ 2880 samples accepted.\n",
      "[mcmc]  - Acceptance rate: 0.327\n",
      "[mcmc]  - Convergence of means: R-1 = 0.015078 after 2304 accepted steps\n",
      "[mcmc]  - Updated covariance matrix of proposal pdf.\n",
      "[mcmc] Learn + convergence test @ 2960 samples accepted.\n",
      "[mcmc]  - Acceptance rate: 0.322\n",
      "[mcmc]  - Convergence of means: R-1 = 0.013257 after 2368 accepted steps\n",
      "[mcmc]  - Updated covariance matrix of proposal pdf.\n",
      "[mcmc] Learn + convergence test @ 3040 samples accepted.\n",
      "[mcmc]  - Acceptance rate: 0.319\n",
      "[mcmc]  - Convergence of means: R-1 = 0.015323 after 2432 accepted steps\n",
      "[mcmc]  - Updated covariance matrix of proposal pdf.\n",
      "[mcmc] Learn + convergence test @ 3120 samples accepted.\n",
      "[mcmc]  - Acceptance rate: 0.316\n",
      "[mcmc]  - Convergence of means: R-1 = 0.015109 after 2496 accepted steps\n",
      "[mcmc]  - Updated covariance matrix of proposal pdf.\n",
      "[mcmc] Learn + convergence test @ 3200 samples accepted.\n",
      "[mcmc]  - Acceptance rate: 0.314\n",
      "[mcmc]  - Convergence of means: R-1 = 0.010713 after 2560 accepted steps\n",
      "[mcmc]  - Updated covariance matrix of proposal pdf.\n",
      "[mcmc] Learn + convergence test @ 3280 samples accepted.\n",
      "[mcmc]  - Acceptance rate: 0.309\n",
      "[mcmc]  - Convergence of means: R-1 = 0.006601 after 2624 accepted steps\n",
      "[mcmc]  - Updated covariance matrix of proposal pdf.\n",
      "[mcmc] Learn + convergence test @ 3360 samples accepted.\n",
      "[mcmc]  - Acceptance rate: 0.308\n",
      "[mcmc]  - Convergence of means: R-1 = 0.006072 after 2688 accepted steps\n",
      "[mcmc]  - Updated covariance matrix of proposal pdf.\n",
      "[mcmc] Learn + convergence test @ 3440 samples accepted.\n",
      "[mcmc]  - Acceptance rate: 0.304\n",
      "[mcmc]  - Convergence of means: R-1 = 0.007533 after 2752 accepted steps\n",
      "[mcmc]  - Updated covariance matrix of proposal pdf.\n",
      "[mcmc] Learn + convergence test @ 3520 samples accepted.\n",
      "[mcmc]  - Acceptance rate: 0.302\n",
      "[mcmc]  - Convergence of means: R-1 = 0.007817 after 2816 accepted steps\n",
      "[mcmc]  - Updated covariance matrix of proposal pdf.\n",
      "[mcmc] Learn + convergence test @ 3600 samples accepted.\n",
      "[mcmc]  - Acceptance rate: 0.299\n",
      "[mcmc]  - Convergence of means: R-1 = 0.007760 after 2880 accepted steps\n",
      "[mcmc]  - Updated covariance matrix of proposal pdf.\n",
      "[mcmc] Learn + convergence test @ 3680 samples accepted.\n",
      "[mcmc]  - Acceptance rate: 0.299\n",
      "[mcmc]  - Convergence of means: R-1 = 0.004857 after 2944 accepted steps\n",
      "[mcmc]  - Updated covariance matrix of proposal pdf.\n",
      "[mcmc] Learn + convergence test @ 3760 samples accepted.\n",
      "[mcmc]  - Acceptance rate: 0.298\n",
      "[mcmc]  - Convergence of means: R-1 = 0.004290 after 3008 accepted steps\n",
      "[mcmc]  - Updated covariance matrix of proposal pdf.\n",
      "[mcmc] Learn + convergence test @ 3840 samples accepted.\n",
      "[mcmc]  - Acceptance rate: 0.296\n",
      "[mcmc]  - Convergence of means: R-1 = 0.004465 after 3072 accepted steps\n",
      "[mcmc]  - Updated covariance matrix of proposal pdf.\n",
      "[mcmc] Learn + convergence test @ 3920 samples accepted.\n",
      "[mcmc]  - Acceptance rate: 0.295\n",
      "[mcmc]  - Convergence of means: R-1 = 0.003148 after 3136 accepted steps\n",
      "[mcmc]  - Updated covariance matrix of proposal pdf.\n",
      "[mcmc] Learn + convergence test @ 4000 samples accepted.\n",
      "[mcmc]  - Acceptance rate: 0.293\n",
      "[mcmc]  - Convergence of means: R-1 = 0.004271 after 3200 accepted steps\n",
      "[mcmc]  - Updated covariance matrix of proposal pdf.\n",
      "[mcmc] Learn + convergence test @ 4080 samples accepted.\n",
      "[mcmc]  - Acceptance rate: 0.292\n",
      "[mcmc]  - Convergence of means: R-1 = 0.003246 after 3264 accepted steps\n",
      "[mcmc]  - Updated covariance matrix of proposal pdf.\n",
      "[mcmc] Learn + convergence test @ 4160 samples accepted.\n",
      "[mcmc]  - Acceptance rate: 0.292\n",
      "[mcmc]  - Convergence of means: R-1 = 0.004073 after 3328 accepted steps\n",
      "[mcmc]  - Updated covariance matrix of proposal pdf.\n",
      "[mcmc] Learn + convergence test @ 4240 samples accepted.\n",
      "[mcmc]  - Acceptance rate: 0.292\n",
      "[mcmc]  - Convergence of means: R-1 = 0.004314 after 3392 accepted steps\n",
      "[mcmc]  - Updated covariance matrix of proposal pdf.\n",
      "[mcmc] Learn + convergence test @ 4320 samples accepted.\n",
      "[mcmc]  - Acceptance rate: 0.291\n",
      "[mcmc]  - Convergence of means: R-1 = 0.003691 after 3456 accepted steps\n",
      "[mcmc]  - Updated covariance matrix of proposal pdf.\n",
      "[mcmc] Learn + convergence test @ 4400 samples accepted.\n",
      "[mcmc]  - Acceptance rate: 0.290\n",
      "[mcmc]  - Convergence of means: R-1 = 0.003925 after 3520 accepted steps\n",
      "[mcmc]  - Updated covariance matrix of proposal pdf.\n",
      "[mcmc] Learn + convergence test @ 4480 samples accepted.\n",
      "[mcmc]  - Acceptance rate: 0.290\n",
      "[mcmc]  - Convergence of means: R-1 = 0.004431 after 3584 accepted steps\n",
      "[mcmc]  - Updated covariance matrix of proposal pdf.\n",
      "[mcmc] Learn + convergence test @ 4560 samples accepted.\n",
      "[mcmc]  - Acceptance rate: 0.288\n",
      "[mcmc]  - Convergence of means: R-1 = 0.006014 after 3648 accepted steps\n",
      "[mcmc]  - Updated covariance matrix of proposal pdf.\n",
      "[mcmc] Learn + convergence test @ 4640 samples accepted.\n",
      "[mcmc]  - Acceptance rate: 0.288\n",
      "[mcmc]  - Convergence of means: R-1 = 0.002750 after 3712 accepted steps\n",
      "[mcmc]  - Updated covariance matrix of proposal pdf.\n",
      "[mcmc] Learn + convergence test @ 4720 samples accepted.\n",
      "[mcmc]  - Acceptance rate: 0.288\n",
      "[mcmc]  - Convergence of means: R-1 = 0.002925 after 3776 accepted steps\n",
      "[mcmc]  - Updated covariance matrix of proposal pdf.\n",
      "[mcmc] Learn + convergence test @ 4800 samples accepted.\n",
      "[mcmc]  - Acceptance rate: 0.288\n",
      "[mcmc]  - Convergence of means: R-1 = 0.003116 after 3840 accepted steps\n",
      "[mcmc]  - Updated covariance matrix of proposal pdf.\n",
      "[mcmc] Learn + convergence test @ 4880 samples accepted.\n",
      "[mcmc]  - Acceptance rate: 0.288\n",
      "[mcmc]  - Convergence of means: R-1 = 0.001017 after 3904 accepted steps\n",
      "[mcmc]  - Updated covariance matrix of proposal pdf.\n",
      "[mcmc] Learn + convergence test @ 4960 samples accepted.\n",
      "[mcmc]  - Acceptance rate: 0.287\n",
      "[mcmc]  - Convergence of means: R-1 = 0.001287 after 3968 accepted steps\n",
      "[mcmc]  - Updated covariance matrix of proposal pdf.\n",
      "[mcmc] Learn + convergence test @ 5040 samples accepted.\n",
      "[mcmc]  - Acceptance rate: 0.286\n",
      "[mcmc]  - Convergence of means: R-1 = 0.001573 after 4032 accepted steps\n",
      "[mcmc]  - Updated covariance matrix of proposal pdf.\n",
      "[mcmc] Learn + convergence test @ 5120 samples accepted.\n",
      "[mcmc]  - Acceptance rate: 0.285\n",
      "[mcmc]  - Convergence of means: R-1 = 0.000523 after 4096 accepted steps\n",
      "[mcmc]  - Updated covariance matrix of proposal pdf.\n",
      "[mcmc] Learn + convergence test @ 5200 samples accepted.\n",
      "[mcmc]  - Acceptance rate: 0.284\n",
      "[mcmc]  - Convergence of means: R-1 = 0.000764 after 4160 accepted steps\n",
      "[mcmc]  - Convergence of bounds: R-1 = 0.046693 after 5200 accepted steps\n",
      "[mcmc] The run has converged!\n",
      "[mcmc] Sampling complete after 5200 accepted steps.\n",
      "[mcmc] *WARNING* When combining chains, it is recommended to remove some initial fraction, e.g. 'skip_samples=0.3'\n",
      "[root] *WARNING* outlier fraction 0.0003846153846153846 \n",
      "(5200,)\n",
      "For the parameter  h  The acquired value is -6.827346011816134\n"
     ]
    },
    {
     "ename": "IndexError",
     "evalue": "index 4 is out of bounds for axis 0 with size 4",
     "output_type": "error",
     "traceback": [
      "\u001b[1;31m---------------------------------------------------------------------------\u001b[0m",
      "\u001b[1;31mIndexError\u001b[0m                                Traceback (most recent call last)",
      "Cell \u001b[1;32mIn[22], line 25\u001b[0m\n\u001b[0;32m     22\u001b[0m s \u001b[38;5;241m=\u001b[39m gdsamples\u001b[38;5;241m.\u001b[39msamples[np\u001b[38;5;241m.\u001b[39margmin(gdsamples\u001b[38;5;241m.\u001b[39mloglikes)]\n\u001b[0;32m     24\u001b[0m \u001b[38;5;28mprint\u001b[39m(\u001b[38;5;124m\"\u001b[39m\u001b[38;5;124mFor the parameter \u001b[39m\u001b[38;5;124m\"\u001b[39m,p[\u001b[38;5;241m2\u001b[39m],\u001b[38;5;124m\"\u001b[39m\u001b[38;5;124m The acquired value is\u001b[39m\u001b[38;5;124m\"\u001b[39m,s[\u001b[38;5;241m2\u001b[39m])\n\u001b[1;32m---> 25\u001b[0m \u001b[38;5;28mprint\u001b[39m(\u001b[38;5;124m\"\u001b[39m\u001b[38;5;124mFor the parameter \u001b[39m\u001b[38;5;124m\"\u001b[39m,p[\u001b[38;5;241m4\u001b[39m],\u001b[38;5;124m\"\u001b[39m\u001b[38;5;124m The acquired value is\u001b[39m\u001b[38;5;124m\"\u001b[39m,\u001b[43ms\u001b[49m\u001b[43m[\u001b[49m\u001b[38;5;241;43m4\u001b[39;49m\u001b[43m]\u001b[49m)\n",
      "\u001b[1;31mIndexError\u001b[0m: index 4 is out of bounds for axis 0 with size 4"
     ]
    },
    {
     "data": {
      "image/png": "[encoded data removed]",
      "text/plain": [
       "<Figure size 500x500 with 3 Axes>"
      ]
     },
     "metadata": {},
     "output_type": "display_data"
    }
   ],
   "source": [
    "def cobaya_com2(h,ns):\n",
    "    return (10 - np.log(Cosmo_Power(0.0224,0.12,h,0.0546,ns,2.0196)))\n",
    "\n",
    "# below is parameters for 6 parameter cosmopower\n",
    "info = {\"likelihood\": {\"cosmo1\": cobaya_com2}}\n",
    "info[\"params\"] = {\n",
    "   \"h\": {\"prior\": {\"min\": 50, \"max\": 90}, \"ref\": 68, \"proposal\": 0.0001},\n",
    "    \"ns\": {\"prior\": {\"min\": 0.5, \"max\": 2}, \"ref\": 0.964, \"proposal\": 0.000001}\n",
    "}\n",
    "info[\"sampler\"] = {\"mcmc\": {\"Rminus1_stop\": 0.001, \"max_tries\": 1000}}\n",
    "updated_info, sampler = run(info)\n",
    "\n",
    "%matplotlib inline\n",
    "import getdist.plots as gdplt\n",
    "\n",
    "gdsamples = sampler.products(to_getdist=True)[\"sample\"]\n",
    "gdplot = gdplt.get_subplot_plotter(width_inch=5)\n",
    "gdplot.triangle_plot(gdsamples, [\"h\",\"ns\"], filled=True)\n",
    "print(np.shape(gdsamples[2]))\n",
    "\n",
    "p = [\"omb\",\"omc\",\"h\",\"tau\",\"ns\",\"AS\"]\n",
    "s = gdsamples.samples[np.argmin(gdsamples.loglikes)]\n",
    "\n",
    "print(\"For the parameter \",p[2],\" The acquired value is\",s[2])\n",
    "print(\"For the parameter \",p[4],\" The acquired value is\",s[4])"
   ]
  },
  {
   "cell_type": "code",
   "execution_count": 23,
   "id": "bb270801-1da3-4d32-a231-09f257f19ea6",
   "metadata": {},
   "outputs": [
    {
     "name": "stdout",
     "output_type": "stream",
     "text": [
      "For the parameter  omb  The acquired value is 67.68379329355292\n",
      "For the parameter  omc  The acquired value is 1.007801525538068\n"
     ]
    }
   ],
   "source": [
    "p = [\"omb\",\"omc\",\"h\",\"tau\",\"ns\",\"AS\"]\n",
    "s = gdsamples.samples[np.argmin(gdsamples.loglikes)]\n",
    "for i in range(2):\n",
    "    print(\"For the parameter \",p[i],\" The acquired value is\",s[i])"
   ]
  }
 ],
 "metadata": {
  "kernelspec": {
   "display_name": "Python 3 (ipykernel)",
   "language": "python",
   "name": "python3"
  },
  "language_info": {
   "codemirror_mode": {
    "name": "ipython",
    "version": 3
   },
   "file_extension": ".py",
   "mimetype": "text/x-python",
   "name": "python",
   "nbconvert_exporter": "python",
   "pygments_lexer": "ipython3",
   "version": "3.9.7"
  }
 },
 "nbformat": 4,
 "nbformat_minor": 5
}
