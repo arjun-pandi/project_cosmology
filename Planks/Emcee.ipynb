{
 "cells": [
  {
   "cell_type": "code",
   "execution_count": 1,
   "id": "a94a5e51-28fa-48b3-a081-31219f6f072b",
   "metadata": {},
   "outputs": [
    {
     "name": "stdout",
     "output_type": "stream",
     "text": [
      "WARNING:tensorflow:Please fix your imports. Module tensorflow.python.training.tracking.data_structures has been moved to tensorflow.python.trackable.data_structures. The old module will be deleted in version 2.11.\n"
     ]
    }
   ],
   "source": [
    "#files to be imported\n",
    "import numpy as np\n",
    "from matplotlib import pyplot as plt\n",
    "\n",
    "import os ,sys, platform\n",
    "import time\n",
    "import cosmopower as cp\n",
    "\n",
    "import mpi4py\n",
    "import emcee\n",
    "\n",
    "#Planks Values\n",
    "el = np.loadtxt('planks/COM_PowerSpect_CMB-TT-full_R3.01.txt',usecols = 0, skiprows=1,dtype =float)\n",
    "el_te = np.loadtxt('planks/COM_PowerSpect_CMB-TE-full_R3.01.txt',usecols = 0, skiprows=1,dtype =float)\n",
    "Dl_TT = np.loadtxt('planks/COM_PowerSpect_CMB-TT-full_R3.01.txt',usecols = 1, skiprows=1,dtype =float)\n",
    "Dl_TT_err_up = np.loadtxt('planks/COM_PowerSpect_CMB-TT-full_R3.01.txt',usecols = 3, skiprows=1,dtype =float)\n",
    "Dl_TT_err_bot = np.loadtxt('planks/COM_PowerSpect_CMB-TT-full_R3.01.txt',usecols = 2, skiprows=1,dtype =float)\n",
    "Dl_EE = np.loadtxt('planks/COM_PowerSpect_CMB-EE-full_R3.01.txt',usecols = 1, skiprows=1,dtype =float)\n",
    "Dl_EE_err_up = np.loadtxt('planks/COM_PowerSpect_CMB-EE-full_R3.01.txt',usecols = 3, skiprows=1,dtype =float)\n",
    "Dl_EE_err_bot = np.loadtxt('planks/COM_PowerSpect_CMB-EE-full_R3.01.txt',usecols = 2, skiprows=1,dtype =float)\n",
    "Dl_TE = np.loadtxt('planks/COM_PowerSpect_CMB-TE-full_R3.01.txt',usecols = 1, skiprows=1,dtype =float)\n",
    "Dl_TE_err_up = np.loadtxt('planks/COM_PowerSpect_CMB-TE-full_R3.01.txt',usecols = 3, skiprows=1,dtype =float)\n",
    "Dl_TE_err_bot = np.loadtxt('planks/COM_PowerSpect_CMB-TE-full_R3.01.txt',usecols = 2, skiprows=1,dtype =float)\n",
    "#ells\n",
    "dl_fac = el*(el+1)/(2*np.pi)\n",
    "dl_fac_te = el_te*(el_te+1)/(2*np.pi)\n",
    "#COSMOPOWER\n",
    "tt_emu = cp.cosmopower_NN(restore=True,restore_filename='COSMO/cmb_TT_NN')\n",
    "ee_emu = cp.cosmopower_NN(restore=True,restore_filename='COSMO/cmb_EE_NN')\n",
    "te_emu = cp.cosmopower_PCAplusNN(restore=True,restore_filename='COSMO/cmb_TE_PCAplusNN')"
   ]
  },
  {
   "cell_type": "code",
   "execution_count": 2,
   "id": "c4a9e6d9-7bab-4f18-83b1-6e0d0eb30762",
   "metadata": {},
   "outputs": [],
   "source": [
    "def chi2(tre,teu,trb,pred): #chi^2 model\n",
    "    #c = ((tre - pred)**2)/((pred)**2)\n",
    "    c = ((tre - pred)**2)/((teu + trb)**2) # (Real - Model)^2/(Error Up + Error Bottom)^2\n",
    "    chi = np.sum(c)\n",
    "    return chi\n",
    "\n",
    "#time ms to order of time\n",
    "def time_hr(ms):\n",
    "    ssm = ms*100\n",
    "    seconds = int(ssm/100)\n",
    "    minutes = int(seconds/60)\n",
    "    hours = int(minutes/60)\n",
    "    days = int(hours/24)\n",
    "    sm = int(ssm - seconds*100)\n",
    "    s = seconds - minutes*60 \n",
    "    m = minutes - hours*60\n",
    "    h = hours - days*24\n",
    "    t = [sm,s,m,h,days]\n",
    "    xi = ''\n",
    "    if days == h == m == s == 0 :\n",
    "        xi = str(sm) +'ms '\n",
    "    elif days == h == m == 0:\n",
    "        xi = str(s) +'s ' + str(sm) +' ms'\n",
    "    elif days == h == 0:\n",
    "        xi = str(m) + ' min ' + str(s) +'s ' + str(sm) +' ms'\n",
    "    elif days == 0:\n",
    "        xi = str(h) + 'hrs '+str(m) + 'min '+str(s) +'s ' + str(sm) +' ms'\n",
    "    else :\n",
    "        xi = str(days) +'days ' + str(h) + 'hrs '+str(m) + 'min '+str(s) +'s ' + str(sm) +' ms' \n",
    "    return xi #time \n",
    "\n",
    "def Find_val(inputrange,array):\n",
    "    #finding the input value for the  minimum chi2 value\n",
    "    min_chi2 = np.argmin(array) #position of minimum chi2\n",
    "    vals = inputrange[min_chi2] #finding Input value of minimum chi2\n",
    "    return vals\n",
    "\n",
    "def Cosmo(xe,ze): # function for Cosmopower\n",
    "    if xe == 'TT':\n",
    "        tt_spectra = tt_emu.ten_to_predictions_np(ze)\n",
    "        CO = tt_spectra[0]*1e12 * 2.73**2. #K^2 to uK^2\n",
    "    elif xe == 'EE':\n",
    "        ee_spectra = ee_emu.ten_to_predictions_np(ze)\n",
    "        CA = ee_spectra[0]*1e12 * 2.73**2. #K^2 to uK^2\n",
    "        CO = CA[:1995] #since planks data as only 1995 values \n",
    "    elif xe == 'TE':\n",
    "        te_spectra = te_emu.predictions_np(ze)\n",
    "        CA = te_spectra[0]*1e12 * 2.73**2. #K^2 to uK^2\n",
    "        CO = CA[:1995] #since planks data as only 1995 values \n",
    "    else:\n",
    "        Print('Check Input Range or Data')\n",
    "    return CO\n",
    "\n",
    "def Cosmo_Power(omb,omc,h,tau,ns,As): #function for single value cosmopower\n",
    "    DET = 'TT'\n",
    "    params = {'omega_b': [omb],'omega_cdm': [omc],'h': [h/100],'tau_reio': [tau],'n_s': [ns],'ln10^{10}A_s': [np.log( 10**10 *(As*1e-9) )],}\n",
    "    Para = [omb,omc,h,tau,ns,As]\n",
    "    if DET=='TT':\n",
    "        pred = Cosmo('TT',params)*dl_fac\n",
    "        chi = chi2(Dl_TT*dl_fac,Dl_TT_err_up*dl_fac,Dl_TT_err_bot*dl_fac,pred*dl_fac)\n",
    "    elif DET=='TE':\n",
    "        pred = Cosmo('TE',params)*dl_fac_te\n",
    "        chi = chi2(Dl_TE,Dl_TE_err_up,Dl_TE_err_bot,pred)\n",
    "    elif DET=='EE':\n",
    "        pred = Cosmo('EE',params)*dl_fac_te\n",
    "        chi = chi2(Dl_EE,Dl_EE_err_up,Dl_EE_err_bot,pred)\n",
    "    reference = [omb,omc,h,tau,ns,As,chi]\n",
    "    return chi #parameter, prediction , chi value\n",
    "\n",
    "def CosPo(x): #function for single value cosmopower\n",
    "    omb = 0.02246\n",
    "    omc = x\n",
    "    h = 68\n",
    "    tau = 0.0545\n",
    "    ns = 0.945\n",
    "    As = 2.096\n",
    "    DET = 'TT'\n",
    "    params = {'omega_b': [omb],'omega_cdm': [omc],'h': [h/100],'tau_reio': [tau],'n_s': [ns],'ln10^{10}A_s': [np.log( 10**10 *(As*1e-9) )],}\n",
    "    Para = [omb,omc,h,tau,ns,As]\n",
    "    if DET=='TT':\n",
    "        pred = Cosmo('TT',params)*dl_fac\n",
    "        chi = chi2(Dl_TT*dl_fac,Dl_TT_err_up*dl_fac,Dl_TT_err_bot*dl_fac,pred*dl_fac)\n",
    "    elif DET=='TE':\n",
    "        pred = Cosmo('TE',params)*dl_fac_te\n",
    "        chi = chi2(Dl_TE,Dl_TE_err_up,Dl_TE_err_bot,pred)\n",
    "    elif DET=='EE':\n",
    "        pred = Cosmo('EE',params)*dl_fac_te\n",
    "        chi = chi2(Dl_EE,Dl_EE_err_up,Dl_EE_err_bot,pred)\n",
    "    reference = [omb,omc,h,tau,ns,As,chi]\n",
    "    return chi #parameter, prediction , chi value"
   ]
  },
  {
   "cell_type": "code",
   "execution_count": 3,
   "id": "5776e331-9e69-481b-b56d-165f6433dab4",
   "metadata": {},
   "outputs": [
    {
     "data": {
      "text/plain": [
       "917.2217587079682"
      ]
     },
     "execution_count": 3,
     "metadata": {},
     "output_type": "execute_result"
    }
   ],
   "source": [
    "Cosmo_Power(0.022,0.1200,65,0.0545,0.945,2.01)"
   ]
  },
  {
   "cell_type": "code",
   "execution_count": 4,
   "id": "cb0ce7da-1652-445a-9a2f-b68c81ce9a73",
   "metadata": {},
   "outputs": [
    {
     "data": {
      "text/plain": [
       "683.86075592874"
      ]
     },
     "execution_count": 4,
     "metadata": {},
     "output_type": "execute_result"
    }
   ],
   "source": [
    "CosPo(0.12)"
   ]
  },
  {
   "cell_type": "code",
   "execution_count": 3,
   "id": "76b10346-65eb-4372-9b85-0a0e14e82b09",
   "metadata": {},
   "outputs": [],
   "source": [
    "def cobaya_com(Dpar):\n",
    "    return np.log(Cosmo_Power(Dpar,0.12,68,0.0546,0.964,2.01))\n",
    "\n",
    "\n",
    "def cobaya_com2(omb,omc):\n",
    "    return np.log(Cosmo_Power(omb,omc,67.69,0.0554,0.945,2.096))\n",
    "\n",
    "\n",
    "def cobaya_com6(omb,omc,h,tau,ns,AS):\n",
    "    return np.log(Cosmo_Power(omb,omc,h,tau,ns,AS))\n",
    "\n",
    "def cobaya_com3(omb,omc,h):\n",
    "    return np.log(Cosmo_Power(omb,omc,h,0.0554,0.945,2.096))\n"
   ]
  },
  {
   "cell_type": "code",
   "execution_count": 160,
   "id": "b9087998-a022-4d4f-aff4-cf8cf8ad72b6",
   "metadata": {},
   "outputs": [],
   "source": [
    "sampler = emcee.EnsembleSampler(nwalkers, ndim, CosPo)"
   ]
  },
  {
   "cell_type": "code",
   "execution_count": 7,
   "id": "e523a088-aa2d-4672-9a4d-229eda4c131d",
   "metadata": {},
   "outputs": [],
   "source": [
    "nwalkers = 32\n",
    "ndim = 1\n",
    "y =  np.random.randn(nwalkers, ndim)\n",
    "\n",
    "sampler = emcee.EnsembleSampler(nwalkers, ndim, cobaya_com)\n"
   ]
  },
  {
   "cell_type": "code",
   "execution_count": null,
   "id": "63a3a809-b029-485a-b3ce-9ce8a1b6aace",
   "metadata": {},
   "outputs": [],
   "source": [
    "\n",
    "# Run MCMC\n",
    "sampler.run_mcmc(y, 1000)\n",
    "\n",
    "# Get the samples\n",
    "samples = sampler.get_chain(flat=True)\n",
    "\n",
    "plt.hist(samples)"
   ]
  }
 ],
 "metadata": {
  "kernelspec": {
   "display_name": "Python 3 (ipykernel)",
   "language": "python",
   "name": "python3"
  },
  "language_info": {
   "codemirror_mode": {
    "name": "ipython",
    "version": 3
   },
   "file_extension": ".py",
   "mimetype": "text/x-python",
   "name": "python",
   "nbconvert_exporter": "python",
   "pygments_lexer": "ipython3",
   "version": "3.9.7"
  }
 },
 "nbformat": 4,
 "nbformat_minor": 5
}
