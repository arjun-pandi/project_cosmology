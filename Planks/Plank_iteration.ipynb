{
 "cells": [
  {
   "cell_type": "markdown",
   "id": "67b5a50f-2154-48f9-ab16-709009d9c101",
   "metadata": {
    "editable": true,
    "slideshow": {
     "slide_type": ""
    },
    "tags": []
   },
   "source": [
    "Not Working on it..."
   ]
  },
  {
   "cell_type": "code",
   "execution_count": null,
   "id": "c47a0d06-87a6-4cfb-9485-5dc663cf5347",
   "metadata": {
    "tags": []
   },
   "outputs": [],
   "source": [
    "#files to be imported\n",
    "import numpy as np\n",
    "from matplotlib import pyplot as plt\n",
    "#import camb\n",
    "#from camb import model, initialpower\n",
    "import tensorflow as tf\n",
    "import os ,sys, platform\n",
    "import cosmopower as cp\n",
    "import time\n",
    "from tqdm import tqdm"
   ]
  },
  {
   "cell_type": "code",
   "execution_count": 2,
   "id": "56467bca-498e-488c-b3b4-e8891a831e00",
   "metadata": {
    "tags": []
   },
   "outputs": [],
   "source": [
    "el = np.loadtxt('planks/COM_PowerSpect_CMB-TT-full_R3.01.txt',usecols = 0, skiprows=1,dtype =float)\n",
    "el_te = np.loadtxt('planks/COM_PowerSpect_CMB-TE-full_R3.01.txt',usecols = 0, skiprows=1,dtype =float)\n",
    "Dl_TT = np.loadtxt('planks/COM_PowerSpect_CMB-TT-full_R3.01.txt',usecols = 1, skiprows=1,dtype =float)\n",
    "Dl_TT_err_up = np.loadtxt('planks/COM_PowerSpect_CMB-TT-full_R3.01.txt',usecols = 3, skiprows=1,dtype =float)\n",
    "Dl_TT_err_bot = np.loadtxt('planks/COM_PowerSpect_CMB-TT-full_R3.01.txt',usecols = 2, skiprows=1,dtype =float)\n",
    "Dl_EE = np.loadtxt('planks/COM_PowerSpect_CMB-EE-full_R3.01.txt',usecols = 1, skiprows=1,dtype =float)\n",
    "Dl_EE_err_up = np.loadtxt('planks/COM_PowerSpect_CMB-EE-full_R3.01.txt',usecols = 3, skiprows=1,dtype =float)\n",
    "Dl_EE_err_bot = np.loadtxt('planks/COM_PowerSpect_CMB-EE-full_R3.01.txt',usecols = 2, skiprows=1,dtype =float)\n",
    "Dl_TE = np.loadtxt('planks/COM_PowerSpect_CMB-TE-full_R3.01.txt',usecols = 1, skiprows=1,dtype =float)\n",
    "Dl_TE_err_up = np.loadtxt('planks/COM_PowerSpect_CMB-TE-full_R3.01.txt',usecols = 3, skiprows=1,dtype =float)\n",
    "Dl_TE_err_bot = np.loadtxt('planks/COM_PowerSpect_CMB-TE-full_R3.01.txt',usecols = 2, skiprows=1,dtype =float)\n",
    "#ells\n",
    "dl_fac = el*(el+1)/(2*np.pi)\n",
    "dl_fac_te = el_te*(el_te+1)/(2*np.pi)\n",
    "#COSMOPOWER\n",
    "tt_emu = cp.cosmopower_NN(restore=True,restore_filename='COSMO/cmb_TT_NN')\n",
    "ee_emu = cp.cosmopower_NN(restore=True,restore_filename='COSMO/cmb_EE_NN')\n",
    "te_emu = cp.cosmopower_PCAplusNN(restore=True,restore_filename='COSMO/cmb_TE_PCAplusNN')"
   ]
  },
  {
   "cell_type": "code",
   "execution_count": 4,
   "id": "df58f81c-c97d-4aed-8072-450d9c87fd63",
   "metadata": {
    "tags": []
   },
   "outputs": [],
   "source": [
    "def Cosmo(xe,ze): # function for Cosmopower\n",
    "    if xe == 'TT':\n",
    "        tt_spectra = tt_emu.ten_to_predictions_np(ze)\n",
    "        CO = tt_spectra[0]*1e12 * 2.73**2. #K^2 to uK^2\n",
    "    elif xe == 'EE':\n",
    "        ee_spectra = ee_emu.ten_to_predictions_np(ze)\n",
    "        CA = ee_spectra[0]*1e12 * 2.73**2. #K^2 to uK^2\n",
    "        CO = CA[:1995] #since planks data as only 1995 values \n",
    "    elif xe == 'TE':\n",
    "        te_spectra = te_emu.predictions_np(ze)\n",
    "        CA = te_spectra[0]*1e12 * 2.73**2. #K^2 to uK^2\n",
    "        CO = CA[:1995] #since planks data as only 1995 values \n",
    "    else:\n",
    "        Print('Check Input Range or Data')\n",
    "    return CO\n",
    "\n",
    "def chi2(tre,teu,trb,pred): #chi^2 model\n",
    "    #c = ((tre - pred)**2)/((pred)**2)\n",
    "    c = ((tre - pred)**2)/((teu + trb)**2) # (Real - Model)^2/(Error Up + Error Bottom)^2\n",
    "    chi = np.sum(c)\n",
    "    return chi\n",
    "\n",
    "def time_hr(ms):\n",
    "    seconds = int(ms/100)\n",
    "    minutes = int(seconds/60)\n",
    "    hours = int(minutes/60)\n",
    "    days = int(hours/24)\n",
    "    \n",
    "    sm = int(ms - seconds*100)\n",
    "    s = seconds - minutes*60 \n",
    "    m = minutes - hours*60\n",
    "    h = hours - days*24\n",
    "    \n",
    "    t = [sm,s,m,h,days]\n",
    "    return t\n",
    "#comparing cosmopower with planks using chi2 methode\n",
    "def comparison(rollno,omb,omc,h,ta,ns,lnas):\n",
    "    #params for cosmopower\n",
    "    params = {'omega_b': [omb],'omega_cdm': [omc],'h': [h/100],'tau_reio': [ta],'n_s': [ns],'ln10^{10}A_s': [lnas],}\n",
    "    pred_TT = Cosmo('TT',params)\n",
    "    pred_TE = Cosmo('TE',params)\n",
    "    pred_EE = Cosmo('EE',params)\n",
    "    chi_TT = chi2(Dl_TT,Dl_TT_err_up,Dl_TT_err_bot,pred_TT)\n",
    "    chi_TE = chi2(Dl_TE,Dl_TE_err_up,Dl_TE_err_bot,pred_TE)\n",
    "    chi_EE = chi2(Dl_EE,Dl_EE_err_up,Dl_EE_err_bot,pred_EE)\n",
    "    avg = np.average([chi_TT,chi_TE,chi_EE])\n",
    "    values = [rollno,avg,chi_TT,chi_TE,chi_EE]\n",
    "    return(values)"
   ]
  },
  {
   "cell_type": "code",
   "execution_count": 5,
   "id": "c3f77c3a-f507-4566-830b-ff0fac8b4f2c",
   "metadata": {
    "tags": []
   },
   "outputs": [],
   "source": [
    "#comparing cosmopower with planks using chi2 methode\n",
    "def comparison(rollno,omb,omc,h,ta,ns,lnas):\n",
    "    #params for cosmopower\n",
    "    params = {'omega_b': [omb],'omega_cdm': [omc],'h': [h/100],'tau_reio': [ta],'n_s': [ns],'ln10^{10}A_s': [lnas],}\n",
    "    pred_TT = Cosmo('TT',params)\n",
    "    pred_TE = Cosmo('TE',params)\n",
    "    pred_EE = Cosmo('EE',params)\n",
    "    chi_TT = chi2(Dl_TT,Dl_TT_err_up,Dl_TT_err_bot,pred_TT)\n",
    "    chi_TE = chi2(Dl_TE,Dl_TE_err_up,Dl_TE_err_bot,pred_TE)\n",
    "    chi_EE = chi2(Dl_EE,Dl_EE_err_up,Dl_EE_err_bot,pred_EE)\n",
    "    avg = np.average([chi_TT,chi_TE,chi_EE])\n",
    "    values = [rollno,avg,chi_TT,chi_TE,chi_EE]\n",
    "    return(values)"
   ]
  },
  {
   "cell_type": "code",
   "execution_count": 3,
   "id": "e16ebeb2-16c5-45fe-9662-77f09b3b47ea",
   "metadata": {
    "tags": []
   },
   "outputs": [
    {
     "name": "stdout",
     "output_type": "stream",
     "text": [
      "1344\n"
     ]
    }
   ],
   "source": [
    "#setting parmeter array for calculation\n",
    "par = []\n",
    "par1 = np.arange(0.0215,0.0225,0.001)  #omega_b 0.02237\n",
    "par2 = np.arange(0.119,0.122,0.001)  #omega_cdm 0.1200\n",
    "par3 = np.arange(67.3,67.4,0.05)  #h 67.36\n",
    "par4 = np.arange(0.053,0.06,0.01)  #taurio 0.0544\n",
    "par5 = np.arange(0.93,0.966,0.005)  #n_s 0.945\n",
    "par6 = np.arange(3.61,3.64,0.005)  #ln10^{10}A_s 3.629\n",
    "incrementor = 0\n",
    "for a in par1:\n",
    "    for b in par2:\n",
    "        for c in par3:\n",
    "            for d in par4:\n",
    "                for e in par5:\n",
    "                    for f in par6:\n",
    "                        incrementor += 1\n",
    "                        par_samples = [incrementor,a,b,c,d,e,f]\n",
    "                        par.append(par_samples)\n",
    "\n",
    "print(len(par))"
   ]
  },
  {
   "cell_type": "code",
   "execution_count": 6,
   "id": "1106d197-c8ee-4286-8bda-a77e12a3ae2e",
   "metadata": {
    "tags": []
   },
   "outputs": [
    {
     "name": "stdout",
     "output_type": "stream",
     "text": [
      "WARNING:tensorflow:Please fix your imports. Module tensorflow.python.training.tracking.data_structures has been moved to tensorflow.python.trackable.data_structures. The old module will be deleted in version 2.11.\n",
      "1231\n",
      "Executed in : 0 d 0 H 0 M 1 s 62 Ms\n"
     ]
    }
   ],
   "source": [
    "executed = [[],[],[],[],[]]\n",
    "start_time = time.time()\n",
    "for i in par:\n",
    "    vals_calc = comparison(i[0],i[1],i[2],i[3],i[4],i[5],i[6])\n",
    "    executed[0].append(vals_calc[0])\n",
    "    executed[1].append(vals_calc[1])\n",
    "    executed[2].append(vals_calc[2])\n",
    "    executed[3].append(vals_calc[3])\n",
    "    executed[4].append(vals_calc[4])\n",
    "    \n",
    "\n",
    "lows_rn = np.argmin(executed[1])\n",
    "\n",
    "end_time = time.time()\n",
    "tim = time_hr(end_time - start_time)\n",
    "print(lows_rn)\n",
    "print( 'Executed in :',tim[4],'d',tim[3],'H',tim[2] ,'M',tim[1],'s',tim[0],'Ms')"
   ]
  },
  {
   "cell_type": "code",
   "execution_count": 13,
   "id": "2aabb930-a895-47d7-b5ab-9da554c2a47b",
   "metadata": {
    "tags": []
   },
   "outputs": [
    {
     "name": "stdout",
     "output_type": "stream",
     "text": [
      "[['roll no' 'omega_b' 'omega_cdm' 'h' 'tau_reio' 'n_s ' ' ln10^{10}A_s']\n",
      " ['1232' '0.0225' '0.122' '67.3' '0.053' '0.9650000000000001'\n",
      "  '3.6399999999999992']\n",
      " ['1232' '0.0225' '0.122' '67.3' '0.053' '0.9650000000000001'\n",
      "  '3.6399999999999992']\n",
      " ['119' '0.0215' '0.119' '67.39999999999999' '0.053' '0.93'\n",
      "  '3.6399999999999992']\n",
      " ['168' '0.0215' '0.119' '67.39999999999999' '0.053' '0.9650000000000001'\n",
      "  '3.6399999999999992']]\n"
     ]
    }
   ],
   "source": [
    "lows_avg = np.argmin(executed[1])\n",
    "lows_TT = np.argmin(executed[2])\n",
    "lows_EE = np.argmin(executed[4])\n",
    "lows_TE = np.argmin(executed[3])\n",
    "ar = np.array([['roll no','omega_b' , 'omega_cdm' , 'h' , 'tau_reio' , 'n_s ',' ln10^{10}A_s'],par[lows_avg],par[lows_TT],par[lows_EE],par[lows_TE]])\n",
    "print(ar)"
   ]
  }
 ],
 "metadata": {
  "kernelspec": {
   "display_name": "Python 3 (ipykernel)",
   "language": "python",
   "name": "python3"
  },
  "language_info": {
   "codemirror_mode": {
    "name": "ipython",
    "version": 3
   },
   "file_extension": ".py",
   "mimetype": "text/x-python",
   "name": "python",
   "nbconvert_exporter": "python",
   "pygments_lexer": "ipython3",
   "version": "3.9.7"
  },
  "toc-showcode": true
 },
 "nbformat": 4,
 "nbformat_minor": 5
}
