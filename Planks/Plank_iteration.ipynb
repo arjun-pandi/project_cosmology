{
 "cells": [
  {
   "cell_type": "code",
   "execution_count": 1,
   "id": "74dfb9c6-9d51-4983-8d2b-b15a348170fc",
   "metadata": {
    "tags": []
   },
   "outputs": [],
   "source": [
    "import numpy as np\n",
    "from matplotlib import pyplot as plt\n",
    "import camb\n",
    "from camb import model, initialpower\n",
    "import tensorflow as tf\n",
    "import os ,sys, platform\n",
    "import cosmopower as cp\n",
    "import time"
   ]
  },
  {
   "cell_type": "code",
   "execution_count": 2,
   "id": "09c6b9c3-f745-490c-8c32-28d09af94ef6",
   "metadata": {
    "tags": []
   },
   "outputs": [],
   "source": [
    "#parameter\n",
    "par = {\"H0\":67.36, \"ombh2\":0.02237, \"omch2\":0.1200, \"mnu\":0.06, \"omk\":0, \"tau\":0.0544,\"As\":2.101e-9, \"ns\":0.965, \"r\":0} \n",
    "\n",
    "#params for cosmopower\n",
    "params = {'omega_b': [par[\"ombh2\"]],\n",
    "          'omega_cdm': [par[\"omch2\"]],\n",
    "          'h': [par[\"H0\"]/100],\n",
    "          'tau_reio': [par[\"tau\"]],\n",
    "          'n_s': [par[\"ns\"]],\n",
    "          'ln10^{10}A_s': [np.log( 10**10 * par[\"As\"])],\n",
    "          }"
   ]
  },
  {
   "cell_type": "code",
   "execution_count": 10,
   "id": "17c3be56-e6a8-44c3-8d78-effbcc06de04",
   "metadata": {
    "tags": []
   },
   "outputs": [],
   "source": [
    "def Cosmo(xe,ze):\n",
    "    if xe == 'TT':\n",
    "        tt_emu = cp.cosmopower_NN(restore=True,restore_filename='COSMO/cmb_TT_NN')\n",
    "        tt_spectra = tt_emu.ten_to_predictions_np(ze)\n",
    "        CO = tt_spectra[0]*1e12 * 2.73**2. #K^2 to uK^2\n",
    "    elif xe == 'EE':\n",
    "        ee_emu = cp.cosmopower_NN(restore=True,restore_filename='COSMO/cmb_EE_NN')\n",
    "        ee_spectra = ee_emu.ten_to_predictions_np(ze)\n",
    "        CA = ee_spectra[0]*1e12 * 2.73**2. #K^2 to uK^2\n",
    "        CO = CA[:1995]\n",
    "    elif xe == 'TE':\n",
    "        te_emu = cp.cosmopower_PCAplusNN(restore=True,restore_filename='COSMO/cmb_TE_PCAplusNN')\n",
    "        te_spectra = te_emu.predictions_np(ze)\n",
    "        CA = te_spectra[0]*1e12 * 2.73**2. #K^2 to uK^2\n",
    "        CO = CA[:1995]\n",
    "    else:\n",
    "        None\n",
    "    return CO\n",
    "\n",
    "def Camb_pp(ell,ell_max,parameter,x,lens_accuracy=0):\n",
    "    #camb model pars\n",
    "    pars = camb.CAMBparams()\n",
    "    pars.set_cosmology(H0 = par[\"H0\"], ombh2=par[\"ombh2\"], omch2=par[\"omch2\"], mnu=par[\"mnu\"], omk=par[\"omk\"], tau=par[\"tau\"])\n",
    "    pars.InitPower.set_params(As=par[\"As\"], ns=par[\"ns\"], r=par[\"r\"])\n",
    "    pars.set_for_lmax(ell_max-1, lens_potential_accuracy=float(lens_accuracy));\n",
    "    #camb result and power spectra\n",
    "    camb_results = camb.get_results(pars)\n",
    "    powers = camb_results.get_cmb_power_spectra(pars, CMB_unit=\"muK\")#,raw_cl=True)\n",
    "    \n",
    "    if x == 'TT':\n",
    "        #CAMB TT\n",
    "        cambq = powers['lensed_scalar'][:, 0][2:ell_max]\n",
    "    elif x == 'EE':\n",
    "        #CAMB EE\n",
    "        cambq = powers['lensed_scalar'][:, 1][2:ell_max]\n",
    "    elif x == 'TE':\n",
    "        #CAMB TE\n",
    "        cambq = powers['lensed_scalar'][:, 3][2:ell_max]\n",
    "    else:\n",
    "        #CAMB TE EE\n",
    "        cambq = None  \n",
    "    return cambq \n",
    "def chi2(tre,teu,trb,pred):\n",
    "    u = (tre - pred)**2\n",
    "    b = (teu+ trb)**2\n",
    "    c = u/b\n",
    "    chi = np.sum(c)\n",
    "    return chi"
   ]
  },
  {
   "cell_type": "code",
   "execution_count": 5,
   "id": "fd6c0028-d15f-46a3-ae5e-f3736604c4e1",
   "metadata": {
    "tags": []
   },
   "outputs": [],
   "source": [
    "Dl_TT = np.loadtxt('planks/COM_PowerSpect_CMB-TT-full_R3.01.txt',usecols = 1, skiprows=1,dtype =float)\n",
    "Dl_TT_err_up = np.loadtxt('planks/COM_PowerSpect_CMB-TT-full_R3.01.txt',usecols = 3, skiprows=1,dtype =float)\n",
    "Dl_TT_err_bot = np.loadtxt('planks/COM_PowerSpect_CMB-TT-full_R3.01.txt',usecols = 2, skiprows=1,dtype =float)\n",
    "Dl_EE = np.loadtxt('planks/COM_PowerSpect_CMB-EE-full_R3.01.txt',usecols = 1, skiprows=1,dtype =float)\n",
    "Dl_EE_err_up = np.loadtxt('planks/COM_PowerSpect_CMB-EE-full_R3.01.txt',usecols = 3, skiprows=1,dtype =float)\n",
    "Dl_EE_err_bot = np.loadtxt('planks/COM_PowerSpect_CMB-EE-full_R3.01.txt',usecols = 2, skiprows=1,dtype =float)\n",
    "Dl_TE = np.loadtxt('planks/COM_PowerSpect_CMB-TE-full_R3.01.txt',usecols = 1, skiprows=1,dtype =float)\n",
    "Dl_TE_err_up = np.loadtxt('planks/COM_PowerSpect_CMB-TE-full_R3.01.txt',usecols = 3, skiprows=1,dtype =float)\n",
    "Dl_TE_err_bot = np.loadtxt('planks/COM_PowerSpect_CMB-TE-full_R3.01.txt',usecols = 2, skiprows=1,dtype =float)"
   ]
  },
  {
   "cell_type": "code",
   "execution_count": 108,
   "id": "eda6646f-bd1d-436e-a450-5ef971e9a242",
   "metadata": {
    "tags": []
   },
   "outputs": [
    {
     "name": "stdout",
     "output_type": "stream",
     "text": [
      "(200,)\n",
      "0.8\n",
      "8452.392101287842 ms\n"
     ]
    },
    {
     "data": {
      "image/png": "[encoded data removed]",
      "text/plain": [
       "<Figure size 640x480 with 1 Axes>"
      ]
     },
     "metadata": {},
     "output_type": "display_data"
    }
   ],
   "source": [
    "nsa = time.time()\n",
    "chi2_arr=[]\n",
    "omch_2_arr = np.arange(0.8,1,0.001)\n",
    "for val in omch_2_arr:    \n",
    "    #params for cosmopower\n",
    "    params = {'omega_b': [0.02237],\n",
    "              'omega_cdm': [0.1200],\n",
    "              'h': [67.36/100],\n",
    "              'tau_reio': [0.0544],\n",
    "              'n_s': [val],\n",
    "              'ln10^{10}A_s': [3.101],\n",
    "              }\n",
    "    pred = Cosmo('EE',params)\n",
    "    chi = chi2(Dl_EE,Dl_EE_err_up,Dl_EE_err_bot,pred)\n",
    "    chi2_arr.append(chi)\n",
    "    \n",
    "plt.plot(omch_2_arr,chi2_arr)\n",
    "asd = np.argmin(chi2_arr)\n",
    "vals = omch_2_arr[asd]\n",
    "\n",
    "nen = time.time()\n",
    "print(np.shape(omch_2_arr))\n",
    "print(vals)\n",
    "print((nen-nsa)* 10**3, \"ms\")"
   ]
  },
  {
   "cell_type": "code",
   "execution_count": 105,
   "id": "8fedd558-fe62-46a0-a4ef-0f7a16ab5dde",
   "metadata": {
    "tags": []
   },
   "outputs": [
    {
     "name": "stdout",
     "output_type": "stream",
     "text": [
      "(10,)\n",
      "\n",
      "0.021 0.111 67.22 0.45 0.947 3.02\n",
      "77.10528373718262 ms\n"
     ]
    },
    {
     "data": {
      "image/png": "[encoded data removed]",
      "text/plain": [
       "<Figure size 640x480 with 1 Axes>"
      ]
     },
     "metadata": {},
     "output_type": "display_data"
    }
   ],
   "source": [
    "#parameter\n",
    "par = {\"H0\":67.36, \"ombh2\":0.02237, \"omch2\":0.1200, \"mnu\":0.06, \"omk\":0, \"tau\":0.0544,\"As\":2.101e-9, \"ns\":0.965, \"r\":0}\n",
    "en =10\n",
    "'''omega_b = np.random.uniform(low=0.01875, high=0.02625, size=(10,))\n",
    "omega_cdm = np.random.uniform(low=0.05, high=0.255, size=(10,))\n",
    "h = np.random.uniform(low=0.64, high=0.82, size=(10,))\n",
    "tau_reio = np.random.uniform(low=0.01, high=0.1, size=(10,))\n",
    "n_s = np.random.uniform(low=0.84, high=1.1, size=(10,))\n",
    "lnAs = np.random.uniform(low=1.61, high=3.91, size=(10,))'''\n",
    "omega_b = np.arange(0.021,0.023,0.0002)\n",
    "omega_cdm = np.arange(0.111,0.13,0.002)\n",
    "h = np.arange(67.22,67.4,0.02)\n",
    "tau_reio = np.arange(0.45,0.65,0.02)\n",
    "n_s = np.arange(0.947,0.965,0.002)\n",
    "lnAs = np.arange(3.02,3.2,0.02)\n",
    "\n",
    "nsa = time.time()\n",
    "chi2_arr=[]\n",
    "params = {'omega_b': omega_b,\n",
    "                'omega_cdm': omega_cdm,\n",
    "                'h': h,\n",
    "                'tau_reio': tau_reio,\n",
    "                'n_s': n_s,\n",
    "                'ln10^{10}A_s': lnAs,\n",
    "                }\n",
    "pred = Cosmo('TT',params)\n",
    "for i in range(en):\n",
    "    ened = pred[i]\n",
    "    chi = chi2(Dl_TT,Dl_TT_err_up,Dl_TT_err_bot,ened)\n",
    "    chi2_arr.append(-chi)\n",
    "    \n",
    "plt.plot(h,chi2_arr)\n",
    "asd =0 \n",
    "asd = np.argmin(chi2_arr)\n",
    "#vals = params[asd]\n",
    "nen = time.time()\n",
    "print(np.shape(chi2_arr))\n",
    "print()\n",
    "print(params['omega_b'][asd],params['omega_cdm'][asd],params['h'][asd],params['tau_reio'][asd],params['n_s'][asd],params['ln10^{10}A_s'][asd],)\n",
    "print((nen-nsa)* 10**3, \"ms\")"
   ]
  },
  {
   "cell_type": "code",
   "execution_count": 97,
   "id": "f6b561fd-b003-463d-b52f-aa12344f25c6",
   "metadata": {
    "tags": []
   },
   "outputs": [
    {
     "name": "stdout",
     "output_type": "stream",
     "text": [
      "(10,)\n",
      "(10,)\n",
      "(10,)\n",
      "(10,)\n",
      "(10,)\n",
      "(10,)\n"
     ]
    }
   ],
   "source": [
    "omega_b = np.arange(0.021,0.023,0.0002)\n",
    "omega_cdm = np.arange(0.111,0.13,0.002)\n",
    "h = np.arange(67.22,67.4,0.02)\n",
    "tau_reio = np.arange(0.45,0.65,0.02)\n",
    "n_s = np.arange(0.947,0.965,0.002)\n",
    "lnAs = np.arange(3.02,3.2,0.02)\n",
    "\n",
    "print(np.shape(omega_b))\n",
    "print(np.shape(omega_cdm))\n",
    "print(np.shape(h))\n",
    "print(np.shape(tau_reio))\n",
    "print(np.shape(n_s))\n",
    "print(np.shape(lnAs))\n"
   ]
  },
  {
   "cell_type": "code",
   "execution_count": 12,
   "id": "13c4a97f-cd10-45b2-8e37-053ce6ae861a",
   "metadata": {},
   "outputs": [
    {
     "name": "stdout",
     "output_type": "stream",
     "text": [
      "[3.26733552e-02 2.10111529e-02 1.09862096e-02 ... 1.44014317e-05\n",
      " 1.43071087e-05 1.42130122e-05]\n",
      "[ 1.10437000e-01  3.78300000e-02  1.75461100e-02 ...  1.74441172e+02\n",
      " -2.52188032e+02 -1.83010648e+02]\n"
     ]
    }
   ],
   "source": [
    "pred = Cosmo('EE',params)\n",
    "print(pred)\n",
    "print(Dl_EE)"
   ]
  }
 ],
 "metadata": {
  "kernelspec": {
   "display_name": "Python 3 (ipykernel)",
   "language": "python",
   "name": "python3"
  },
  "language_info": {
   "codemirror_mode": {
    "name": "ipython",
    "version": 3
   },
   "file_extension": ".py",
   "mimetype": "text/x-python",
   "name": "python",
   "nbconvert_exporter": "python",
   "pygments_lexer": "ipython3",
   "version": "3.10.9"
  },
  "toc-showcode": true
 },
 "nbformat": 4,
 "nbformat_minor": 5
}
