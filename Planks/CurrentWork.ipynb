{
 "cells": [
  {
   "cell_type": "markdown",
   "id": "85cd9930-72fe-4ff4-a7ff-096a952a925b",
   "metadata": {},
   "source": [
    "Currently working in it...... # 9 December 2023\n",
    "Currently i have found parameters using 2 varying parameters # single parameters founded"
   ]
  },
  {
   "cell_type": "code",
   "execution_count": 48,
   "id": "1257414c-63f5-4028-baf7-e0f30af2628b",
   "metadata": {
    "tags": []
   },
   "outputs": [],
   "source": [
    "#files to be imported\n",
    "import numpy as np\n",
    "from matplotlib import pyplot as plt\n",
    "import camb\n",
    "from camb import model, initialpower\n",
    "import tensorflow as tf\n",
    "import mpi4py\n",
    "import os ,sys, platform\n",
    "import time\n",
    "import cosmopower as cp\n",
    "import multiprocessing\n",
    "from multiprocessing import Pool\n",
    "import threading\n",
    "import cobaya\n",
    "import emcee"
   ]
  },
  {
   "cell_type": "code",
   "execution_count": 40,
   "id": "a6709d9d-d783-4ea5-8c99-2bcaecbbccf2",
   "metadata": {},
   "outputs": [
    {
     "name": "stdout",
     "output_type": "stream",
     "text": [
      "WARNING:tensorflow:Please fix your imports. Module tensorflow.python.training.tracking.data_structures has been moved to tensorflow.python.trackable.data_structures. The old module will be deleted in version 2.11.\n"
     ]
    }
   ],
   "source": [
    "#Planks Values\n",
    "el = np.loadtxt('planks/COM_PowerSpect_CMB-TT-full_R3.01.txt',usecols = 0, skiprows=1,dtype =float)\n",
    "el_te = np.loadtxt('planks/COM_PowerSpect_CMB-TE-full_R3.01.txt',usecols = 0, skiprows=1,dtype =float)\n",
    "Dl_TT = np.loadtxt('planks/COM_PowerSpect_CMB-TT-full_R3.01.txt',usecols = 1, skiprows=1,dtype =float)\n",
    "Dl_TT_err_up = np.loadtxt('planks/COM_PowerSpect_CMB-TT-full_R3.01.txt',usecols = 3, skiprows=1,dtype =float)\n",
    "Dl_TT_err_bot = np.loadtxt('planks/COM_PowerSpect_CMB-TT-full_R3.01.txt',usecols = 2, skiprows=1,dtype =float)\n",
    "Dl_EE = np.loadtxt('planks/COM_PowerSpect_CMB-EE-full_R3.01.txt',usecols = 1, skiprows=1,dtype =float)\n",
    "Dl_EE_err_up = np.loadtxt('planks/COM_PowerSpect_CMB-EE-full_R3.01.txt',usecols = 3, skiprows=1,dtype =float)\n",
    "Dl_EE_err_bot = np.loadtxt('planks/COM_PowerSpect_CMB-EE-full_R3.01.txt',usecols = 2, skiprows=1,dtype =float)\n",
    "Dl_TE = np.loadtxt('planks/COM_PowerSpect_CMB-TE-full_R3.01.txt',usecols = 1, skiprows=1,dtype =float)\n",
    "Dl_TE_err_up = np.loadtxt('planks/COM_PowerSpect_CMB-TE-full_R3.01.txt',usecols = 3, skiprows=1,dtype =float)\n",
    "Dl_TE_err_bot = np.loadtxt('planks/COM_PowerSpect_CMB-TE-full_R3.01.txt',usecols = 2, skiprows=1,dtype =float)\n",
    "#ells\n",
    "dl_fac = el*(el+1)/(2*np.pi)\n",
    "dl_fac_te = el_te*(el_te+1)/(2*np.pi)\n",
    "#COSMOPOWER\n",
    "tt_emu = cp.cosmopower_NN(restore=True,restore_filename='COSMO/cmb_TT_NN')\n",
    "ee_emu = cp.cosmopower_NN(restore=True,restore_filename='COSMO/cmb_EE_NN')\n",
    "te_emu = cp.cosmopower_PCAplusNN(restore=True,restore_filename='COSMO/cmb_TE_PCAplusNN')"
   ]
  }
 ],
 "metadata": {
  "kernelspec": {
   "display_name": "Python 3 (ipykernel)",
   "language": "python",
   "name": "python3"
  },
  "language_info": {
   "codemirror_mode": {
    "name": "ipython",
    "version": 3
   },
   "file_extension": ".py",
   "mimetype": "text/x-python",
   "name": "python",
   "nbconvert_exporter": "python",
   "pygments_lexer": "ipython3",
   "version": "3.9.7"
  }
 },
 "nbformat": 4,
 "nbformat_minor": 5
}
