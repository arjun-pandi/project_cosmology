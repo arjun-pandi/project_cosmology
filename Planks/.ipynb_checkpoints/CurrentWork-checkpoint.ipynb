{
 "cells": [
  {
   "cell_type": "code",
   "execution_count": 149,
   "id": "1257414c-63f5-4028-baf7-e0f30af2628b",
   "metadata": {
    "tags": []
   },
   "outputs": [],
   "source": [
    "#files to be imported\n",
    "import numpy as np\n",
    "from matplotlib import pyplot as plt\n",
    "import camb\n",
    "from camb import model, initialpower\n",
    "import tensorflow as tf\n",
    "import os ,sys, platform\n",
    "import cosmopower as cp\n",
    "import time\n",
    "from numba import jit, cuda\n",
    "from tqdm import tqdm\n",
    "import multiprocessing"
   ]
  },
  {
   "cell_type": "code",
   "execution_count": 151,
   "id": "a6709d9d-d783-4ea5-8c99-2bcaecbbccf2",
   "metadata": {},
   "outputs": [],
   "source": [
    "Dl_TT = np.loadtxt('planks/COM_PowerSpect_CMB-TT-full_R3.01.txt',usecols = 1, skiprows=1,dtype =float)\n",
    "Dl_TT_err_up = np.loadtxt('planks/COM_PowerSpect_CMB-TT-full_R3.01.txt',usecols = 3, skiprows=1,dtype =float)\n",
    "Dl_TT_err_bot = np.loadtxt('planks/COM_PowerSpect_CMB-TT-full_R3.01.txt',usecols = 2, skiprows=1,dtype =float)\n",
    "Dl_EE = np.loadtxt('planks/COM_PowerSpect_CMB-EE-full_R3.01.txt',usecols = 1, skiprows=1,dtype =float)\n",
    "Dl_EE_err_up = np.loadtxt('planks/COM_PowerSpect_CMB-EE-full_R3.01.txt',usecols = 3, skiprows=1,dtype =float)\n",
    "Dl_EE_err_bot = np.loadtxt('planks/COM_PowerSpect_CMB-EE-full_R3.01.txt',usecols = 2, skiprows=1,dtype =float)\n",
    "Dl_TE = np.loadtxt('planks/COM_PowerSpect_CMB-TE-full_R3.01.txt',usecols = 1, skiprows=1,dtype =float)\n",
    "Dl_TE_err_up = np.loadtxt('planks/COM_PowerSpect_CMB-TE-full_R3.01.txt',usecols = 3, skiprows=1,dtype =float)\n",
    "Dl_TE_err_bot = np.loadtxt('planks/COM_PowerSpect_CMB-TE-full_R3.01.txt',usecols = 2, skiprows=1,dtype =float)"
   ]
  },
  {
   "cell_type": "code",
   "execution_count": 155,
   "id": "1f9ae0d5-24af-4ecf-a4ad-529f1060eda2",
   "metadata": {},
   "outputs": [],
   "source": [
    "#@jit(target_backend='cuda',nopython=True,cache=True, parallel=True,nogil=True) \n",
    "def Cosmo(xe,ze): # function for Cosmopower\n",
    "    if xe == 'TT':\n",
    "        tt_emu = cp.cosmopower_NN(restore=True,restore_filename='COSMO/cmb_TT_NN')\n",
    "        tt_spectra = tt_emu.ten_to_predictions_np(ze)\n",
    "        CO = tt_spectra[0]*1e12 * 2.73**2. #K^2 to uK^2\n",
    "    elif xe == 'EE':\n",
    "        ee_emu = cp.cosmopower_NN(restore=True,restore_filename='COSMO/cmb_EE_NN')\n",
    "        ee_spectra = ee_emu.ten_to_predictions_np(ze)\n",
    "        CA = ee_spectra[0]*1e12 * 2.73**2. #K^2 to uK^2\n",
    "        CO = CA[:1995] #since planks data as only 1995 values \n",
    "    elif xe == 'TE':\n",
    "        te_emu = cp.cosmopower_PCAplusNN(restore=True,restore_filename='COSMO/cmb_TE_PCAplusNN')\n",
    "        te_spectra = te_emu.predictions_np(ze)\n",
    "        CA = te_spectra[0]*1e12 * 2.73**2. #K^2 to uK^2\n",
    "        CO = CA[:1995] #since planks data as only 1995 values \n",
    "    else:\n",
    "        Print('Check Input Range or Data')\n",
    "    return CO\n",
    "\n",
    "\n",
    "def Camb_pp(ell,ell_max,parameter,x,lens_accuracy=0): #Function for CAMb\n",
    "    #camb model pars\n",
    "    pars = camb.CAMBparams()\n",
    "    pars.set_cosmology(H0 = par[\"H0\"], ombh2=par[\"ombh2\"], omch2=par[\"omch2\"], mnu=par[\"mnu\"], omk=par[\"omk\"], tau=par[\"tau\"])\n",
    "    pars.InitPower.set_params(As=par[\"As\"], ns=par[\"ns\"], r=par[\"r\"])\n",
    "    pars.set_for_lmax(ell_max-1, lens_potential_accuracy=float(lens_accuracy));\n",
    "    #camb result and power spectra\n",
    "    camb_results = camb.get_results(pars)\n",
    "    powers = camb_results.get_cmb_power_spectra(pars, CMB_unit=\"muK\")#,raw_cl=True)\n",
    "    \n",
    "    if x == 'TT':\n",
    "        #CAMB TT\n",
    "        cambq = powers['lensed_scalar'][:, 0][2:ell_max]\n",
    "    elif x == 'EE':\n",
    "        #CAMB EE\n",
    "        cambq = powers['lensed_scalar'][:, 1][2:ell_max]\n",
    "    elif x == 'TE':\n",
    "        #CAMB TE\n",
    "        cambq = powers['lensed_scalar'][:, 3][2:ell_max]\n",
    "    else:\n",
    "        #CAMB TE EE\n",
    "        cambq = None  \n",
    "    return cambq \n",
    "\n",
    "def chi2(tre,teu,trb,pred): #chi^2 model\n",
    "    #c = ((tre - pred)**2)/((pred)**2)\n",
    "    c = ((tre - pred)**2)/((teu + trb)**2) # (Real - Model)^2/(Error Up + Error Bottom)^2\n",
    "    chi = np.sum(c)\n",
    "    return chi\n",
    "\n",
    "def time_hr(ms):\n",
    "    seconds = int(ms/100)\n",
    "    minutes = int(seconds/60)\n",
    "    hours = int(minutes/60)\n",
    "    days = int(hours/24)\n",
    "    \n",
    "    sm = int(ms - seconds*100)\n",
    "    s = seconds - minutes*60 \n",
    "    m = minutes - hours*60\n",
    "    h = hours - days*24\n",
    "    \n",
    "    t = [sm,s,m,h,days]\n",
    "    return t\n",
    "    "
   ]
  },
  {
   "cell_type": "code",
   "execution_count": 154,
   "id": "943d54f9-655d-407e-a0b0-1e0454ef2a69",
   "metadata": {},
   "outputs": [
    {
     "name": "stdout",
     "output_type": "stream",
     "text": [
      "The Best Fitted input Value is 0.9990000000000004 having the chi^2 value is 499\n",
      "Total simulations of 500 Executed in : 0 days, 0 Hours, 0 Minute 0 seconds 19 Miliseconds\n"
     ]
    },
    {
     "data": {
      "image/png": "[encoded data removed]",
      "text/plain": [
       "<Figure size 640x480 with 1 Axes>"
      ]
     },
     "metadata": {},
     "output_type": "display_data"
    }
   ],
   "source": [
    "start_time = time.time() #time calculation\n",
    "\n",
    "chi2_arr = [] \n",
    "input_range = np.arange(0.5,1,0.001) #range\n",
    "\n",
    "\n",
    "for val in input_range:    \n",
    "    #params for cosmopower\n",
    "    params = {'omega_b': [0.019],#0.02237],\n",
    "              'omega_cdm': [0.12],#1200],#0.47],#0.1200],\n",
    "              'h': [67.36/100],\n",
    "              'tau_reio': [0.548],#0.0544],\n",
    "              'n_s': [val],#0.83],#0.945],#0.964\n",
    "              'ln10^{10}A_s': [3.0449],#3.629\n",
    "              }\n",
    "    DATA = 'TE' #'TE' or 'EE' or 'TT'\n",
    "    if DATA == 'TT':\n",
    "        pred = Cosmo('TT',params)\n",
    "        chi = chi2(Dl_TT,Dl_TT_err_up,Dl_TT_err_bot,pred)\n",
    "        chi2_arr.append(chi)\n",
    "        \n",
    "    elif DATA == 'TE':\n",
    "        pred = Cosmo('TE',params)\n",
    "        chi = chi2(Dl_TE,Dl_TE_err_up,Dl_TE_err_bot,pred)\n",
    "        chi2_arr.append(chi)\n",
    "    elif DATA == 'EE':\n",
    "        pred = Cosmo('EE',params)\n",
    "        chi = chi2(Dl_EE,Dl_EE_err_up,Dl_EE_err_bot,pred)\n",
    "        chi2_arr.append(chi)\n",
    "        \n",
    "    else:\n",
    "        print('Check DATA Input')\n",
    "\n",
    "end_time = time.time()\n",
    "\n",
    "#plotting  the chi2 and the input value\n",
    "plt.plot(input_range,chi2_arr)\n",
    "plt.xlabel('n_s')#change name based input\n",
    "plt.ylabel('CHI^2')\n",
    "\n",
    "#finding the input value for the  minimum chi2 value\n",
    "min_chi2 = np.argmin(chi2_arr) #position of minimum chi2\n",
    "vals = input_range[min_chi2] #finding Input value of minimum chi2\n",
    "\n",
    "tim = time_hr(end_time - start_time) # finding time for excution\n",
    "total_values = np.shape(input_range)[0]\n",
    "\n",
    "print('The Best Fitted input Value is', vals,'having the chi^2 value is',min_chi2 )\n",
    "print( 'Total simulations of',total_values,'Executed in :',tim[4],'days,',tim[3],'Hours,',tim[2] ,'Minute',tim[1],'seconds',tim[0],'Miliseconds')"
   ]
  },
  {
   "cell_type": "markdown",
   "id": "cb5110a5-7d3f-4240-ad55-6cbc436784f6",
   "metadata": {},
   "source": [
    "i have runned this values and found this parameters but #might have errors used TE values to calculate\n",
    "'omega_b': 0.019\n",
    "'omega_cdm': 0.47\n",
    "'tau_reio': 0.548\n",
    "'n_s': 0.83,0.964\n",
    "'ln10^{10}A_s': 3.629\n"
   ]
  },
  {
   "cell_type": "markdown",
   "id": "c770ca44-412f-4fcc-9695-a529260ab873",
   "metadata": {},
   "source": [
    "I have tried compute same above for te tt and ee and taking average. the below codes is same as above.\n"
   ]
  },
  {
   "cell_type": "code",
   "execution_count": 157,
   "id": "d913b2fe-9bf8-4a2a-821b-ae76f81e7b5d",
   "metadata": {
    "tags": []
   },
   "outputs": [
    {
     "name": "stdout",
     "output_type": "stream",
     "text": [
      "The Best Fitted input Value is TT 0.05 having the chi^2 value is 0\n",
      "The Best Fitted input Value is EE 0.05 having the chi^2 value is 0\n",
      "The Best Fitted input Value is TE 0.059900000000000286 having the chi^2 value is 99\n",
      "Total simulations of 100 Executed in : 0 days, 0 Hours, 0 Minute 0 seconds 12 Miliseconds\n"
     ]
    },
    {
     "data": {
      "image/png": "[encoded data removed]",
      "text/plain": [
       "<Figure size 640x480 with 1 Axes>"
      ]
     },
     "metadata": {},
     "output_type": "display_data"
    }
   ],
   "source": [
    "start_time = time.time() #time calculation\n",
    "chi2_arr_TTE = [[],[],[]]\n",
    "input_range = np.arange(0.05,0.06,0.0001) #range\n",
    "for val in input_range:    \n",
    "    #params for cosmopower\n",
    "    params = {'omega_b': [0.019],#0.02237],\n",
    "              'omega_cdm': [0.12],#1200],#0.47],#0.1200],\n",
    "              'h': [67.36/100],\n",
    "              'tau_reio': [val],#0.0544],\n",
    "              'n_s': [0.945],#0.83],#0.945],#0.964\n",
    "              'ln10^{10}A_s': [3.0449],#3.629\n",
    "              }\n",
    "\n",
    "    pred_TT = Cosmo('TT',params)\n",
    "    chi_TT = chi2(Dl_TT,Dl_TT_err_up,Dl_TT_err_bot,pred_TT)\n",
    "    chi2_arr_TTE[0].append(chi)\n",
    "        \n",
    "    pred_TE = Cosmo('TE',params)\n",
    "    chi_TE = chi2(Dl_TE,Dl_TE_err_up,Dl_TE_err_bot,pred_TE)\n",
    "    chi2_arr_TTE[1].append(chi_TE)\n",
    "    \n",
    "    pred_EE = Cosmo('EE',params)\n",
    "    chi_EE = chi2(Dl_EE,Dl_EE_err_up,Dl_EE_err_bot,pred)\n",
    "    chi2_arr_TTE[2].append(chi_EE)\n",
    "        \n",
    "    \n",
    "\n",
    "end_time = time.time()\n",
    "\n",
    "'''#plotting  the chi2 and the input value\n",
    "plt.plot(input_range,chi2_arr)\n",
    "plt.xlabel('n_s')#change name based input\n",
    "plt.ylabel('CHI^2')\n",
    "'''\n",
    "#finding the input value for the  minimum chi2 value\n",
    "min_chi2_TT = np.argmin(chi2_arr_TTE[0]) #position of minimum chi2\n",
    "vals_TT = input_range[min_chi2_TT] #finding Input value of minimum chi2\n",
    "#finding the input value for the  minimum chi2 value\n",
    "min_chi2_EE = np.argmin(chi2_arr_TTE[2]) #position of minimum chi2\n",
    "vals_EE = input_range[min_chi2_EE] #finding Input value of minimum chi2\n",
    "#finding the input value for the  minimum chi2 value\n",
    "min_chi2_TE = np.argmin(chi2_arr_TTE[1]) #position of minimum chi2\n",
    "vals_TE = input_range[min_chi2_TE] #finding Input value of minimum chi2\n",
    "\n",
    "tim = time_hr(end_time - start_time) # finding time for excution\n",
    "total_values = np.shape(input_range)[0]\n",
    "\n",
    "plt.plot(input_range,chi2_arr_TTE[0], color='green',  linestyle='dashed')\n",
    "#plt.plot(input_range,chi2_arr_TTE[1], color='blue',  linestyle='dotted')\n",
    "#plt.plot(input_range,chi2_arr_TTE[2], color='red')\n",
    "print('The Best Fitted input Value is','TT' ,vals_TT ,'having the chi^2 value is',min_chi2_TT )\n",
    "print('The Best Fitted input Value is','EE' ,vals_EE ,'having the chi^2 value is',min_chi2_EE )\n",
    "print('The Best Fitted input Value is','TE' ,vals_TE ,'having the chi^2 value is',min_chi2_TE )\n",
    "print( 'Total simulations of',total_values,'Executed in :',tim[4],'days,',tim[3],'Hours,',tim[2] ,'Minute',tim[1],'seconds',tim[0],'Miliseconds')"
   ]
  }
 ],
 "metadata": {
  "kernelspec": {
   "display_name": "Python 3 (ipykernel)",
   "language": "python",
   "name": "python3"
  },
  "language_info": {
   "codemirror_mode": {
    "name": "ipython",
    "version": 3
   },
   "file_extension": ".py",
   "mimetype": "text/x-python",
   "name": "python",
   "nbconvert_exporter": "python",
   "pygments_lexer": "ipython3",
   "version": "3.10.9"
  }
 },
 "nbformat": 4,
 "nbformat_minor": 5
}
