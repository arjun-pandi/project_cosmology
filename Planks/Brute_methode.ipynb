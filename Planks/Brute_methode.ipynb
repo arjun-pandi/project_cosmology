{
 "cells": [
  {
   "cell_type": "code",
   "execution_count": 1,
   "id": "2c65cea5-fc69-4982-a1ce-bcf4b0745d19",
   "metadata": {},
   "outputs": [],
   "source": [
    "#files to be imported\n",
    "import numpy as np\n",
    "from matplotlib import pyplot as plt\n",
    "\n",
    "import os ,sys, platform\n",
    "import time\n",
    "import cosmopower as cp"
   ]
  },
  {
   "cell_type": "code",
   "execution_count": 2,
   "id": "7bc0cd2f-1c45-4ee2-902f-53184cab89af",
   "metadata": {},
   "outputs": [
    {
     "name": "stdout",
     "output_type": "stream",
     "text": [
      "WARNING:tensorflow:Please fix your imports. Module tensorflow.python.training.tracking.data_structures has been moved to tensorflow.python.trackable.data_structures. The old module will be deleted in version 2.11.\n"
     ]
    }
   ],
   "source": [
    "#Planks Values\n",
    "el = np.loadtxt('planks/COM_PowerSpect_CMB-TT-full_R3.01.txt',usecols = 0, skiprows=1,dtype =float)\n",
    "el_te = np.loadtxt('planks/COM_PowerSpect_CMB-TE-full_R3.01.txt',usecols = 0, skiprows=1,dtype =float)\n",
    "Dl_TT = np.loadtxt('planks/COM_PowerSpect_CMB-TT-full_R3.01.txt',usecols = 1, skiprows=1,dtype =float)\n",
    "Dl_TT_err_up = np.loadtxt('planks/COM_PowerSpect_CMB-TT-full_R3.01.txt',usecols = 3, skiprows=1,dtype =float)\n",
    "Dl_TT_err_bot = np.loadtxt('planks/COM_PowerSpect_CMB-TT-full_R3.01.txt',usecols = 2, skiprows=1,dtype =float)\n",
    "Dl_EE = np.loadtxt('planks/COM_PowerSpect_CMB-EE-full_R3.01.txt',usecols = 1, skiprows=1,dtype =float)\n",
    "Dl_EE_err_up = np.loadtxt('planks/COM_PowerSpect_CMB-EE-full_R3.01.txt',usecols = 3, skiprows=1,dtype =float)\n",
    "Dl_EE_err_bot = np.loadtxt('planks/COM_PowerSpect_CMB-EE-full_R3.01.txt',usecols = 2, skiprows=1,dtype =float)\n",
    "Dl_TE = np.loadtxt('planks/COM_PowerSpect_CMB-TE-full_R3.01.txt',usecols = 1, skiprows=1,dtype =float)\n",
    "Dl_TE_err_up = np.loadtxt('planks/COM_PowerSpect_CMB-TE-full_R3.01.txt',usecols = 3, skiprows=1,dtype =float)\n",
    "Dl_TE_err_bot = np.loadtxt('planks/COM_PowerSpect_CMB-TE-full_R3.01.txt',usecols = 2, skiprows=1,dtype =float)\n",
    "#ells\n",
    "dl_fac = el*(el+1)/(2*np.pi)\n",
    "dl_fac_te = el_te*(el_te+1)/(2*np.pi)\n",
    "#COSMOPOWER\n",
    "tt_emu = cp.cosmopower_NN(restore=True,restore_filename='COSMO/cmb_TT_NN')\n",
    "ee_emu = cp.cosmopower_NN(restore=True,restore_filename='COSMO/cmb_EE_NN')\n",
    "te_emu = cp.cosmopower_PCAplusNN(restore=True,restore_filename='COSMO/cmb_TE_PCAplusNN')"
   ]
  },
  {
   "cell_type": "code",
   "execution_count": 3,
   "id": "575ceb92-14b2-4786-a25c-ffdee6a4a7b3",
   "metadata": {},
   "outputs": [],
   "source": [
    "def chi2(tre,teu,trb,pred): #chi^2 model\n",
    "    #c = ((tre - pred)**2)/((pred)**2)\n",
    "    c = ((tre - pred)**2)/((teu + trb)**2) # (Real - Model)^2/(Error Up + Error Bottom)^2\n",
    "    chi = np.sum(c)\n",
    "    return chi\n",
    "\n",
    "#time ms to order of time\n",
    "def time_hr(ms):\n",
    "    ssm = ms*100\n",
    "    seconds = int(ssm/100)\n",
    "    minutes = int(seconds/60)\n",
    "    hours = int(minutes/60)\n",
    "    days = int(hours/24)\n",
    "    sm = int(ssm - seconds*100)\n",
    "    s = seconds - minutes*60 \n",
    "    m = minutes - hours*60\n",
    "    h = hours - days*24\n",
    "    t = [sm,s,m,h,days]\n",
    "    xi = ''\n",
    "    if days == h == m == s == 0 :\n",
    "        xi = str(sm) +'ms '\n",
    "    elif days == h == m == 0:\n",
    "        xi = str(s) +'s ' + str(sm) +' ms'\n",
    "    elif days == h == 0:\n",
    "        xi = str(m) + ' min ' + str(s) +'s ' + str(sm) +' ms'\n",
    "    elif days == 0:\n",
    "        xi = str(h) + 'hrs '+str(m) + 'min '+str(s) +'s ' + str(sm) +' ms'\n",
    "    else :\n",
    "        xi = str(days) +'days ' + str(h) + 'hrs '+str(m) + 'min '+str(s) +'s ' + str(sm) +' ms' \n",
    "    return xi #time \n",
    "\n",
    "def Find_val(inputrange,array):\n",
    "    #finding the input value for the  minimum chi2 value\n",
    "    min_chi2 = np.argmin(array) #position of minimum chi2\n",
    "    vals = inputrange[min_chi2] #finding Input value of minimum chi2\n",
    "    return vals\n",
    "\n",
    "def Cosmo(xe,ze): # function for Cosmopower\n",
    "    if xe == 'TT':\n",
    "        tt_spectra = tt_emu.ten_to_predictions_np(ze)\n",
    "        CO = tt_spectra[0]*1e12 * 2.73**2. #K^2 to uK^2\n",
    "    elif xe == 'EE':\n",
    "        ee_spectra = ee_emu.ten_to_predictions_np(ze)\n",
    "        CA = ee_spectra[0]*1e12 * 2.73**2. #K^2 to uK^2\n",
    "        CO = CA[:1995] #since planks data as only 1995 values \n",
    "    elif xe == 'TE':\n",
    "        te_spectra = te_emu.predictions_np(ze)\n",
    "        CA = te_spectra[0]*1e12 * 2.73**2. #K^2 to uK^2\n",
    "        CO = CA[:1995] #since planks data as only 1995 values \n",
    "    else:\n",
    "        Print('Check Input Range or Data')\n",
    "    return CO\n",
    "\n",
    "def Cosmo_Power(omb,omc,h,tau,ns,As): #function for single value cosmopower\n",
    "    DET = 'TT'\n",
    "    params = {'omega_b': [omb],'omega_cdm': [omc],'h': [h/100],'tau_reio': [tau],'n_s': [ns],'ln10^{10}A_s': [np.log( 10**10 *(As*1e-9) )],}\n",
    "    Para = [omb,omc,h,tau,ns,As]\n",
    "    if DET=='TT':\n",
    "        pred = Cosmo('TT',params)*dl_fac\n",
    "        chi = chi2(Dl_TT*dl_fac,Dl_TT_err_up*dl_fac,Dl_TT_err_bot*dl_fac,pred*dl_fac)\n",
    "    elif DET=='TE':\n",
    "        pred = Cosmo('TE',params)*dl_fac_te\n",
    "        chi = chi2(Dl_TE,Dl_TE_err_up,Dl_TE_err_bot,pred)\n",
    "    elif DET=='EE':\n",
    "        pred = Cosmo('EE',params)*dl_fac_te\n",
    "        chi = chi2(Dl_EE,Dl_EE_err_up,Dl_EE_err_bot,pred)\n",
    "    reference = [omb,omc,h,tau,ns,As,chi]\n",
    "    return chi #parameter, prediction , chi value\n",
    "\n",
    "def Variable(max,min,var):#finds the variation\n",
    "    return ((max-min)*var)\n",
    "    \n",
    "def array_generator(Par_vars): #generates an array for array of input\n",
    "    para_array = []\n",
    "    for i in range(2):#np.arange(Par_vars[0][1],Par_vars[0][0],Par_vars[0][2]):\n",
    "        para_arrays = []\n",
    "        for j in np.arange(Par_vars[1][1],Par_vars[1][0],Par_vars[1][2]):\n",
    "            for k in np.arange(Par_vars[2][1],Par_vars[2][0],Par_vars[2][2]):\n",
    "                for l in np.arange(Par_vars[3][1],Par_vars[3][0],Par_vars[3][2]):\n",
    "                    for m in np.arange(Par_vars[4][1],Par_vars[4][0],Par_vars[4][2]):\n",
    "                        for n in np.arange(Par_vars[5][1],Par_vars[5][0],Par_vars[5][2]):\n",
    "                            ss = [i,j,k,l,m,n]\n",
    "                            para_array.append(ss)\n",
    "                            para_arrays.append(ss)\n",
    "        np.save('Brute/Par_arr'+i,para_arrays)\n",
    "    return para_array\n",
    "\n"
   ]
  },
  {
   "cell_type": "code",
   "execution_count": 4,
   "id": "aae08416-4275-4db4-937d-7cb4686c42dc",
   "metadata": {},
   "outputs": [],
   "source": [
    "#varing 6 parameters\n",
    "omb_min = 0.01\n",
    "omb_max = 0.04\n",
    "omc_min = 0.01\n",
    "omc_max = 0.4\n",
    "h_min = 50\n",
    "h_max = 90\n",
    "tau_min = 0.01\n",
    "tau_max = 0.09\n",
    "ns_min = 0.3\n",
    "ns_max = 1.5\n",
    "As_min = 1.5\n",
    "As_max = 3\n",
    "Varying = 0.01"
   ]
  },
  {
   "cell_type": "code",
   "execution_count": 5,
   "id": "b5876720-d96c-4185-85c3-7c92a36cc017",
   "metadata": {},
   "outputs": [],
   "source": [
    "def random_par(parnumber,array,shapes=False):\n",
    "    nr = np.arange(array[parnumber][1],array[parnumber][0],array[parnumber][2])\n",
    "    shape = np.shape(nr)[0]\n",
    "    random = np.random.randint(shape)\n",
    "    par = nr[random]\n",
    "    if shapes == True:\n",
    "        return shape\n",
    "    else:\n",
    "        return par\n",
    "def pos(parnumber,value,array):\n",
    "    nr = np.arange(array[parnumber][1],array[parnumber][0],array[parnumber][2])\n",
    "    index = np.where(nr==value)\n",
    "    return index\n",
    "\n",
    "def pos_par(par,array):\n",
    "    poss = [] \n",
    "    for i in range(6):\n",
    "        poss.append(pos(i,par[i],array)[0][0])\n",
    "    position = poss[0]*poss[1]*poss[2]*poss[3]*poss[4]*poss[5]\n",
    "    return position\n",
    "    \n",
    "    \n",
    "def random_pars(count,par_array):\n",
    "    array = []\n",
    "    \n",
    "    for j in range(count):\n",
    "        par = []\n",
    "        for i in range(6):\n",
    "            par.append(random_par(i,par_array))\n",
    "        array.append(par)\n",
    "    return array\n",
    "    \n",
    "def pos_chi(count,par_arr):\n",
    "    pos_chi = []\n",
    "    for i in random_pars(10,Par_var):\n",
    "        chi = Cosmo_Power(i[0],i[1],i[2],i[3],i[4],i[5])\n",
    "        pso = pos_par(i,Par_var)\n",
    "        pos_chi.append([pso,chi])\n",
    "    return pos_chi\n",
    "\n",
    "def likkili(pos_ch,Pa):\n",
    "    sha = random_par(0,Pa,True)*random_par(1,Pa,True)*random_par(2,Pa,True)*random_par(3,Pa,True)*random_par(4,Pa,True)*random_par(5,Pa,True)\n",
    "    shas = np.empty(sha)\n",
    "    shas.fill(0)\n",
    "    for i in pos_ch:\n",
    "        shas[i[0]] = i[1]\n",
    "\n",
    "    return shas"
   ]
  },
  {
   "cell_type": "code",
   "execution_count": null,
   "id": "98e3a1ae-5259-4ccc-b38b-d68f89b45085",
   "metadata": {},
   "outputs": [],
   "source": [
    "Par_var = [[omb_max,omb_min,Variable(omb_max,omb_min,Varying)],\n",
    "                 [omc_max,omc_min,Variable(omc_max,omc_min,Varying)],\n",
    "                 [h_max,h_min,Variable(h_max,h_min,Varying)],\n",
    "                 [tau_max,tau_min,Variable(tau_max,tau_min,Varying)],\n",
    "                 [ns_max,ns_min,Variable(ns_max,ns_min,Varying)],\n",
    "                 [As_max,As_min,Variable(As_max,As_min,Varying)]]\n",
    "\n",
    "\n",
    "sr = array_generator(Par_var)"
   ]
  },
  {
   "cell_type": "code",
   "execution_count": 376,
   "id": "9e4598d6-901f-472b-a044-ced331f65f5c",
   "metadata": {},
   "outputs": [
    {
     "ename": "MemoryError",
     "evalue": "Unable to allocate 6.94 EiB for an array with shape (1000000000000000000,) and data type float64",
     "output_type": "error",
     "traceback": [
      "\u001b[1;31m---------------------------------------------------------------------------\u001b[0m",
      "\u001b[1;31mMemoryError\u001b[0m                               Traceback (most recent call last)",
      "Cell \u001b[1;32mIn[376], line 1\u001b[0m\n\u001b[1;32m----> 1\u001b[0m \u001b[38;5;28mprint\u001b[39m(\u001b[43mlikkili\u001b[49m\u001b[43m(\u001b[49m\u001b[43mpss\u001b[49m\u001b[43m,\u001b[49m\u001b[43mPar_var\u001b[49m\u001b[43m)\u001b[49m)\n",
      "Cell \u001b[1;32mIn[374], line 51\u001b[0m, in \u001b[0;36mlikkili\u001b[1;34m(pos_ch, Pa)\u001b[0m\n\u001b[0;32m     49\u001b[0m \u001b[38;5;28;01mdef\u001b[39;00m \u001b[38;5;21mlikkili\u001b[39m(pos_ch,Pa):\n\u001b[0;32m     50\u001b[0m     sha \u001b[38;5;241m=\u001b[39m random_par(\u001b[38;5;241m0\u001b[39m,Pa,\u001b[38;5;28;01mTrue\u001b[39;00m)\u001b[38;5;241m*\u001b[39mrandom_par(\u001b[38;5;241m1\u001b[39m,Pa,\u001b[38;5;28;01mTrue\u001b[39;00m)\u001b[38;5;241m*\u001b[39mrandom_par(\u001b[38;5;241m2\u001b[39m,Pa,\u001b[38;5;28;01mTrue\u001b[39;00m)\u001b[38;5;241m*\u001b[39mrandom_par(\u001b[38;5;241m3\u001b[39m,Pa,\u001b[38;5;28;01mTrue\u001b[39;00m)\u001b[38;5;241m*\u001b[39mrandom_par(\u001b[38;5;241m4\u001b[39m,Pa,\u001b[38;5;28;01mTrue\u001b[39;00m)\u001b[38;5;241m*\u001b[39mrandom_par(\u001b[38;5;241m5\u001b[39m,Pa,\u001b[38;5;28;01mTrue\u001b[39;00m)\n\u001b[1;32m---> 51\u001b[0m     shas \u001b[38;5;241m=\u001b[39m \u001b[43mnp\u001b[49m\u001b[38;5;241;43m.\u001b[39;49m\u001b[43mempty\u001b[49m\u001b[43m(\u001b[49m\u001b[43msha\u001b[49m\u001b[43m)\u001b[49m\n\u001b[0;32m     52\u001b[0m     shas\u001b[38;5;241m.\u001b[39mfill(\u001b[38;5;241m0\u001b[39m)\n\u001b[0;32m     53\u001b[0m     \u001b[38;5;28;01mfor\u001b[39;00m i \u001b[38;5;129;01min\u001b[39;00m pos_ch:\n",
      "\u001b[1;31mMemoryError\u001b[0m: Unable to allocate 6.94 EiB for an array with shape (1000000000000000000,) and data type float64"
     ]
    }
   ],
   "source": [
    "print(likkili(pss,Par_var))"
   ]
  },
  {
   "cell_type": "code",
   "execution_count": null,
   "id": "6fe51245-7431-47d5-a7ad-0771a2c95088",
   "metadata": {},
   "outputs": [],
   "source": [
    "np.save('Parameter_array_all_by_one_thousand',array_geb)"
   ]
  },
  {
   "cell_type": "code",
   "execution_count": null,
   "id": "a7d22415-f30b-4744-aec0-7bfdddc74eea",
   "metadata": {},
   "outputs": [],
   "source": [
    "def brute_force(array,lesa = False):\n",
    "    reference = [[],[],[],[],[],[],[]]\n",
    "    chi_array = []\n",
    "    for i in array:\n",
    "        chi = Cosmo_Power(i[0],i[1],i[2],i[3],i[4],i[5])\n",
    "        for j in range(6):\n",
    "            reference[j].append(i[j])\n",
    "        reference[6].append(chi)\n",
    "        chi_array.append(chi)\n",
    "    least_par = [Find_val(reference[0],reference[6]),\n",
    "                 Find_val(reference[1],reference[6]),\n",
    "                 Find_val(reference[2],reference[6]),\n",
    "                 Find_val(reference[3],reference[6]),\n",
    "                 Find_val(reference[4],reference[6]),\n",
    "                 Find_val(reference[5],reference[6]),]\n",
    "    if lesa == True:\n",
    "        return least_par,reference\n",
    "    else : \n",
    "        return chi_array"
   ]
  },
  {
   "cell_type": "code",
   "execution_count": 2,
   "id": "1d0e031e-dcba-46fb-af75-09d91f7e1959",
   "metadata": {},
   "outputs": [
    {
     "name": "stderr",
     "output_type": "stream",
     "text": [
      "<>:2: SyntaxWarning: list indices must be integers or slices, not tuple; perhaps you missed a comma?\n",
      "<>:2: SyntaxWarning: list indices must be integers or slices, not tuple; perhaps you missed a comma?\n",
      "C:\\Users\\ELAKIA\\AppData\\Local\\Temp\\ipykernel_15892\\2061005545.py:2: SyntaxWarning: list indices must be integers or slices, not tuple; perhaps you missed a comma?\n",
      "  pars_aray = [['omb','omc']\n",
      "C:\\Users\\ELAKIA\\AppData\\Local\\Temp\\ipykernel_15892\\2061005545.py:2: SyntaxWarning: list indices must be integers or slices, not tuple; perhaps you missed a comma?\n",
      "  pars_aray = [['omb','omc']\n",
      "C:\\Users\\ELAKIA\\AppData\\Local\\Temp\\ipykernel_15892\\2061005545.py:2: SyntaxWarning: list indices must be integers or slices, not tuple; perhaps you missed a comma?\n",
      "  pars_aray = [['omb','omc']\n"
     ]
    },
    {
     "ename": "TypeError",
     "evalue": "list indices must be integers or slices, not tuple",
     "output_type": "error",
     "traceback": [
      "\u001b[1;31m---------------------------------------------------------------------------\u001b[0m",
      "\u001b[1;31mTypeError\u001b[0m                                 Traceback (most recent call last)",
      "Cell \u001b[1;32mIn[2], line 2\u001b[0m\n\u001b[0;32m      1\u001b[0m pars \u001b[38;5;241m=\u001b[39m [\u001b[38;5;124m\"\u001b[39m\u001b[38;5;124momb\u001b[39m\u001b[38;5;124m\"\u001b[39m,\u001b[38;5;124m\"\u001b[39m\u001b[38;5;124momc\u001b[39m\u001b[38;5;124m\"\u001b[39m,\u001b[38;5;124m\"\u001b[39m\u001b[38;5;124mh\u001b[39m\u001b[38;5;124m\"\u001b[39m,\u001b[38;5;124m\"\u001b[39m\u001b[38;5;124mtau\u001b[39m\u001b[38;5;124m\"\u001b[39m,\u001b[38;5;124m\"\u001b[39m\u001b[38;5;124mns\u001b[39m\u001b[38;5;124m\"\u001b[39m,\u001b[38;5;124m\"\u001b[39m\u001b[38;5;124mas\u001b[39m\u001b[38;5;124m\"\u001b[39m]\n\u001b[1;32m----> 2\u001b[0m pars_aray \u001b[38;5;241m=\u001b[39m [\u001b[43m[\u001b[49m\u001b[38;5;124;43m'\u001b[39;49m\u001b[38;5;124;43momb\u001b[39;49m\u001b[38;5;124;43m'\u001b[39;49m\u001b[43m,\u001b[49m\u001b[38;5;124;43m'\u001b[39;49m\u001b[38;5;124;43momc\u001b[39;49m\u001b[38;5;124;43m'\u001b[39;49m\u001b[43m]\u001b[49m\n\u001b[0;32m      3\u001b[0m \u001b[43m             \u001b[49m\u001b[43m[\u001b[49m\u001b[38;5;124;43m'\u001b[39;49m\u001b[38;5;124;43mh\u001b[39;49m\u001b[38;5;124;43m'\u001b[39;49m\u001b[43m,\u001b[49m\u001b[38;5;124;43m'\u001b[39;49m\u001b[38;5;124;43momb\u001b[39;49m\u001b[38;5;124;43m'\u001b[39;49m\u001b[43m]\u001b[49m, [\u001b[38;5;124m'\u001b[39m\u001b[38;5;124mh\u001b[39m\u001b[38;5;124m'\u001b[39m,\u001b[38;5;124m'\u001b[39m\u001b[38;5;124momc\u001b[39m\u001b[38;5;124m'\u001b[39m],[\u001b[38;5;124m'\u001b[39m\u001b[38;5;124mns\u001b[39m\u001b[38;5;124m'\u001b[39m,\u001b[38;5;124m'\u001b[39m\u001b[38;5;124mtau\u001b[39m\u001b[38;5;124m'\u001b[39m],[\u001b[38;5;124m'\u001b[39m\u001b[38;5;124mas\u001b[39m\u001b[38;5;124m'\u001b[39m,\u001b[38;5;124m'\u001b[39m\u001b[38;5;124mtau\u001b[39m\u001b[38;5;124m'\u001b[39m],\n\u001b[0;32m      4\u001b[0m              [\u001b[38;5;124m'\u001b[39m\u001b[38;5;124mtau\u001b[39m\u001b[38;5;124m'\u001b[39m,\u001b[38;5;124m'\u001b[39m\u001b[38;5;124momb\u001b[39m\u001b[38;5;124m'\u001b[39m],[\u001b[38;5;124m'\u001b[39m\u001b[38;5;124mtau\u001b[39m\u001b[38;5;124m'\u001b[39m,\u001b[38;5;124m'\u001b[39m\u001b[38;5;124momc\u001b[39m\u001b[38;5;124m'\u001b[39m],\n\u001b[0;32m      5\u001b[0m              [\u001b[38;5;124m'\u001b[39m\u001b[38;5;124mns\u001b[39m\u001b[38;5;124m'\u001b[39m,\u001b[38;5;124m'\u001b[39m\u001b[38;5;124momb\u001b[39m\u001b[38;5;124m'\u001b[39m], [\u001b[38;5;124m'\u001b[39m\u001b[38;5;124mns\u001b[39m\u001b[38;5;124m'\u001b[39m,\u001b[38;5;124m'\u001b[39m\u001b[38;5;124momc\u001b[39m\u001b[38;5;124m'\u001b[39m], [\u001b[38;5;124m'\u001b[39m\u001b[38;5;124mns\u001b[39m\u001b[38;5;124m'\u001b[39m,\u001b[38;5;124m'\u001b[39m\u001b[38;5;124mh\u001b[39m\u001b[38;5;124m'\u001b[39m], [\u001b[38;5;124m'\u001b[39m\u001b[38;5;124mns\u001b[39m\u001b[38;5;124m'\u001b[39m,\u001b[38;5;124m'\u001b[39m\u001b[38;5;124mtau\u001b[39m\u001b[38;5;124m'\u001b[39m],\n\u001b[0;32m      6\u001b[0m              [\u001b[38;5;124m'\u001b[39m\u001b[38;5;124mas\u001b[39m\u001b[38;5;124m'\u001b[39m,\u001b[38;5;124m'\u001b[39m\u001b[38;5;124momb\u001b[39m\u001b[38;5;124m'\u001b[39m], [\u001b[38;5;124m'\u001b[39m\u001b[38;5;124mas\u001b[39m\u001b[38;5;124m'\u001b[39m,\u001b[38;5;124m'\u001b[39m\u001b[38;5;124momc\u001b[39m\u001b[38;5;124m'\u001b[39m], [\u001b[38;5;124m'\u001b[39m\u001b[38;5;124mas\u001b[39m\u001b[38;5;124m'\u001b[39m,\u001b[38;5;124m'\u001b[39m\u001b[38;5;124mh\u001b[39m\u001b[38;5;124m'\u001b[39m], [\u001b[38;5;124m'\u001b[39m\u001b[38;5;124mas\u001b[39m\u001b[38;5;124m'\u001b[39m,\u001b[38;5;124m'\u001b[39m\u001b[38;5;124mtau\u001b[39m\u001b[38;5;124m'\u001b[39m],[\u001b[38;5;124m'\u001b[39m\u001b[38;5;124mas\u001b[39m\u001b[38;5;124m'\u001b[39m,\u001b[38;5;124m'\u001b[39m\u001b[38;5;124mns\u001b[39m\u001b[38;5;124m'\u001b[39m]]\n",
      "\u001b[1;31mTypeError\u001b[0m: list indices must be integers or slices, not tuple"
     ]
    }
   ],
   "source": []
  },
  {
   "cell_type": "code",
   "execution_count": null,
   "id": "bd8cf11f-8c65-4400-ae50-531ec4bf2803",
   "metadata": {},
   "outputs": [],
   "source": []
  }
 ],
 "metadata": {
  "kernelspec": {
   "display_name": "Python 3 (ipykernel)",
   "language": "python",
   "name": "python3"
  },
  "language_info": {
   "codemirror_mode": {
    "name": "ipython",
    "version": 3
   },
   "file_extension": ".py",
   "mimetype": "text/x-python",
   "name": "python",
   "nbconvert_exporter": "python",
   "pygments_lexer": "ipython3",
   "version": "3.9.7"
  }
 },
 "nbformat": 4,
 "nbformat_minor": 5
}
